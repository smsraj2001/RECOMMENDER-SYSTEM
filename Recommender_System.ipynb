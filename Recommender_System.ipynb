{
 "cells": [
  {
   "cell_type": "code",
   "execution_count": 1,
   "metadata": {
    "colab": {
     "base_uri": "https://localhost:8080/"
    },
    "id": "Mb1CWuWBUMzb",
    "outputId": "b709d9e7-a480-47dd-8c60-7605f56cb5d7",
    "tags": []
   },
   "outputs": [
    {
     "name": "stdout",
     "output_type": "stream",
     "text": [
      "Requirement already satisfied: scikit-surprise in c:\\users\\sutha\\appdata\\local\\programs\\python\\python310\\lib\\site-packages (1.1.3)\n",
      "Requirement already satisfied: recmetrics in c:\\users\\sutha\\appdata\\local\\programs\\python\\python310\\lib\\site-packages (0.1.5)\n",
      "Requirement already satisfied: pandas in c:\\users\\sutha\\appdata\\local\\programs\\python\\python310\\lib\\site-packages (1.5.2)\n",
      "Requirement already satisfied: numpy in c:\\users\\sutha\\appdata\\local\\programs\\python\\python310\\lib\\site-packages (1.23.5)\n",
      "Requirement already satisfied: matplotlib in c:\\users\\sutha\\appdata\\local\\programs\\python\\python310\\lib\\site-packages (3.6.2)\n",
      "Requirement already satisfied: joblib>=1.0.0 in c:\\users\\sutha\\appdata\\local\\programs\\python\\python310\\lib\\site-packages (from scikit-surprise) (1.2.0)\n",
      "Requirement already satisfied: scipy>=1.3.2 in c:\\users\\sutha\\appdata\\local\\programs\\python\\python310\\lib\\site-packages (from scikit-surprise) (1.9.3)\n",
      "Requirement already satisfied: funcsigs<2.0.0,>=1.0.2 in c:\\users\\sutha\\appdata\\local\\programs\\python\\python310\\lib\\site-packages (from recmetrics) (1.0.2)\n",
      "Requirement already satisfied: ipython<8.0.0,>=7.18.1 in c:\\users\\sutha\\appdata\\local\\programs\\python\\python310\\lib\\site-packages (from recmetrics) (7.34.0)\n",
      "Requirement already satisfied: jupyter<2.0.0,>=1.0.0 in c:\\users\\sutha\\appdata\\local\\programs\\python\\python310\\lib\\site-packages (from recmetrics) (1.0.0)\n",
      "Requirement already satisfied: plotly<5.0.0,>=4.11.0 in c:\\users\\sutha\\appdata\\local\\programs\\python\\python310\\lib\\site-packages (from recmetrics) (4.14.3)\n",
      "Requirement already satisfied: pytest-cov<3.0.0,>=2.10.1 in c:\\users\\sutha\\appdata\\local\\programs\\python\\python310\\lib\\site-packages (from recmetrics) (2.12.1)\n",
      "Requirement already satisfied: scikit-learn<2.0.0,>=1.0.2 in c:\\users\\sutha\\appdata\\local\\programs\\python\\python310\\lib\\site-packages (from recmetrics) (1.1.3)\n",
      "Requirement already satisfied: seaborn<0.12.0,>=0.11.0 in c:\\users\\sutha\\appdata\\local\\programs\\python\\python310\\lib\\site-packages (from recmetrics) (0.11.2)\n",
      "Requirement already satisfied: twine<5.0.0,>=4.0.0 in c:\\users\\sutha\\appdata\\local\\programs\\python\\python310\\lib\\site-packages (from recmetrics) (4.0.2)\n",
      "Requirement already satisfied: python-dateutil>=2.8.1 in c:\\users\\sutha\\appdata\\local\\programs\\python\\python310\\lib\\site-packages (from pandas) (2.8.2)\n",
      "Requirement already satisfied: pytz>=2020.1 in c:\\users\\sutha\\appdata\\local\\programs\\python\\python310\\lib\\site-packages (from pandas) (2022.6)\n",
      "Requirement already satisfied: contourpy>=1.0.1 in c:\\users\\sutha\\appdata\\local\\programs\\python\\python310\\lib\\site-packages (from matplotlib) (1.0.6)\n",
      "Requirement already satisfied: cycler>=0.10 in c:\\users\\sutha\\appdata\\local\\programs\\python\\python310\\lib\\site-packages (from matplotlib) (0.11.0)\n",
      "Requirement already satisfied: fonttools>=4.22.0 in c:\\users\\sutha\\appdata\\local\\programs\\python\\python310\\lib\\site-packages (from matplotlib) (4.38.0)\n",
      "Requirement already satisfied: kiwisolver>=1.0.1 in c:\\users\\sutha\\appdata\\local\\programs\\python\\python310\\lib\\site-packages (from matplotlib) (1.4.4)\n",
      "Requirement already satisfied: packaging>=20.0 in c:\\users\\sutha\\appdata\\local\\programs\\python\\python310\\lib\\site-packages (from matplotlib) (21.3)\n",
      "Requirement already satisfied: pillow>=6.2.0 in c:\\users\\sutha\\appdata\\local\\programs\\python\\python310\\lib\\site-packages (from matplotlib) (9.3.0)\n",
      "Requirement already satisfied: pyparsing>=2.2.1 in c:\\users\\sutha\\appdata\\local\\programs\\python\\python310\\lib\\site-packages (from matplotlib) (3.0.7)\n",
      "Requirement already satisfied: setuptools>=18.5 in c:\\users\\sutha\\appdata\\local\\programs\\python\\python310\\lib\\site-packages (from ipython<8.0.0,>=7.18.1->recmetrics) (58.1.0)\n",
      "Requirement already satisfied: jedi>=0.16 in c:\\users\\sutha\\appdata\\local\\programs\\python\\python310\\lib\\site-packages (from ipython<8.0.0,>=7.18.1->recmetrics) (0.18.2)\n",
      "Requirement already satisfied: decorator in c:\\users\\sutha\\appdata\\local\\programs\\python\\python310\\lib\\site-packages (from ipython<8.0.0,>=7.18.1->recmetrics) (5.1.1)\n",
      "Requirement already satisfied: pickleshare in c:\\users\\sutha\\appdata\\local\\programs\\python\\python310\\lib\\site-packages (from ipython<8.0.0,>=7.18.1->recmetrics) (0.7.5)\n",
      "Requirement already satisfied: traitlets>=4.2 in c:\\users\\sutha\\appdata\\local\\programs\\python\\python310\\lib\\site-packages (from ipython<8.0.0,>=7.18.1->recmetrics) (5.9.0)\n",
      "Requirement already satisfied: prompt-toolkit!=3.0.0,!=3.0.1,<3.1.0,>=2.0.0 in c:\\users\\sutha\\appdata\\local\\programs\\python\\python310\\lib\\site-packages (from ipython<8.0.0,>=7.18.1->recmetrics) (3.0.33)\n",
      "Requirement already satisfied: pygments in c:\\users\\sutha\\appdata\\local\\programs\\python\\python310\\lib\\site-packages (from ipython<8.0.0,>=7.18.1->recmetrics) (2.13.0)\n",
      "Requirement already satisfied: backcall in c:\\users\\sutha\\appdata\\local\\programs\\python\\python310\\lib\\site-packages (from ipython<8.0.0,>=7.18.1->recmetrics) (0.2.0)\n",
      "Requirement already satisfied: matplotlib-inline in c:\\users\\sutha\\appdata\\local\\programs\\python\\python310\\lib\\site-packages (from ipython<8.0.0,>=7.18.1->recmetrics) (0.1.6)\n",
      "Requirement already satisfied: colorama in c:\\users\\sutha\\appdata\\local\\programs\\python\\python310\\lib\\site-packages (from ipython<8.0.0,>=7.18.1->recmetrics) (0.4.6)\n",
      "Requirement already satisfied: notebook in c:\\users\\sutha\\appdata\\local\\programs\\python\\python310\\lib\\site-packages (from jupyter<2.0.0,>=1.0.0->recmetrics) (6.5.4)\n",
      "Requirement already satisfied: qtconsole in c:\\users\\sutha\\appdata\\local\\programs\\python\\python310\\lib\\site-packages (from jupyter<2.0.0,>=1.0.0->recmetrics) (5.4.2)\n",
      "Requirement already satisfied: jupyter-console in c:\\users\\sutha\\appdata\\local\\programs\\python\\python310\\lib\\site-packages (from jupyter<2.0.0,>=1.0.0->recmetrics) (6.6.3)\n",
      "Requirement already satisfied: nbconvert in c:\\users\\sutha\\appdata\\local\\programs\\python\\python310\\lib\\site-packages (from jupyter<2.0.0,>=1.0.0->recmetrics) (7.2.5)\n",
      "Requirement already satisfied: ipykernel in c:\\users\\sutha\\appdata\\local\\programs\\python\\python310\\lib\\site-packages (from jupyter<2.0.0,>=1.0.0->recmetrics) (6.17.1)\n",
      "Requirement already satisfied: ipywidgets in c:\\users\\sutha\\appdata\\roaming\\python\\python310\\site-packages (from jupyter<2.0.0,>=1.0.0->recmetrics) (8.0.2)\n",
      "Requirement already satisfied: retrying>=1.3.3 in c:\\users\\sutha\\appdata\\local\\programs\\python\\python310\\lib\\site-packages (from plotly<5.0.0,>=4.11.0->recmetrics) (1.3.4)\n",
      "Requirement already satisfied: six in c:\\users\\sutha\\appdata\\local\\programs\\python\\python310\\lib\\site-packages (from plotly<5.0.0,>=4.11.0->recmetrics) (1.16.0)\n",
      "Requirement already satisfied: pytest>=4.6 in c:\\users\\sutha\\appdata\\local\\programs\\python\\python310\\lib\\site-packages (from pytest-cov<3.0.0,>=2.10.1->recmetrics) (7.3.1)\n",
      "Requirement already satisfied: coverage>=5.2.1 in c:\\users\\sutha\\appdata\\local\\programs\\python\\python310\\lib\\site-packages (from pytest-cov<3.0.0,>=2.10.1->recmetrics) (7.2.3)\n",
      "Requirement already satisfied: toml in c:\\users\\sutha\\appdata\\local\\programs\\python\\python310\\lib\\site-packages (from pytest-cov<3.0.0,>=2.10.1->recmetrics) (0.10.2)\n",
      "Requirement already satisfied: threadpoolctl>=2.0.0 in c:\\users\\sutha\\appdata\\local\\programs\\python\\python310\\lib\\site-packages (from scikit-learn<2.0.0,>=1.0.2->recmetrics) (3.1.0)\n",
      "Requirement already satisfied: pkginfo>=1.8.1 in c:\\users\\sutha\\appdata\\local\\programs\\python\\python310\\lib\\site-packages (from twine<5.0.0,>=4.0.0->recmetrics) (1.9.6)\n",
      "Requirement already satisfied: readme-renderer>=35.0 in c:\\users\\sutha\\appdata\\local\\programs\\python\\python310\\lib\\site-packages (from twine<5.0.0,>=4.0.0->recmetrics) (37.3)\n",
      "Requirement already satisfied: requests>=2.20 in c:\\users\\sutha\\appdata\\local\\programs\\python\\python310\\lib\\site-packages (from twine<5.0.0,>=4.0.0->recmetrics) (2.27.1)\n",
      "Requirement already satisfied: requests-toolbelt!=0.9.0,>=0.8.0 in c:\\users\\sutha\\appdata\\local\\programs\\python\\python310\\lib\\site-packages (from twine<5.0.0,>=4.0.0->recmetrics) (0.10.1)\n",
      "Requirement already satisfied: urllib3>=1.26.0 in c:\\users\\sutha\\appdata\\local\\programs\\python\\python310\\lib\\site-packages (from twine<5.0.0,>=4.0.0->recmetrics) (1.26.13)\n",
      "Requirement already satisfied: importlib-metadata>=3.6 in c:\\users\\sutha\\appdata\\local\\programs\\python\\python310\\lib\\site-packages (from twine<5.0.0,>=4.0.0->recmetrics) (5.1.0)\n",
      "Requirement already satisfied: keyring>=15.1 in c:\\users\\sutha\\appdata\\local\\programs\\python\\python310\\lib\\site-packages (from twine<5.0.0,>=4.0.0->recmetrics) (23.13.1)\n",
      "Requirement already satisfied: rfc3986>=1.4.0 in c:\\users\\sutha\\appdata\\local\\programs\\python\\python310\\lib\\site-packages (from twine<5.0.0,>=4.0.0->recmetrics) (2.0.0)\n",
      "Requirement already satisfied: rich>=12.0.0 in c:\\users\\sutha\\appdata\\local\\programs\\python\\python310\\lib\\site-packages (from twine<5.0.0,>=4.0.0->recmetrics) (12.6.0)\n",
      "Requirement already satisfied: zipp>=0.5 in c:\\users\\sutha\\appdata\\local\\programs\\python\\python310\\lib\\site-packages (from importlib-metadata>=3.6->twine<5.0.0,>=4.0.0->recmetrics) (3.10.0)\n",
      "Requirement already satisfied: parso<0.9.0,>=0.8.0 in c:\\users\\sutha\\appdata\\local\\programs\\python\\python310\\lib\\site-packages (from jedi>=0.16->ipython<8.0.0,>=7.18.1->recmetrics) (0.8.3)\n",
      "Requirement already satisfied: jaraco.classes in c:\\users\\sutha\\appdata\\local\\programs\\python\\python310\\lib\\site-packages (from keyring>=15.1->twine<5.0.0,>=4.0.0->recmetrics) (3.2.3)\n",
      "Requirement already satisfied: pywin32-ctypes>=0.2.0 in c:\\users\\sutha\\appdata\\local\\programs\\python\\python310\\lib\\site-packages (from keyring>=15.1->twine<5.0.0,>=4.0.0->recmetrics) (0.2.0)\n",
      "Requirement already satisfied: wcwidth in c:\\users\\sutha\\appdata\\local\\programs\\python\\python310\\lib\\site-packages (from prompt-toolkit!=3.0.0,!=3.0.1,<3.1.0,>=2.0.0->ipython<8.0.0,>=7.18.1->recmetrics) (0.2.5)\n",
      "Requirement already satisfied: iniconfig in c:\\users\\sutha\\appdata\\local\\programs\\python\\python310\\lib\\site-packages (from pytest>=4.6->pytest-cov<3.0.0,>=2.10.1->recmetrics) (2.0.0)\n",
      "Requirement already satisfied: pluggy<2.0,>=0.12 in c:\\users\\sutha\\appdata\\local\\programs\\python\\python310\\lib\\site-packages (from pytest>=4.6->pytest-cov<3.0.0,>=2.10.1->recmetrics) (1.0.0)\n",
      "Requirement already satisfied: exceptiongroup>=1.0.0rc8 in c:\\users\\sutha\\appdata\\local\\programs\\python\\python310\\lib\\site-packages (from pytest>=4.6->pytest-cov<3.0.0,>=2.10.1->recmetrics) (1.1.1)\n",
      "Requirement already satisfied: tomli>=1.0.0 in c:\\users\\sutha\\appdata\\local\\programs\\python\\python310\\lib\\site-packages (from pytest>=4.6->pytest-cov<3.0.0,>=2.10.1->recmetrics) (2.0.1)\n",
      "Requirement already satisfied: bleach>=2.1.0 in c:\\users\\sutha\\appdata\\local\\programs\\python\\python310\\lib\\site-packages (from readme-renderer>=35.0->twine<5.0.0,>=4.0.0->recmetrics) (5.0.1)\n",
      "Requirement already satisfied: docutils>=0.13.1 in c:\\users\\sutha\\appdata\\local\\programs\\python\\python310\\lib\\site-packages (from readme-renderer>=35.0->twine<5.0.0,>=4.0.0->recmetrics) (0.19)\n",
      "Requirement already satisfied: certifi>=2017.4.17 in c:\\users\\sutha\\appdata\\local\\programs\\python\\python310\\lib\\site-packages (from requests>=2.20->twine<5.0.0,>=4.0.0->recmetrics) (2022.9.24)\n",
      "Requirement already satisfied: charset-normalizer~=2.0.0 in c:\\users\\sutha\\appdata\\local\\programs\\python\\python310\\lib\\site-packages (from requests>=2.20->twine<5.0.0,>=4.0.0->recmetrics) (2.0.12)\n",
      "Requirement already satisfied: idna<4,>=2.5 in c:\\users\\sutha\\appdata\\local\\programs\\python\\python310\\lib\\site-packages (from requests>=2.20->twine<5.0.0,>=4.0.0->recmetrics) (3.3)\n",
      "Requirement already satisfied: commonmark<0.10.0,>=0.9.0 in c:\\users\\sutha\\appdata\\local\\programs\\python\\python310\\lib\\site-packages (from rich>=12.0.0->twine<5.0.0,>=4.0.0->recmetrics) (0.9.1)\n",
      "Requirement already satisfied: debugpy>=1.0 in c:\\users\\sutha\\appdata\\local\\programs\\python\\python310\\lib\\site-packages (from ipykernel->jupyter<2.0.0,>=1.0.0->recmetrics) (1.6.3)\n",
      "Requirement already satisfied: jupyter-client>=6.1.12 in c:\\users\\sutha\\appdata\\local\\programs\\python\\python310\\lib\\site-packages (from ipykernel->jupyter<2.0.0,>=1.0.0->recmetrics) (7.4.7)\n",
      "Requirement already satisfied: nest-asyncio in c:\\users\\sutha\\appdata\\local\\programs\\python\\python310\\lib\\site-packages (from ipykernel->jupyter<2.0.0,>=1.0.0->recmetrics) (1.5.6)\n",
      "Requirement already satisfied: psutil in c:\\users\\sutha\\appdata\\local\\programs\\python\\python310\\lib\\site-packages (from ipykernel->jupyter<2.0.0,>=1.0.0->recmetrics) (5.9.4)\n",
      "Requirement already satisfied: pyzmq>=17 in c:\\users\\sutha\\appdata\\local\\programs\\python\\python310\\lib\\site-packages (from ipykernel->jupyter<2.0.0,>=1.0.0->recmetrics) (24.0.1)\n",
      "Requirement already satisfied: tornado>=6.1 in c:\\users\\sutha\\appdata\\local\\programs\\python\\python310\\lib\\site-packages (from ipykernel->jupyter<2.0.0,>=1.0.0->recmetrics) (6.2)\n",
      "Requirement already satisfied: widgetsnbextension~=4.0 in c:\\users\\sutha\\appdata\\roaming\\python\\python310\\site-packages (from ipywidgets->jupyter<2.0.0,>=1.0.0->recmetrics) (4.0.3)\n",
      "Requirement already satisfied: jupyterlab-widgets~=3.0 in c:\\users\\sutha\\appdata\\roaming\\python\\python310\\site-packages (from ipywidgets->jupyter<2.0.0,>=1.0.0->recmetrics) (3.0.3)\n",
      "Requirement already satisfied: jupyter-core!=5.0.*,>=4.12 in c:\\users\\sutha\\appdata\\local\\programs\\python\\python310\\lib\\site-packages (from jupyter-console->jupyter<2.0.0,>=1.0.0->recmetrics) (5.3.0)\n",
      "Requirement already satisfied: beautifulsoup4 in c:\\users\\sutha\\appdata\\local\\programs\\python\\python310\\lib\\site-packages (from nbconvert->jupyter<2.0.0,>=1.0.0->recmetrics) (4.11.1)\n",
      "Requirement already satisfied: defusedxml in c:\\users\\sutha\\appdata\\local\\programs\\python\\python310\\lib\\site-packages (from nbconvert->jupyter<2.0.0,>=1.0.0->recmetrics) (0.7.1)\n",
      "Requirement already satisfied: jinja2>=3.0 in c:\\users\\sutha\\appdata\\local\\programs\\python\\python310\\lib\\site-packages (from nbconvert->jupyter<2.0.0,>=1.0.0->recmetrics) (3.1.2)\n",
      "Requirement already satisfied: jupyterlab-pygments in c:\\users\\sutha\\appdata\\local\\programs\\python\\python310\\lib\\site-packages (from nbconvert->jupyter<2.0.0,>=1.0.0->recmetrics) (0.2.2)\n",
      "Requirement already satisfied: markupsafe>=2.0 in c:\\users\\sutha\\appdata\\local\\programs\\python\\python310\\lib\\site-packages (from nbconvert->jupyter<2.0.0,>=1.0.0->recmetrics) (2.1.1)\n",
      "Requirement already satisfied: mistune<3,>=2.0.3 in c:\\users\\sutha\\appdata\\local\\programs\\python\\python310\\lib\\site-packages (from nbconvert->jupyter<2.0.0,>=1.0.0->recmetrics) (2.0.4)\n",
      "Requirement already satisfied: nbclient>=0.5.0 in c:\\users\\sutha\\appdata\\local\\programs\\python\\python310\\lib\\site-packages (from nbconvert->jupyter<2.0.0,>=1.0.0->recmetrics) (0.7.0)\n",
      "Requirement already satisfied: nbformat>=5.1 in c:\\users\\sutha\\appdata\\local\\programs\\python\\python310\\lib\\site-packages (from nbconvert->jupyter<2.0.0,>=1.0.0->recmetrics) (5.7.0)\n",
      "Requirement already satisfied: pandocfilters>=1.4.1 in c:\\users\\sutha\\appdata\\local\\programs\\python\\python310\\lib\\site-packages (from nbconvert->jupyter<2.0.0,>=1.0.0->recmetrics) (1.5.0)\n",
      "Requirement already satisfied: tinycss2 in c:\\users\\sutha\\appdata\\local\\programs\\python\\python310\\lib\\site-packages (from nbconvert->jupyter<2.0.0,>=1.0.0->recmetrics) (1.2.1)\n",
      "Requirement already satisfied: argon2-cffi in c:\\users\\sutha\\appdata\\local\\programs\\python\\python310\\lib\\site-packages (from notebook->jupyter<2.0.0,>=1.0.0->recmetrics) (21.3.0)\n",
      "Requirement already satisfied: ipython-genutils in c:\\users\\sutha\\appdata\\local\\programs\\python\\python310\\lib\\site-packages (from notebook->jupyter<2.0.0,>=1.0.0->recmetrics) (0.2.0)\n",
      "Requirement already satisfied: Send2Trash>=1.8.0 in c:\\users\\sutha\\appdata\\local\\programs\\python\\python310\\lib\\site-packages (from notebook->jupyter<2.0.0,>=1.0.0->recmetrics) (1.8.0)\n",
      "Requirement already satisfied: terminado>=0.8.3 in c:\\users\\sutha\\appdata\\local\\programs\\python\\python310\\lib\\site-packages (from notebook->jupyter<2.0.0,>=1.0.0->recmetrics) (0.17.1)\n",
      "Requirement already satisfied: prometheus-client in c:\\users\\sutha\\appdata\\local\\programs\\python\\python310\\lib\\site-packages (from notebook->jupyter<2.0.0,>=1.0.0->recmetrics) (0.16.0)\n",
      "Requirement already satisfied: nbclassic>=0.4.7 in c:\\users\\sutha\\appdata\\local\\programs\\python\\python310\\lib\\site-packages (from notebook->jupyter<2.0.0,>=1.0.0->recmetrics) (0.5.5)\n",
      "Requirement already satisfied: qtpy>=2.0.1 in c:\\users\\sutha\\appdata\\local\\programs\\python\\python310\\lib\\site-packages (from qtconsole->jupyter<2.0.0,>=1.0.0->recmetrics) (2.3.1)\n",
      "Requirement already satisfied: webencodings in c:\\users\\sutha\\appdata\\local\\programs\\python\\python310\\lib\\site-packages (from bleach>=2.1.0->readme-renderer>=35.0->twine<5.0.0,>=4.0.0->recmetrics) (0.5.1)\n",
      "Requirement already satisfied: entrypoints in c:\\users\\sutha\\appdata\\local\\programs\\python\\python310\\lib\\site-packages (from jupyter-client>=6.1.12->ipykernel->jupyter<2.0.0,>=1.0.0->recmetrics) (0.4)\n",
      "Requirement already satisfied: platformdirs>=2.5 in c:\\users\\sutha\\appdata\\local\\programs\\python\\python310\\lib\\site-packages (from jupyter-core!=5.0.*,>=4.12->jupyter-console->jupyter<2.0.0,>=1.0.0->recmetrics) (2.5.4)\n",
      "Requirement already satisfied: pywin32>=300 in c:\\users\\sutha\\appdata\\local\\programs\\python\\python310\\lib\\site-packages (from jupyter-core!=5.0.*,>=4.12->jupyter-console->jupyter<2.0.0,>=1.0.0->recmetrics) (305)\n",
      "Requirement already satisfied: jupyter-server>=1.8 in c:\\users\\sutha\\appdata\\local\\programs\\python\\python310\\lib\\site-packages (from nbclassic>=0.4.7->notebook->jupyter<2.0.0,>=1.0.0->recmetrics) (2.5.0)\n",
      "Requirement already satisfied: notebook-shim>=0.1.0 in c:\\users\\sutha\\appdata\\local\\programs\\python\\python310\\lib\\site-packages (from nbclassic>=0.4.7->notebook->jupyter<2.0.0,>=1.0.0->recmetrics) (0.2.2)\n",
      "Requirement already satisfied: fastjsonschema in c:\\users\\sutha\\appdata\\local\\programs\\python\\python310\\lib\\site-packages (from nbformat>=5.1->nbconvert->jupyter<2.0.0,>=1.0.0->recmetrics) (2.16.2)\n",
      "Requirement already satisfied: jsonschema>=2.6 in c:\\users\\sutha\\appdata\\local\\programs\\python\\python310\\lib\\site-packages (from nbformat>=5.1->nbconvert->jupyter<2.0.0,>=1.0.0->recmetrics) (4.17.1)\n",
      "Requirement already satisfied: pywinpty>=1.1.0 in c:\\users\\sutha\\appdata\\local\\programs\\python\\python310\\lib\\site-packages (from terminado>=0.8.3->notebook->jupyter<2.0.0,>=1.0.0->recmetrics) (2.0.10)\n",
      "Requirement already satisfied: argon2-cffi-bindings in c:\\users\\sutha\\appdata\\local\\programs\\python\\python310\\lib\\site-packages (from argon2-cffi->notebook->jupyter<2.0.0,>=1.0.0->recmetrics) (21.2.0)\n",
      "Requirement already satisfied: soupsieve>1.2 in c:\\users\\sutha\\appdata\\local\\programs\\python\\python310\\lib\\site-packages (from beautifulsoup4->nbconvert->jupyter<2.0.0,>=1.0.0->recmetrics) (2.3.2.post1)\n",
      "Requirement already satisfied: more-itertools in c:\\users\\sutha\\appdata\\local\\programs\\python\\python310\\lib\\site-packages (from jaraco.classes->keyring>=15.1->twine<5.0.0,>=4.0.0->recmetrics) (9.1.0)\n",
      "Requirement already satisfied: attrs>=17.4.0 in c:\\users\\sutha\\appdata\\local\\programs\\python\\python310\\lib\\site-packages (from jsonschema>=2.6->nbformat>=5.1->nbconvert->jupyter<2.0.0,>=1.0.0->recmetrics) (22.1.0)\n",
      "Requirement already satisfied: pyrsistent!=0.17.0,!=0.17.1,!=0.17.2,>=0.14.0 in c:\\users\\sutha\\appdata\\local\\programs\\python\\python310\\lib\\site-packages (from jsonschema>=2.6->nbformat>=5.1->nbconvert->jupyter<2.0.0,>=1.0.0->recmetrics) (0.19.2)\n",
      "Requirement already satisfied: anyio>=3.1.0 in c:\\users\\sutha\\appdata\\local\\programs\\python\\python310\\lib\\site-packages (from jupyter-server>=1.8->nbclassic>=0.4.7->notebook->jupyter<2.0.0,>=1.0.0->recmetrics) (3.6.2)\n",
      "Requirement already satisfied: jupyter-events>=0.4.0 in c:\\users\\sutha\\appdata\\local\\programs\\python\\python310\\lib\\site-packages (from jupyter-server>=1.8->nbclassic>=0.4.7->notebook->jupyter<2.0.0,>=1.0.0->recmetrics) (0.6.3)\n",
      "Requirement already satisfied: jupyter-server-terminals in c:\\users\\sutha\\appdata\\local\\programs\\python\\python310\\lib\\site-packages (from jupyter-server>=1.8->nbclassic>=0.4.7->notebook->jupyter<2.0.0,>=1.0.0->recmetrics) (0.4.4)\n",
      "Requirement already satisfied: websocket-client in c:\\users\\sutha\\appdata\\local\\programs\\python\\python310\\lib\\site-packages (from jupyter-server>=1.8->nbclassic>=0.4.7->notebook->jupyter<2.0.0,>=1.0.0->recmetrics) (1.5.1)\n",
      "Requirement already satisfied: cffi>=1.0.1 in c:\\users\\sutha\\appdata\\local\\programs\\python\\python310\\lib\\site-packages (from argon2-cffi-bindings->argon2-cffi->notebook->jupyter<2.0.0,>=1.0.0->recmetrics) (1.15.1)\n",
      "Requirement already satisfied: sniffio>=1.1 in c:\\users\\sutha\\appdata\\local\\programs\\python\\python310\\lib\\site-packages (from anyio>=3.1.0->jupyter-server>=1.8->nbclassic>=0.4.7->notebook->jupyter<2.0.0,>=1.0.0->recmetrics) (1.3.0)\n",
      "Requirement already satisfied: pycparser in c:\\users\\sutha\\appdata\\local\\programs\\python\\python310\\lib\\site-packages (from cffi>=1.0.1->argon2-cffi-bindings->argon2-cffi->notebook->jupyter<2.0.0,>=1.0.0->recmetrics) (2.21)\n",
      "Requirement already satisfied: python-json-logger>=2.0.4 in c:\\users\\sutha\\appdata\\local\\programs\\python\\python310\\lib\\site-packages (from jupyter-events>=0.4.0->jupyter-server>=1.8->nbclassic>=0.4.7->notebook->jupyter<2.0.0,>=1.0.0->recmetrics) (2.0.7)\n",
      "Requirement already satisfied: pyyaml>=5.3 in c:\\users\\sutha\\appdata\\local\\programs\\python\\python310\\lib\\site-packages (from jupyter-events>=0.4.0->jupyter-server>=1.8->nbclassic>=0.4.7->notebook->jupyter<2.0.0,>=1.0.0->recmetrics) (6.0)\n",
      "Requirement already satisfied: rfc3339-validator in c:\\users\\sutha\\appdata\\local\\programs\\python\\python310\\lib\\site-packages (from jupyter-events>=0.4.0->jupyter-server>=1.8->nbclassic>=0.4.7->notebook->jupyter<2.0.0,>=1.0.0->recmetrics) (0.1.4)\n",
      "Requirement already satisfied: rfc3986-validator>=0.1.1 in c:\\users\\sutha\\appdata\\local\\programs\\python\\python310\\lib\\site-packages (from jupyter-events>=0.4.0->jupyter-server>=1.8->nbclassic>=0.4.7->notebook->jupyter<2.0.0,>=1.0.0->recmetrics) (0.1.1)\n",
      "Requirement already satisfied: fqdn in c:\\users\\sutha\\appdata\\local\\programs\\python\\python310\\lib\\site-packages (from jsonschema>=2.6->nbformat>=5.1->nbconvert->jupyter<2.0.0,>=1.0.0->recmetrics) (1.5.1)\n",
      "Requirement already satisfied: isoduration in c:\\users\\sutha\\appdata\\local\\programs\\python\\python310\\lib\\site-packages (from jsonschema>=2.6->nbformat>=5.1->nbconvert->jupyter<2.0.0,>=1.0.0->recmetrics) (20.11.0)\n",
      "Requirement already satisfied: jsonpointer>1.13 in c:\\users\\sutha\\appdata\\local\\programs\\python\\python310\\lib\\site-packages (from jsonschema>=2.6->nbformat>=5.1->nbconvert->jupyter<2.0.0,>=1.0.0->recmetrics) (2.3)\n",
      "Requirement already satisfied: uri-template in c:\\users\\sutha\\appdata\\local\\programs\\python\\python310\\lib\\site-packages (from jsonschema>=2.6->nbformat>=5.1->nbconvert->jupyter<2.0.0,>=1.0.0->recmetrics) (1.2.0)\n",
      "Requirement already satisfied: webcolors>=1.11 in c:\\users\\sutha\\appdata\\local\\programs\\python\\python310\\lib\\site-packages (from jsonschema>=2.6->nbformat>=5.1->nbconvert->jupyter<2.0.0,>=1.0.0->recmetrics) (1.13)\n",
      "Requirement already satisfied: arrow>=0.15.0 in c:\\users\\sutha\\appdata\\local\\programs\\python\\python310\\lib\\site-packages (from isoduration->jsonschema>=2.6->nbformat>=5.1->nbconvert->jupyter<2.0.0,>=1.0.0->recmetrics) (1.2.3)\n",
      "Note: you may need to restart the kernel to use updated packages.\n"
     ]
    },
    {
     "name": "stderr",
     "output_type": "stream",
     "text": [
      "WARNING: Ignoring invalid distribution -lotly (c:\\users\\sutha\\appdata\\local\\programs\\python\\python310\\lib\\site-packages)\n",
      "WARNING: Ignoring invalid distribution -lotly (c:\\users\\sutha\\appdata\\local\\programs\\python\\python310\\lib\\site-packages)\n"
     ]
    }
   ],
   "source": [
    "%pip install scikit-surprise recmetrics pandas numpy matplotlib"
   ]
  },
  {
   "attachments": {},
   "cell_type": "markdown",
   "metadata": {
    "id": "bIp1Dh3JUtqY",
    "jp-MarkdownHeadingCollapsed": true,
    "tags": []
   },
   "source": [
    "# Preprocessing and Exploratory Data Analysis"
   ]
  },
  {
   "attachments": {},
   "cell_type": "markdown",
   "metadata": {
    "id": "MQ9PAEuCU0BN"
   },
   "source": [
    "**About Dataset**\n",
    "\n",
    "---\n",
    "\n",
    "\n",
    "*Context*:\n",
    "\n",
    "The dataset contains cleaned and preprocessed 10M+ samples of user recommendations (reviews) from a Steam Store - a leading online platform for purchasing and downloading video games, DLC, and other gaming-related content. Additionally, it contains detailed information about games and add-ons.\n",
    "\n",
    "\n",
    "---\n",
    "\n",
    "\n",
    "*Content*:\n",
    "\n",
    "The dataset consists of three main entities:\n",
    "\n",
    "*games.csv* - a table of games (or add-ons) information on ratings, pricing in US dollars $, release date, etc. A piece of extra non-tabular details on games, such as descriptions and tags, is in a metadata file;\n",
    "\n",
    "*users.csv* - a table of user profiles' public information: the number of purchased products and reviews published;\n",
    "\n",
    "*recommendations.csv* - a table of user reviews: whether the user recommends a product. The table represents a many-many relation between a game entity and a user entity.\n",
    "The dataset does not contain any personal information about users on a Steam Platform. A preprocessing pipeline anonymized all user IDs. All collected data is accessible to a member of the general public."
   ]
  },
  {
   "cell_type": "code",
   "execution_count": 2,
   "metadata": {
    "id": "OW-aQfLnVxla"
   },
   "outputs": [],
   "source": [
    "import pandas as pd\n",
    "import json\n",
    "import numpy as np"
   ]
  },
  {
   "cell_type": "code",
   "execution_count": 3,
   "metadata": {
    "id": "MgAdp0tbU16C"
   },
   "outputs": [],
   "source": [
    "recommendations = pd.read_csv('SteamDataset/recommendations.csv')\n",
    "users = pd.read_csv('SteamDataset/users.csv')\n",
    "games = pd.read_csv('SteamDataset/games.csv')"
   ]
  },
  {
   "attachments": {},
   "cell_type": "markdown",
   "metadata": {
    "id": "NYywHgvNaynD"
   },
   "source": [
    "The metadata is a nested json, so let's read line-by-line, append to a list then make a dataframe."
   ]
  },
  {
   "cell_type": "code",
   "execution_count": 4,
   "metadata": {
    "id": "p16N6Q96WaR7"
   },
   "outputs": [],
   "source": [
    "d = []\n",
    "for line in open(('SteamDataset/games_metadata.json'),encoding=\"utf8\"):\n",
    "  d.append(json.loads(line))\n",
    "games_metadata = pd.DataFrame(d)"
   ]
  },
  {
   "attachments": {},
   "cell_type": "markdown",
   "metadata": {
    "id": "BwLkG3vPWYrj"
   },
   "source": [
    "Let's investigate how many samples in each table."
   ]
  },
  {
   "cell_type": "code",
   "execution_count": 5,
   "metadata": {
    "colab": {
     "base_uri": "https://localhost:8080/",
     "height": 0
    },
    "id": "oXOTQYGiWO-K",
    "outputId": "de987cc0-d438-481e-f719-2bd0c4bb4f3d"
   },
   "outputs": [
    {
     "data": {
      "text/html": [
       "<style type=\"text/css\">\n",
       "</style>\n",
       "<table id=\"T_c1835\">\n",
       "  <thead>\n",
       "    <tr>\n",
       "      <th id=\"T_c1835_level0_col0\" class=\"col_heading level0 col0\" >Dataframe</th>\n",
       "      <th id=\"T_c1835_level0_col1\" class=\"col_heading level0 col1\" >Records</th>\n",
       "    </tr>\n",
       "  </thead>\n",
       "  <tbody>\n",
       "    <tr>\n",
       "      <td id=\"T_c1835_row0_col0\" class=\"data row0 col0\" >Recommendations</td>\n",
       "      <td id=\"T_c1835_row0_col1\" class=\"data row0 col1\" >11265799</td>\n",
       "    </tr>\n",
       "    <tr>\n",
       "      <td id=\"T_c1835_row1_col0\" class=\"data row1 col0\" >Users</td>\n",
       "      <td id=\"T_c1835_row1_col1\" class=\"data row1 col1\" >6167727</td>\n",
       "    </tr>\n",
       "    <tr>\n",
       "      <td id=\"T_c1835_row2_col0\" class=\"data row2 col0\" >Games</td>\n",
       "      <td id=\"T_c1835_row2_col1\" class=\"data row2 col1\" >48318</td>\n",
       "    </tr>\n",
       "    <tr>\n",
       "      <td id=\"T_c1835_row3_col0\" class=\"data row3 col0\" >Games metadata</td>\n",
       "      <td id=\"T_c1835_row3_col1\" class=\"data row3 col1\" >48318</td>\n",
       "    </tr>\n",
       "  </tbody>\n",
       "</table>\n"
      ],
      "text/plain": [
       "<pandas.io.formats.style.Styler at 0x266e65ed390>"
      ]
     },
     "execution_count": 5,
     "metadata": {},
     "output_type": "execute_result"
    }
   ],
   "source": [
    "pd.DataFrame([\n",
    "    [\"Recommendations\", len(recommendations.index)],\n",
    "    [\"Users\", len(users.index)],\n",
    "    [\"Games\", len(games.index)],\n",
    "    [\"Games metadata\", len(games_metadata.index)]\n",
    "], columns=[\"Dataframe\", \"Records\"]).style.hide(axis=\"index\")"
   ]
  },
  {
   "attachments": {},
   "cell_type": "markdown",
   "metadata": {
    "id": "u5mXWhJtW4qj"
   },
   "source": [
    "Let's preview the Games table. It contains the following attributes:\n",
    "\n",
    "Primary key: native product ID on Steam;\n",
    "\n",
    "Product title;\n",
    "\n",
    "Product release date;\n",
    "\n",
    "OS support (Windows, MacOS, Linux);\n",
    "\n",
    "Product rating category;\n",
    "\n",
    "Ratio of positive feedbacks;\n",
    "\n",
    "Number of reviews left;\n",
    "\n",
    "Pricing (original and discounted);\n",
    "\n",
    "Steam Deck compatibility."
   ]
  },
  {
   "cell_type": "code",
   "execution_count": 6,
   "metadata": {
    "colab": {
     "base_uri": "https://localhost:8080/",
     "height": 0
    },
    "id": "9QZwRzkrW1Mi",
    "outputId": "0681dde6-e53b-4020-b04a-620a021a057d"
   },
   "outputs": [
    {
     "data": {
      "text/html": [
       "<div>\n",
       "<style scoped>\n",
       "    .dataframe tbody tr th:only-of-type {\n",
       "        vertical-align: middle;\n",
       "    }\n",
       "\n",
       "    .dataframe tbody tr th {\n",
       "        vertical-align: top;\n",
       "    }\n",
       "\n",
       "    .dataframe thead th {\n",
       "        text-align: right;\n",
       "    }\n",
       "</style>\n",
       "<table border=\"1\" class=\"dataframe\">\n",
       "  <thead>\n",
       "    <tr style=\"text-align: right;\">\n",
       "      <th></th>\n",
       "      <th>app_id</th>\n",
       "      <th>title</th>\n",
       "      <th>date_release</th>\n",
       "      <th>win</th>\n",
       "      <th>mac</th>\n",
       "      <th>linux</th>\n",
       "      <th>rating</th>\n",
       "      <th>positive_ratio</th>\n",
       "      <th>user_reviews</th>\n",
       "      <th>price_final</th>\n",
       "      <th>price_original</th>\n",
       "      <th>discount</th>\n",
       "      <th>steam_deck</th>\n",
       "    </tr>\n",
       "  </thead>\n",
       "  <tbody>\n",
       "    <tr>\n",
       "      <th>0</th>\n",
       "      <td>10090</td>\n",
       "      <td>Call of Duty: World at War</td>\n",
       "      <td>2008-11-18</td>\n",
       "      <td>True</td>\n",
       "      <td>False</td>\n",
       "      <td>False</td>\n",
       "      <td>Very Positive</td>\n",
       "      <td>92</td>\n",
       "      <td>37039</td>\n",
       "      <td>19.99</td>\n",
       "      <td>19.99</td>\n",
       "      <td>0.0</td>\n",
       "      <td>True</td>\n",
       "    </tr>\n",
       "    <tr>\n",
       "      <th>1</th>\n",
       "      <td>13500</td>\n",
       "      <td>Prince of Persia: Warrior Within™</td>\n",
       "      <td>2008-11-21</td>\n",
       "      <td>True</td>\n",
       "      <td>False</td>\n",
       "      <td>False</td>\n",
       "      <td>Very Positive</td>\n",
       "      <td>84</td>\n",
       "      <td>2199</td>\n",
       "      <td>9.99</td>\n",
       "      <td>9.99</td>\n",
       "      <td>0.0</td>\n",
       "      <td>True</td>\n",
       "    </tr>\n",
       "    <tr>\n",
       "      <th>2</th>\n",
       "      <td>22364</td>\n",
       "      <td>BRINK: Agents of Change</td>\n",
       "      <td>2011-08-03</td>\n",
       "      <td>True</td>\n",
       "      <td>False</td>\n",
       "      <td>False</td>\n",
       "      <td>Positive</td>\n",
       "      <td>85</td>\n",
       "      <td>21</td>\n",
       "      <td>2.99</td>\n",
       "      <td>2.99</td>\n",
       "      <td>0.0</td>\n",
       "      <td>True</td>\n",
       "    </tr>\n",
       "    <tr>\n",
       "      <th>3</th>\n",
       "      <td>113020</td>\n",
       "      <td>Monaco: What's Yours Is Mine</td>\n",
       "      <td>2013-04-24</td>\n",
       "      <td>True</td>\n",
       "      <td>True</td>\n",
       "      <td>True</td>\n",
       "      <td>Very Positive</td>\n",
       "      <td>92</td>\n",
       "      <td>3722</td>\n",
       "      <td>14.99</td>\n",
       "      <td>14.99</td>\n",
       "      <td>0.0</td>\n",
       "      <td>True</td>\n",
       "    </tr>\n",
       "    <tr>\n",
       "      <th>4</th>\n",
       "      <td>226560</td>\n",
       "      <td>Escape Dead Island</td>\n",
       "      <td>2014-11-18</td>\n",
       "      <td>True</td>\n",
       "      <td>False</td>\n",
       "      <td>False</td>\n",
       "      <td>Mixed</td>\n",
       "      <td>61</td>\n",
       "      <td>873</td>\n",
       "      <td>14.99</td>\n",
       "      <td>14.99</td>\n",
       "      <td>0.0</td>\n",
       "      <td>True</td>\n",
       "    </tr>\n",
       "  </tbody>\n",
       "</table>\n",
       "</div>"
      ],
      "text/plain": [
       "   app_id                              title date_release   win    mac  linux  \\\n",
       "0   10090         Call of Duty: World at War   2008-11-18  True  False  False   \n",
       "1   13500  Prince of Persia: Warrior Within™   2008-11-21  True  False  False   \n",
       "2   22364            BRINK: Agents of Change   2011-08-03  True  False  False   \n",
       "3  113020       Monaco: What's Yours Is Mine   2013-04-24  True   True   True   \n",
       "4  226560                 Escape Dead Island   2014-11-18  True  False  False   \n",
       "\n",
       "          rating  positive_ratio  user_reviews  price_final  price_original  \\\n",
       "0  Very Positive              92         37039        19.99           19.99   \n",
       "1  Very Positive              84          2199         9.99            9.99   \n",
       "2       Positive              85            21         2.99            2.99   \n",
       "3  Very Positive              92          3722        14.99           14.99   \n",
       "4          Mixed              61           873        14.99           14.99   \n",
       "\n",
       "   discount  steam_deck  \n",
       "0       0.0        True  \n",
       "1       0.0        True  \n",
       "2       0.0        True  \n",
       "3       0.0        True  \n",
       "4       0.0        True  "
      ]
     },
     "execution_count": 6,
     "metadata": {},
     "output_type": "execute_result"
    }
   ],
   "source": [
    "games.head()"
   ]
  },
  {
   "attachments": {},
   "cell_type": "markdown",
   "metadata": {
    "id": "Eah5bvj9XBM5"
   },
   "source": [
    "Users table contains following attributes:\n",
    "\n",
    "Primary key: user autogenerated ID;\n",
    "\n",
    "Number of products purchased by the user;\n",
    "\n",
    "Number of reviews published on Steam;"
   ]
  },
  {
   "cell_type": "code",
   "execution_count": 7,
   "metadata": {
    "colab": {
     "base_uri": "https://localhost:8080/",
     "height": 0
    },
    "id": "2WtVHo2rXA3Z",
    "outputId": "d91dde34-7884-42a5-a655-d8c0d3eb7233"
   },
   "outputs": [
    {
     "data": {
      "text/html": [
       "<div>\n",
       "<style scoped>\n",
       "    .dataframe tbody tr th:only-of-type {\n",
       "        vertical-align: middle;\n",
       "    }\n",
       "\n",
       "    .dataframe tbody tr th {\n",
       "        vertical-align: top;\n",
       "    }\n",
       "\n",
       "    .dataframe thead th {\n",
       "        text-align: right;\n",
       "    }\n",
       "</style>\n",
       "<table border=\"1\" class=\"dataframe\">\n",
       "  <thead>\n",
       "    <tr style=\"text-align: right;\">\n",
       "      <th></th>\n",
       "      <th>user_id</th>\n",
       "      <th>products</th>\n",
       "      <th>reviews</th>\n",
       "    </tr>\n",
       "  </thead>\n",
       "  <tbody>\n",
       "    <tr>\n",
       "      <th>0</th>\n",
       "      <td>6043251</td>\n",
       "      <td>156</td>\n",
       "      <td>1</td>\n",
       "    </tr>\n",
       "    <tr>\n",
       "      <th>1</th>\n",
       "      <td>3802782</td>\n",
       "      <td>329</td>\n",
       "      <td>3</td>\n",
       "    </tr>\n",
       "    <tr>\n",
       "      <th>2</th>\n",
       "      <td>2053748</td>\n",
       "      <td>176</td>\n",
       "      <td>2</td>\n",
       "    </tr>\n",
       "    <tr>\n",
       "      <th>3</th>\n",
       "      <td>2214328</td>\n",
       "      <td>98</td>\n",
       "      <td>2</td>\n",
       "    </tr>\n",
       "    <tr>\n",
       "      <th>4</th>\n",
       "      <td>2451716</td>\n",
       "      <td>144</td>\n",
       "      <td>3</td>\n",
       "    </tr>\n",
       "  </tbody>\n",
       "</table>\n",
       "</div>"
      ],
      "text/plain": [
       "   user_id  products  reviews\n",
       "0  6043251       156        1\n",
       "1  3802782       329        3\n",
       "2  2053748       176        2\n",
       "3  2214328        98        2\n",
       "4  2451716       144        3"
      ]
     },
     "execution_count": 7,
     "metadata": {},
     "output_type": "execute_result"
    }
   ],
   "source": [
    "users.head()"
   ]
  },
  {
   "attachments": {},
   "cell_type": "markdown",
   "metadata": {
    "id": "xgUH0K0AXNTQ"
   },
   "source": [
    "Recommendations table contains following attributes:\n",
    "\n",
    "Primary key: review auto-generated ID;\n",
    "\n",
    "Foreign key on Games table: native product ID on Steam;\n",
    "\n",
    "Foreign key on Users table: user autogenerated ID;\n",
    "\n",
    "How many users found a recommendation helpful/funny;\n",
    "\n",
    "Product recommended (not recommended) by user;\n",
    "\n",
    "How may hours played by the user."
   ]
  },
  {
   "cell_type": "code",
   "execution_count": 8,
   "metadata": {
    "colab": {
     "base_uri": "https://localhost:8080/",
     "height": 0
    },
    "id": "23bCRdllXH--",
    "outputId": "684b21bd-9b07-4080-ba6f-eacb494ba90c"
   },
   "outputs": [
    {
     "data": {
      "text/html": [
       "<div>\n",
       "<style scoped>\n",
       "    .dataframe tbody tr th:only-of-type {\n",
       "        vertical-align: middle;\n",
       "    }\n",
       "\n",
       "    .dataframe tbody tr th {\n",
       "        vertical-align: top;\n",
       "    }\n",
       "\n",
       "    .dataframe thead th {\n",
       "        text-align: right;\n",
       "    }\n",
       "</style>\n",
       "<table border=\"1\" class=\"dataframe\">\n",
       "  <thead>\n",
       "    <tr style=\"text-align: right;\">\n",
       "      <th></th>\n",
       "      <th>app_id</th>\n",
       "      <th>helpful</th>\n",
       "      <th>funny</th>\n",
       "      <th>date</th>\n",
       "      <th>is_recommended</th>\n",
       "      <th>hours</th>\n",
       "      <th>user_id</th>\n",
       "      <th>review_id</th>\n",
       "    </tr>\n",
       "  </thead>\n",
       "  <tbody>\n",
       "    <tr>\n",
       "      <th>0</th>\n",
       "      <td>975370</td>\n",
       "      <td>0</td>\n",
       "      <td>0</td>\n",
       "      <td>2022-12-12</td>\n",
       "      <td>True</td>\n",
       "      <td>36.3</td>\n",
       "      <td>21058</td>\n",
       "      <td>0</td>\n",
       "    </tr>\n",
       "    <tr>\n",
       "      <th>1</th>\n",
       "      <td>304390</td>\n",
       "      <td>4</td>\n",
       "      <td>0</td>\n",
       "      <td>2017-02-17</td>\n",
       "      <td>False</td>\n",
       "      <td>11.5</td>\n",
       "      <td>1153</td>\n",
       "      <td>1</td>\n",
       "    </tr>\n",
       "    <tr>\n",
       "      <th>2</th>\n",
       "      <td>1085660</td>\n",
       "      <td>2</td>\n",
       "      <td>0</td>\n",
       "      <td>2019-11-17</td>\n",
       "      <td>True</td>\n",
       "      <td>336.5</td>\n",
       "      <td>96124</td>\n",
       "      <td>2</td>\n",
       "    </tr>\n",
       "    <tr>\n",
       "      <th>3</th>\n",
       "      <td>703080</td>\n",
       "      <td>0</td>\n",
       "      <td>0</td>\n",
       "      <td>2022-09-23</td>\n",
       "      <td>True</td>\n",
       "      <td>27.4</td>\n",
       "      <td>98074</td>\n",
       "      <td>3</td>\n",
       "    </tr>\n",
       "    <tr>\n",
       "      <th>4</th>\n",
       "      <td>526870</td>\n",
       "      <td>0</td>\n",
       "      <td>0</td>\n",
       "      <td>2021-01-10</td>\n",
       "      <td>True</td>\n",
       "      <td>7.9</td>\n",
       "      <td>9634</td>\n",
       "      <td>4</td>\n",
       "    </tr>\n",
       "  </tbody>\n",
       "</table>\n",
       "</div>"
      ],
      "text/plain": [
       "    app_id  helpful  funny        date  is_recommended  hours  user_id  \\\n",
       "0   975370        0      0  2022-12-12            True   36.3    21058   \n",
       "1   304390        4      0  2017-02-17           False   11.5     1153   \n",
       "2  1085660        2      0  2019-11-17            True  336.5    96124   \n",
       "3   703080        0      0  2022-09-23            True   27.4    98074   \n",
       "4   526870        0      0  2021-01-10            True    7.9     9634   \n",
       "\n",
       "   review_id  \n",
       "0          0  \n",
       "1          1  \n",
       "2          2  \n",
       "3          3  \n",
       "4          4  "
      ]
     },
     "execution_count": 8,
     "metadata": {},
     "output_type": "execute_result"
    }
   ],
   "source": [
    "recommendations.head()"
   ]
  },
  {
   "attachments": {},
   "cell_type": "markdown",
   "metadata": {
    "id": "UMUMndADXbri"
   },
   "source": [
    "Check missing values in tables\n",
    "\n",
    "What is the percentage of missing values in a dataframe? Currently, there are no missing values in the dataset, so that we can proceed with further investigation."
   ]
  },
  {
   "cell_type": "code",
   "execution_count": 9,
   "metadata": {
    "colab": {
     "base_uri": "https://localhost:8080/",
     "height": 0
    },
    "id": "mPKrCu-EXf6p",
    "outputId": "d8682775-1a78-4e9e-8c39-775dddafeed1"
   },
   "outputs": [
    {
     "data": {
      "text/html": [
       "<style type=\"text/css\">\n",
       "</style>\n",
       "<table id=\"T_ac025\">\n",
       "  <thead>\n",
       "    <tr>\n",
       "      <th id=\"T_ac025_level0_col0\" class=\"col_heading level0 col0\" >Dataframe</th>\n",
       "      <th id=\"T_ac025_level0_col1\" class=\"col_heading level0 col1\" >% of missing values</th>\n",
       "    </tr>\n",
       "  </thead>\n",
       "  <tbody>\n",
       "    <tr>\n",
       "      <td id=\"T_ac025_row0_col0\" class=\"data row0 col0\" >Recommendations</td>\n",
       "      <td id=\"T_ac025_row0_col1\" class=\"data row0 col1\" >0.000000</td>\n",
       "    </tr>\n",
       "    <tr>\n",
       "      <td id=\"T_ac025_row1_col0\" class=\"data row1 col0\" >Users</td>\n",
       "      <td id=\"T_ac025_row1_col1\" class=\"data row1 col1\" >0.000000</td>\n",
       "    </tr>\n",
       "    <tr>\n",
       "      <td id=\"T_ac025_row2_col0\" class=\"data row2 col0\" >Games</td>\n",
       "      <td id=\"T_ac025_row2_col1\" class=\"data row2 col1\" >0.000000</td>\n",
       "    </tr>\n",
       "  </tbody>\n",
       "</table>\n"
      ],
      "text/plain": [
       "<pandas.io.formats.style.Styler at 0x266b5a96ad0>"
      ]
     },
     "execution_count": 9,
     "metadata": {},
     "output_type": "execute_result"
    }
   ],
   "source": [
    "def perc_na(df: pd.DataFrame) -> float:\n",
    "    \"\"\"Calculates a percentage of missing values in the dataframe.\"\"\"\n",
    "    return np.count_nonzero(df.isnull().values) / (df.shape[0] * df.shape[1]) * 100.0\n",
    "\n",
    "\n",
    "pd.DataFrame([\n",
    "    [\"Recommendations\", perc_na(recommendations)],\n",
    "    [\"Users\", perc_na(users)],\n",
    "    [\"Games\", perc_na(games)]\n",
    "], columns=[\"Dataframe\", \"% of missing values\"]).style.hide(axis=\"index\")"
   ]
  },
  {
   "attachments": {},
   "cell_type": "markdown",
   "metadata": {
    "id": "Es9AWiUgasjq"
   },
   "source": [
    "The date release field is object, so let's convert that to datetime."
   ]
  },
  {
   "cell_type": "code",
   "execution_count": 10,
   "metadata": {
    "id": "InsVtGM1YY2C"
   },
   "outputs": [],
   "source": [
    "games['date_release']=pd.to_datetime(games['date_release'])"
   ]
  },
  {
   "attachments": {},
   "cell_type": "markdown",
   "metadata": {
    "id": "TUtYu40SXtTm"
   },
   "source": [
    "Base statistics\n",
    "\n",
    "Before we proceed with the key investigations, we need to get a descriptive statistics on numerical data."
   ]
  },
  {
   "cell_type": "code",
   "execution_count": 11,
   "metadata": {
    "colab": {
     "base_uri": "https://localhost:8080/",
     "height": 0
    },
    "id": "uDee8lpkXp2G",
    "outputId": "807f81df-aea2-4b04-b11b-3625c2052aef"
   },
   "outputs": [
    {
     "data": {
      "text/html": [
       "<div>\n",
       "<style scoped>\n",
       "    .dataframe tbody tr th:only-of-type {\n",
       "        vertical-align: middle;\n",
       "    }\n",
       "\n",
       "    .dataframe tbody tr th {\n",
       "        vertical-align: top;\n",
       "    }\n",
       "\n",
       "    .dataframe thead th {\n",
       "        text-align: right;\n",
       "    }\n",
       "</style>\n",
       "<table border=\"1\" class=\"dataframe\">\n",
       "  <thead>\n",
       "    <tr style=\"text-align: right;\">\n",
       "      <th></th>\n",
       "      <th>count</th>\n",
       "      <th>mean</th>\n",
       "      <th>std</th>\n",
       "      <th>min</th>\n",
       "      <th>10%</th>\n",
       "      <th>25%</th>\n",
       "      <th>50%</th>\n",
       "      <th>75%</th>\n",
       "      <th>90%</th>\n",
       "      <th>max</th>\n",
       "    </tr>\n",
       "  </thead>\n",
       "  <tbody>\n",
       "    <tr>\n",
       "      <th>positive_ratio</th>\n",
       "      <td>48318.0</td>\n",
       "      <td>76.92</td>\n",
       "      <td>18.18</td>\n",
       "      <td>0.0</td>\n",
       "      <td>51.0</td>\n",
       "      <td>67.00</td>\n",
       "      <td>81.00</td>\n",
       "      <td>91.00</td>\n",
       "      <td>96.00</td>\n",
       "      <td>100.00</td>\n",
       "    </tr>\n",
       "    <tr>\n",
       "      <th>user_reviews</th>\n",
       "      <td>48318.0</td>\n",
       "      <td>1767.66</td>\n",
       "      <td>38168.21</td>\n",
       "      <td>10.0</td>\n",
       "      <td>12.0</td>\n",
       "      <td>20.00</td>\n",
       "      <td>51.00</td>\n",
       "      <td>215.00</td>\n",
       "      <td>1125.00</td>\n",
       "      <td>6941137.00</td>\n",
       "    </tr>\n",
       "    <tr>\n",
       "      <th>price_final</th>\n",
       "      <td>48318.0</td>\n",
       "      <td>8.67</td>\n",
       "      <td>11.47</td>\n",
       "      <td>0.0</td>\n",
       "      <td>0.0</td>\n",
       "      <td>0.99</td>\n",
       "      <td>4.99</td>\n",
       "      <td>11.24</td>\n",
       "      <td>19.99</td>\n",
       "      <td>299.99</td>\n",
       "    </tr>\n",
       "    <tr>\n",
       "      <th>discount</th>\n",
       "      <td>48318.0</td>\n",
       "      <td>5.08</td>\n",
       "      <td>18.01</td>\n",
       "      <td>0.0</td>\n",
       "      <td>0.0</td>\n",
       "      <td>0.00</td>\n",
       "      <td>0.00</td>\n",
       "      <td>0.00</td>\n",
       "      <td>0.00</td>\n",
       "      <td>90.00</td>\n",
       "    </tr>\n",
       "  </tbody>\n",
       "</table>\n",
       "</div>"
      ],
      "text/plain": [
       "                  count     mean       std   min   10%    25%    50%     75%  \\\n",
       "positive_ratio  48318.0    76.92     18.18   0.0  51.0  67.00  81.00   91.00   \n",
       "user_reviews    48318.0  1767.66  38168.21  10.0  12.0  20.00  51.00  215.00   \n",
       "price_final     48318.0     8.67     11.47   0.0   0.0   0.99   4.99   11.24   \n",
       "discount        48318.0     5.08     18.01   0.0   0.0   0.00   0.00    0.00   \n",
       "\n",
       "                    90%         max  \n",
       "positive_ratio    96.00      100.00  \n",
       "user_reviews    1125.00  6941137.00  \n",
       "price_final       19.99      299.99  \n",
       "discount           0.00       90.00  "
      ]
     },
     "execution_count": 11,
     "metadata": {},
     "output_type": "execute_result"
    }
   ],
   "source": [
    "games[[\"positive_ratio\", \"user_reviews\", \"price_final\", \"discount\"]].describe(percentiles=[.1, .25, .5, .75, .9]).round(2).T"
   ]
  },
  {
   "cell_type": "code",
   "execution_count": 12,
   "metadata": {
    "colab": {
     "base_uri": "https://localhost:8080/",
     "height": 0
    },
    "id": "hiV4vx7DXz_M",
    "outputId": "819fcdc2-38af-4a35-c614-9b865a2e85c4"
   },
   "outputs": [
    {
     "data": {
      "text/html": [
       "<div>\n",
       "<style scoped>\n",
       "    .dataframe tbody tr th:only-of-type {\n",
       "        vertical-align: middle;\n",
       "    }\n",
       "\n",
       "    .dataframe tbody tr th {\n",
       "        vertical-align: top;\n",
       "    }\n",
       "\n",
       "    .dataframe thead th {\n",
       "        text-align: right;\n",
       "    }\n",
       "</style>\n",
       "<table border=\"1\" class=\"dataframe\">\n",
       "  <thead>\n",
       "    <tr style=\"text-align: right;\">\n",
       "      <th></th>\n",
       "      <th>count</th>\n",
       "      <th>mean</th>\n",
       "      <th>std</th>\n",
       "      <th>min</th>\n",
       "      <th>10%</th>\n",
       "      <th>25%</th>\n",
       "      <th>50%</th>\n",
       "      <th>75%</th>\n",
       "      <th>90%</th>\n",
       "      <th>max</th>\n",
       "    </tr>\n",
       "  </thead>\n",
       "  <tbody>\n",
       "    <tr>\n",
       "      <th>products</th>\n",
       "      <td>6167727.0</td>\n",
       "      <td>134.99</td>\n",
       "      <td>267.23</td>\n",
       "      <td>0.0</td>\n",
       "      <td>8.0</td>\n",
       "      <td>23.0</td>\n",
       "      <td>64.0</td>\n",
       "      <td>154.0</td>\n",
       "      <td>312.0</td>\n",
       "      <td>29308.0</td>\n",
       "    </tr>\n",
       "    <tr>\n",
       "      <th>reviews</th>\n",
       "      <td>6167727.0</td>\n",
       "      <td>1.83</td>\n",
       "      <td>2.33</td>\n",
       "      <td>0.0</td>\n",
       "      <td>1.0</td>\n",
       "      <td>1.0</td>\n",
       "      <td>1.0</td>\n",
       "      <td>2.0</td>\n",
       "      <td>3.0</td>\n",
       "      <td>271.0</td>\n",
       "    </tr>\n",
       "  </tbody>\n",
       "</table>\n",
       "</div>"
      ],
      "text/plain": [
       "              count    mean     std  min  10%   25%   50%    75%    90%  \\\n",
       "products  6167727.0  134.99  267.23  0.0  8.0  23.0  64.0  154.0  312.0   \n",
       "reviews   6167727.0    1.83    2.33  0.0  1.0   1.0   1.0    2.0    3.0   \n",
       "\n",
       "              max  \n",
       "products  29308.0  \n",
       "reviews     271.0  "
      ]
     },
     "execution_count": 12,
     "metadata": {},
     "output_type": "execute_result"
    }
   ],
   "source": [
    "users[[\"products\", \"reviews\"]].describe(percentiles=[.1, .25, .5, .75, .9]).round(2).T"
   ]
  },
  {
   "cell_type": "code",
   "execution_count": 13,
   "metadata": {
    "colab": {
     "base_uri": "https://localhost:8080/",
     "height": 0
    },
    "id": "kll9pmL4X0p5",
    "outputId": "985e0e54-b982-4272-99cb-9437d636c398"
   },
   "outputs": [
    {
     "data": {
      "text/html": [
       "<div>\n",
       "<style scoped>\n",
       "    .dataframe tbody tr th:only-of-type {\n",
       "        vertical-align: middle;\n",
       "    }\n",
       "\n",
       "    .dataframe tbody tr th {\n",
       "        vertical-align: top;\n",
       "    }\n",
       "\n",
       "    .dataframe thead th {\n",
       "        text-align: right;\n",
       "    }\n",
       "</style>\n",
       "<table border=\"1\" class=\"dataframe\">\n",
       "  <thead>\n",
       "    <tr style=\"text-align: right;\">\n",
       "      <th></th>\n",
       "      <th>count</th>\n",
       "      <th>mean</th>\n",
       "      <th>std</th>\n",
       "      <th>min</th>\n",
       "      <th>10%</th>\n",
       "      <th>25%</th>\n",
       "      <th>50%</th>\n",
       "      <th>75%</th>\n",
       "      <th>90%</th>\n",
       "      <th>max</th>\n",
       "    </tr>\n",
       "  </thead>\n",
       "  <tbody>\n",
       "    <tr>\n",
       "      <th>helpful</th>\n",
       "      <td>11265799.0</td>\n",
       "      <td>3.48</td>\n",
       "      <td>56.40</td>\n",
       "      <td>0.0</td>\n",
       "      <td>0.0</td>\n",
       "      <td>0.0</td>\n",
       "      <td>0.0</td>\n",
       "      <td>0.0</td>\n",
       "      <td>3.0</td>\n",
       "      <td>36212.0</td>\n",
       "    </tr>\n",
       "    <tr>\n",
       "      <th>funny</th>\n",
       "      <td>11265799.0</td>\n",
       "      <td>1.18</td>\n",
       "      <td>40.23</td>\n",
       "      <td>0.0</td>\n",
       "      <td>0.0</td>\n",
       "      <td>0.0</td>\n",
       "      <td>0.0</td>\n",
       "      <td>0.0</td>\n",
       "      <td>0.0</td>\n",
       "      <td>28088.0</td>\n",
       "    </tr>\n",
       "    <tr>\n",
       "      <th>hours</th>\n",
       "      <td>11265799.0</td>\n",
       "      <td>147.70</td>\n",
       "      <td>210.06</td>\n",
       "      <td>0.0</td>\n",
       "      <td>5.3</td>\n",
       "      <td>16.2</td>\n",
       "      <td>54.5</td>\n",
       "      <td>181.1</td>\n",
       "      <td>455.5</td>\n",
       "      <td>999.9</td>\n",
       "    </tr>\n",
       "  </tbody>\n",
       "</table>\n",
       "</div>"
      ],
      "text/plain": [
       "              count    mean     std  min  10%   25%   50%    75%    90%  \\\n",
       "helpful  11265799.0    3.48   56.40  0.0  0.0   0.0   0.0    0.0    3.0   \n",
       "funny    11265799.0    1.18   40.23  0.0  0.0   0.0   0.0    0.0    0.0   \n",
       "hours    11265799.0  147.70  210.06  0.0  5.3  16.2  54.5  181.1  455.5   \n",
       "\n",
       "             max  \n",
       "helpful  36212.0  \n",
       "funny    28088.0  \n",
       "hours      999.9  "
      ]
     },
     "execution_count": 13,
     "metadata": {},
     "output_type": "execute_result"
    }
   ],
   "source": [
    "recommendations[[\"helpful\", \"funny\", \"hours\"]].describe(percentiles=[.1, .25, .5, .75, .9]).round(2).T"
   ]
  },
  {
   "attachments": {},
   "cell_type": "markdown",
   "metadata": {
    "id": "q6BRzrHtYEua"
   },
   "source": [
    "Popularity Analysis:"
   ]
  },
  {
   "attachments": {},
   "cell_type": "markdown",
   "metadata": {
    "id": "LnSNdX6dYKho"
   },
   "source": [
    "In this analysis we will define \"popular\" as games having high number number of user reviews. So, games with higher number of reviews means it is much more popular than games with lower number of user reviews."
   ]
  },
  {
   "attachments": {},
   "cell_type": "markdown",
   "metadata": {
    "id": "aD8ZeazWYj4L"
   },
   "source": [
    "1. Top 10 popular games of 2022 with positive reviews\n",
    "\n",
    "First, filttering games which was released in 2022 and has positive_ratio more than 90. Then sorting the data by user_reviews and positive_ratio in descending order to get popular games that people liked the most."
   ]
  },
  {
   "cell_type": "code",
   "execution_count": 14,
   "metadata": {
    "colab": {
     "base_uri": "https://localhost:8080/",
     "height": 0
    },
    "id": "vVTlVEc8YEWr",
    "outputId": "a3800e0b-22f7-463d-c6e9-056bc8956d8c"
   },
   "outputs": [
    {
     "data": {
      "text/html": [
       "<div>\n",
       "<style scoped>\n",
       "    .dataframe tbody tr th:only-of-type {\n",
       "        vertical-align: middle;\n",
       "    }\n",
       "\n",
       "    .dataframe tbody tr th {\n",
       "        vertical-align: top;\n",
       "    }\n",
       "\n",
       "    .dataframe thead th {\n",
       "        text-align: right;\n",
       "    }\n",
       "</style>\n",
       "<table border=\"1\" class=\"dataframe\">\n",
       "  <thead>\n",
       "    <tr style=\"text-align: right;\">\n",
       "      <th></th>\n",
       "      <th>title</th>\n",
       "      <th>user_reviews</th>\n",
       "      <th>positive_ratio</th>\n",
       "    </tr>\n",
       "  </thead>\n",
       "  <tbody>\n",
       "    <tr>\n",
       "      <th>9226</th>\n",
       "      <td>ELDEN RING</td>\n",
       "      <td>481754</td>\n",
       "      <td>91</td>\n",
       "    </tr>\n",
       "    <tr>\n",
       "      <th>3591</th>\n",
       "      <td>Raft</td>\n",
       "      <td>218598</td>\n",
       "      <td>93</td>\n",
       "    </tr>\n",
       "    <tr>\n",
       "      <th>2668</th>\n",
       "      <td>Vampire Survivors</td>\n",
       "      <td>175903</td>\n",
       "      <td>98</td>\n",
       "    </tr>\n",
       "    <tr>\n",
       "      <th>1351</th>\n",
       "      <td>Stray</td>\n",
       "      <td>101109</td>\n",
       "      <td>97</td>\n",
       "    </tr>\n",
       "    <tr>\n",
       "      <th>6587</th>\n",
       "      <td>God of War</td>\n",
       "      <td>65968</td>\n",
       "      <td>97</td>\n",
       "    </tr>\n",
       "    <tr>\n",
       "      <th>13119</th>\n",
       "      <td>Teardown</td>\n",
       "      <td>60815</td>\n",
       "      <td>96</td>\n",
       "    </tr>\n",
       "    <tr>\n",
       "      <th>12167</th>\n",
       "      <td>Marvel’s Spider-Man Remastered</td>\n",
       "      <td>41232</td>\n",
       "      <td>96</td>\n",
       "    </tr>\n",
       "    <tr>\n",
       "      <th>7964</th>\n",
       "      <td>Cult of the Lamb</td>\n",
       "      <td>40135</td>\n",
       "      <td>93</td>\n",
       "    </tr>\n",
       "    <tr>\n",
       "      <th>8307</th>\n",
       "      <td>PowerWash Simulator</td>\n",
       "      <td>29465</td>\n",
       "      <td>97</td>\n",
       "    </tr>\n",
       "    <tr>\n",
       "      <th>10731</th>\n",
       "      <td>LEGO® Star Wars™: The Skywalker Saga</td>\n",
       "      <td>28451</td>\n",
       "      <td>92</td>\n",
       "    </tr>\n",
       "  </tbody>\n",
       "</table>\n",
       "</div>"
      ],
      "text/plain": [
       "                                      title  user_reviews  positive_ratio\n",
       "9226                             ELDEN RING        481754              91\n",
       "3591                                   Raft        218598              93\n",
       "2668                      Vampire Survivors        175903              98\n",
       "1351                                  Stray        101109              97\n",
       "6587                             God of War         65968              97\n",
       "13119                              Teardown         60815              96\n",
       "12167        Marvel’s Spider-Man Remastered         41232              96\n",
       "7964                       Cult of the Lamb         40135              93\n",
       "8307                    PowerWash Simulator         29465              97\n",
       "10731  LEGO® Star Wars™: The Skywalker Saga         28451              92"
      ]
     },
     "execution_count": 14,
     "metadata": {},
     "output_type": "execute_result"
    }
   ],
   "source": [
    "df = games\n",
    "game_data1=df.loc[(df['date_release'].dt.year==2022) & (df['positive_ratio']>=90)].sort_values(['user_reviews','positive_ratio'],ascending=[False,False]).head(10)\n",
    "game_data1[['title','user_reviews','positive_ratio']]"
   ]
  },
  {
   "attachments": {},
   "cell_type": "markdown",
   "metadata": {
    "id": "85kLaw7WYvPn"
   },
   "source": [
    "2. Top 10 popular games of 2022 with mixed or lower reviews\n",
    "\n",
    "Filtering data which has positive_ratio less than 70 and sorting by user_reviews and positive_ratio columns."
   ]
  },
  {
   "cell_type": "code",
   "execution_count": 15,
   "metadata": {
    "colab": {
     "base_uri": "https://localhost:8080/",
     "height": 0
    },
    "id": "UjW8XQTSYxT1",
    "outputId": "b25b9583-4498-48fe-e7dc-8056338c5dcc"
   },
   "outputs": [
    {
     "data": {
      "text/html": [
       "<div>\n",
       "<style scoped>\n",
       "    .dataframe tbody tr th:only-of-type {\n",
       "        vertical-align: middle;\n",
       "    }\n",
       "\n",
       "    .dataframe tbody tr th {\n",
       "        vertical-align: top;\n",
       "    }\n",
       "\n",
       "    .dataframe thead th {\n",
       "        text-align: right;\n",
       "    }\n",
       "</style>\n",
       "<table border=\"1\" class=\"dataframe\">\n",
       "  <thead>\n",
       "    <tr style=\"text-align: right;\">\n",
       "      <th></th>\n",
       "      <th>title</th>\n",
       "      <th>user_reviews</th>\n",
       "      <th>positive_ratio</th>\n",
       "    </tr>\n",
       "  </thead>\n",
       "  <tbody>\n",
       "    <tr>\n",
       "      <th>16364</th>\n",
       "      <td>Call of Duty®: Modern Warfare® II</td>\n",
       "      <td>316804</td>\n",
       "      <td>62</td>\n",
       "    </tr>\n",
       "    <tr>\n",
       "      <th>38840</th>\n",
       "      <td>Mirror 2: Project X</td>\n",
       "      <td>110981</td>\n",
       "      <td>26</td>\n",
       "    </tr>\n",
       "    <tr>\n",
       "      <th>2112</th>\n",
       "      <td>EA SPORTS™ FIFA 23</td>\n",
       "      <td>67263</td>\n",
       "      <td>50</td>\n",
       "    </tr>\n",
       "    <tr>\n",
       "      <th>12660</th>\n",
       "      <td>Warhammer 40000: Darktide</td>\n",
       "      <td>54741</td>\n",
       "      <td>54</td>\n",
       "    </tr>\n",
       "    <tr>\n",
       "      <th>19737</th>\n",
       "      <td>World War 3</td>\n",
       "      <td>49594</td>\n",
       "      <td>54</td>\n",
       "    </tr>\n",
       "    <tr>\n",
       "      <th>20602</th>\n",
       "      <td>The Cycle: Frontier</td>\n",
       "      <td>39025</td>\n",
       "      <td>61</td>\n",
       "    </tr>\n",
       "    <tr>\n",
       "      <th>393</th>\n",
       "      <td>Dread Hunger</td>\n",
       "      <td>38500</td>\n",
       "      <td>61</td>\n",
       "    </tr>\n",
       "    <tr>\n",
       "      <th>10539</th>\n",
       "      <td>The Callisto Protocol™</td>\n",
       "      <td>21737</td>\n",
       "      <td>62</td>\n",
       "    </tr>\n",
       "    <tr>\n",
       "      <th>28674</th>\n",
       "      <td>Call of Duty®: Warzone™ 2.0</td>\n",
       "      <td>19770</td>\n",
       "      <td>34</td>\n",
       "    </tr>\n",
       "    <tr>\n",
       "      <th>14964</th>\n",
       "      <td>Victoria 3</td>\n",
       "      <td>19223</td>\n",
       "      <td>67</td>\n",
       "    </tr>\n",
       "  </tbody>\n",
       "</table>\n",
       "</div>"
      ],
      "text/plain": [
       "                                   title  user_reviews  positive_ratio\n",
       "16364  Call of Duty®: Modern Warfare® II        316804              62\n",
       "38840                Mirror 2: Project X        110981              26\n",
       "2112                  EA SPORTS™ FIFA 23         67263              50\n",
       "12660          Warhammer 40000: Darktide         54741              54\n",
       "19737                        World War 3         49594              54\n",
       "20602                The Cycle: Frontier         39025              61\n",
       "393                         Dread Hunger         38500              61\n",
       "10539             The Callisto Protocol™         21737              62\n",
       "28674        Call of Duty®: Warzone™ 2.0         19770              34\n",
       "14964                         Victoria 3         19223              67"
      ]
     },
     "execution_count": 15,
     "metadata": {},
     "output_type": "execute_result"
    }
   ],
   "source": [
    "df = games\n",
    "game_data2=df.loc[(df['date_release'].dt.year==2022) & (df['positive_ratio']<70)].sort_values(['user_reviews','positive_ratio'],ascending=[False,True]).head(10)\n",
    "game_data2[['title','user_reviews','positive_ratio']]"
   ]
  },
  {
   "attachments": {},
   "cell_type": "markdown",
   "metadata": {
    "id": "1trBNgGvY3N2"
   },
   "source": [
    "3. Top 10 popular games of 2022 among mac apple users\n",
    "\n",
    "Filtering data that released in 2022, has positive_ratio more than 90 and are available for mac users."
   ]
  },
  {
   "cell_type": "code",
   "execution_count": 16,
   "metadata": {
    "colab": {
     "base_uri": "https://localhost:8080/",
     "height": 0
    },
    "id": "VbSxgTZjY2yg",
    "outputId": "44bf9c2d-d15c-4fda-925f-403c9589b02d"
   },
   "outputs": [
    {
     "data": {
      "text/html": [
       "<div>\n",
       "<style scoped>\n",
       "    .dataframe tbody tr th:only-of-type {\n",
       "        vertical-align: middle;\n",
       "    }\n",
       "\n",
       "    .dataframe tbody tr th {\n",
       "        vertical-align: top;\n",
       "    }\n",
       "\n",
       "    .dataframe thead th {\n",
       "        text-align: right;\n",
       "    }\n",
       "</style>\n",
       "<table border=\"1\" class=\"dataframe\">\n",
       "  <thead>\n",
       "    <tr style=\"text-align: right;\">\n",
       "      <th></th>\n",
       "      <th>title</th>\n",
       "      <th>user_reviews</th>\n",
       "      <th>positive_ratio</th>\n",
       "    </tr>\n",
       "  </thead>\n",
       "  <tbody>\n",
       "    <tr>\n",
       "      <th>2668</th>\n",
       "      <td>Vampire Survivors</td>\n",
       "      <td>175903</td>\n",
       "      <td>98</td>\n",
       "    </tr>\n",
       "    <tr>\n",
       "      <th>7964</th>\n",
       "      <td>Cult of the Lamb</td>\n",
       "      <td>40135</td>\n",
       "      <td>93</td>\n",
       "    </tr>\n",
       "    <tr>\n",
       "      <th>2773</th>\n",
       "      <td>NEEDY STREAMER OVERLOAD</td>\n",
       "      <td>19517</td>\n",
       "      <td>95</td>\n",
       "    </tr>\n",
       "    <tr>\n",
       "      <th>18158</th>\n",
       "      <td>20 Minutes Till Dawn</td>\n",
       "      <td>18493</td>\n",
       "      <td>92</td>\n",
       "    </tr>\n",
       "    <tr>\n",
       "      <th>4267</th>\n",
       "      <td>The Stanley Parable: Ultra Deluxe</td>\n",
       "      <td>18171</td>\n",
       "      <td>94</td>\n",
       "    </tr>\n",
       "    <tr>\n",
       "      <th>17732</th>\n",
       "      <td>Stacklands</td>\n",
       "      <td>16917</td>\n",
       "      <td>96</td>\n",
       "    </tr>\n",
       "    <tr>\n",
       "      <th>3820</th>\n",
       "      <td>Rogue Legacy 2</td>\n",
       "      <td>11679</td>\n",
       "      <td>90</td>\n",
       "    </tr>\n",
       "    <tr>\n",
       "      <th>10504</th>\n",
       "      <td>Quaver</td>\n",
       "      <td>11567</td>\n",
       "      <td>92</td>\n",
       "    </tr>\n",
       "    <tr>\n",
       "      <th>28789</th>\n",
       "      <td>The Looker</td>\n",
       "      <td>10889</td>\n",
       "      <td>97</td>\n",
       "    </tr>\n",
       "    <tr>\n",
       "      <th>17413</th>\n",
       "      <td>Soulstone Survivors</td>\n",
       "      <td>8873</td>\n",
       "      <td>91</td>\n",
       "    </tr>\n",
       "  </tbody>\n",
       "</table>\n",
       "</div>"
      ],
      "text/plain": [
       "                                   title  user_reviews  positive_ratio\n",
       "2668                   Vampire Survivors        175903              98\n",
       "7964                    Cult of the Lamb         40135              93\n",
       "2773             NEEDY STREAMER OVERLOAD         19517              95\n",
       "18158               20 Minutes Till Dawn         18493              92\n",
       "4267   The Stanley Parable: Ultra Deluxe         18171              94\n",
       "17732                         Stacklands         16917              96\n",
       "3820                      Rogue Legacy 2         11679              90\n",
       "10504                             Quaver         11567              92\n",
       "28789                         The Looker         10889              97\n",
       "17413                Soulstone Survivors          8873              91"
      ]
     },
     "execution_count": 16,
     "metadata": {},
     "output_type": "execute_result"
    }
   ],
   "source": [
    "df = games\n",
    "game_data3=df.loc[(df['date_release'].dt.year==2022) & (df['positive_ratio']>=90) & (df['mac']==True)].sort_values(['user_reviews','positive_ratio'],ascending=[False,False]).head(10)\n",
    "game_data3[['title','user_reviews','positive_ratio']]"
   ]
  },
  {
   "attachments": {},
   "cell_type": "markdown",
   "metadata": {
    "id": "21obARPGZWcI"
   },
   "source": [
    "Genre Popularity Analysis:\n"
   ]
  },
  {
   "cell_type": "code",
   "execution_count": 17,
   "metadata": {
    "id": "FdfjKf7JZeSb"
   },
   "outputs": [],
   "source": [
    "from matplotlib import pyplot as plt"
   ]
  },
  {
   "cell_type": "code",
   "execution_count": 18,
   "metadata": {
    "id": "QnMu4CkmZSmX"
   },
   "outputs": [],
   "source": [
    "# Merging the two data frames\n",
    "gamesdf = games.merge(games_metadata, on='app_id')\n",
    "# These are the columns that we are interested in\n",
    "relevant_cols = ['app_id', 'title', 'positive_ratio', 'user_reviews', 'tags']\n",
    "gamesdf = gamesdf[relevant_cols]\n",
    "# Sort by user reviews to keep the top 100 reviewed games\n",
    "gamesdf = gamesdf.sort_values(by = 'user_reviews', ascending = False)\n",
    "gamesdf = gamesdf.head(100)\n",
    "review_avg = gamesdf['user_reviews'].mean()"
   ]
  },
  {
   "cell_type": "code",
   "execution_count": 19,
   "metadata": {
    "colab": {
     "base_uri": "https://localhost:8080/",
     "height": 0
    },
    "id": "bU6KfusrZcGn",
    "outputId": "416dda7e-f1b7-4955-8b28-d4d1d713b7fc"
   },
   "outputs": [
    {
     "name": "stdout",
     "output_type": "stream",
     "text": [
      "Series Size  246\n",
      "Average Common Genres  8.130081300813009\n"
     ]
    },
    {
     "data": {
      "image/png": "[encoded data removed]",
      "text/plain": [
       "<Figure size 640x480 with 1 Axes>"
      ]
     },
     "metadata": {},
     "output_type": "display_data"
    }
   ],
   "source": [
    "genres = gamesdf['tags']\n",
    "count_list = []\n",
    "for i in genres:\n",
    "    for j in i:\n",
    "        count_list.append(j)\n",
    "\n",
    "sorted_genres = pd.value_counts(np.array(count_list))\n",
    "sorted_genres = sorted_genres.sort_values(ascending=False)\n",
    "print(\"Series Size \", sorted_genres.size)\n",
    "print(\"Average Common Genres \", sorted_genres.mean())\n",
    "\n",
    "# Create a chart to help us see our results\n",
    "genre_slice = sorted_genres.head(10)\n",
    "labels = genre_slice.keys()\n",
    "\n",
    "fig, ax = plt.subplots()\n",
    "plt.title('Most Reviewed Game Tags')\n",
    "pchart = ax.pie(genre_slice, labels = labels, autopct='%1.1f%%')"
   ]
  },
  {
   "attachments": {},
   "cell_type": "markdown",
   "metadata": {
    "id": "nfiljLLLZi9h"
   },
   "source": [
    "Based on this, we can see that some of the most popular games share common tags. However, some of these tags seem like they are very similar, things like Multiplayer, Co-op, and Online Co-op are three tags that one game could have. Some insights that we can find from this list is that Action is the most popular genre, with other notable tags such as Adventure, Simulation, FPS, RPG, and Strategy. Some of these tags describe features in a game rather than a genre, popular features seem to be Multiplayer, Open World, and First Person Shooter (FPS). The amount of multiplayer and singleplayer games are very close to being even, therefore it does not seem like there is a strong preference between one or the other.\n",
    "This list does have some flaws however. This list of games was gathered based on the amount of reviews a game has, whether the reviews were positive or not had no bearing. Now it could be worthwhile looking at some of the most positively reviewed games and comparing their tags to the most common ones that we have found here."
   ]
  },
  {
   "cell_type": "code",
   "execution_count": 20,
   "metadata": {
    "colab": {
     "base_uri": "https://localhost:8080/",
     "height": 0
    },
    "id": "fpKc75MNZn4O",
    "outputId": "a687917d-4377-42d3-9d7f-76b721c7c8bb"
   },
   "outputs": [
    {
     "name": "stdout",
     "output_type": "stream",
     "text": [
      "Series Size  108\n",
      "Average Common Genres  1.8518518518518519\n"
     ]
    },
    {
     "data": {
      "image/png": "[encoded data removed]",
      "text/plain": [
       "<Figure size 640x480 with 1 Axes>"
      ]
     },
     "metadata": {},
     "output_type": "display_data"
    }
   ],
   "source": [
    "gamesdf = gamesdf.sort_values('positive_ratio', ascending=False)\n",
    "positivedf = gamesdf.head(10)\n",
    "tags = positivedf['tags']\n",
    "count_list = []\n",
    "for i in tags:\n",
    "    for j in i:\n",
    "        count_list.append(j)\n",
    "\n",
    "sorted_tags = pd.value_counts(np.array(count_list))\n",
    "sorted_tags = sorted_tags.sort_values(ascending=False)\n",
    "print(\"Series Size \", sorted_tags.size)\n",
    "print(\"Average Common Genres \", sorted_tags.mean())  \n",
    "\n",
    "# Create a chart to help us see our results\n",
    "tag_slice = sorted_tags.head(10)\n",
    "labels = tag_slice.keys()\n",
    "\n",
    "fig, ax = plt.subplots()\n",
    "plt.title('Most Positively Reviewed Game Tags')\n",
    "pchart = ax.pie(tag_slice, labels = labels, autopct='%1.1f%%')"
   ]
  },
  {
   "attachments": {},
   "cell_type": "markdown",
   "metadata": {
    "id": "Gw0HTY_2Zrqk"
   },
   "source": [
    "Now we find a very interesting result. After taking the most positively reviewed games, the common tags look very different from before. We see now that instead of Action, Indie is the most popular tag on this list. Action is still a close second. We also see that singleplayer is more common now than multiplayer. New tags that were previously not as significant in the larger list, such as 2D, Pixel Graphics, Horror, Building, and Roguelike. From this we can see that indie games perform extremely well when they focus on creating a strong singleplayer experience, with some of the other tags mentioned in the graph such as Sandbox and RPG. On the other hand, larger studios will have more success with making a game that is either singleplayer or multiplayer and it has elements which would make it an Adventure, FPS, and Open World.\n"
   ]
  },
  {
   "attachments": {},
   "cell_type": "markdown",
   "metadata": {
    "id": "jfIsduCibB8k",
    "jp-MarkdownHeadingCollapsed": true,
    "tags": []
   },
   "source": [
    "# Neighbourhood based collaborative filtering"
   ]
  },
  {
   "attachments": {},
   "cell_type": "markdown",
   "metadata": {
    "id": "eEu8yi9_kqoP"
   },
   "source": [
    "Reducing rows because colab has RAM limit"
   ]
  },
  {
   "cell_type": "code",
   "execution_count": 21,
   "metadata": {
    "colab": {
     "base_uri": "https://localhost:8080/",
     "height": 423
    },
    "id": "LyCPLWDjbLoo",
    "outputId": "c005dd46-2385-4e00-a7bd-4d793d1995f9"
   },
   "outputs": [],
   "source": [
    "n = 80000\n",
    "recommendations = pd.read_csv('SteamDataset/recommendations.csv')"
   ]
  },
  {
   "cell_type": "code",
   "execution_count": 22,
   "metadata": {
    "colab": {
     "base_uri": "https://localhost:8080/",
     "height": 423
    },
    "id": "ON_7osk4jIyj",
    "outputId": "22194301-0e83-47c2-b0c8-b3cf84d95599"
   },
   "outputs": [
    {
     "data": {
      "text/html": [
       "<div>\n",
       "<style scoped>\n",
       "    .dataframe tbody tr th:only-of-type {\n",
       "        vertical-align: middle;\n",
       "    }\n",
       "\n",
       "    .dataframe tbody tr th {\n",
       "        vertical-align: top;\n",
       "    }\n",
       "\n",
       "    .dataframe thead th {\n",
       "        text-align: right;\n",
       "    }\n",
       "</style>\n",
       "<table border=\"1\" class=\"dataframe\">\n",
       "  <thead>\n",
       "    <tr style=\"text-align: right;\">\n",
       "      <th></th>\n",
       "      <th>app_id</th>\n",
       "      <th>helpful</th>\n",
       "      <th>funny</th>\n",
       "      <th>date</th>\n",
       "      <th>is_recommended</th>\n",
       "      <th>hours</th>\n",
       "      <th>user_id</th>\n",
       "      <th>review_id</th>\n",
       "    </tr>\n",
       "  </thead>\n",
       "  <tbody>\n",
       "    <tr>\n",
       "      <th>58</th>\n",
       "      <td>602960</td>\n",
       "      <td>0</td>\n",
       "      <td>0</td>\n",
       "      <td>2022-01-05</td>\n",
       "      <td>True</td>\n",
       "      <td>41.9</td>\n",
       "      <td>279151</td>\n",
       "      <td>58</td>\n",
       "    </tr>\n",
       "    <tr>\n",
       "      <th>138</th>\n",
       "      <td>570940</td>\n",
       "      <td>348</td>\n",
       "      <td>39</td>\n",
       "      <td>2021-12-11</td>\n",
       "      <td>False</td>\n",
       "      <td>73.3</td>\n",
       "      <td>2199166</td>\n",
       "      <td>138</td>\n",
       "    </tr>\n",
       "    <tr>\n",
       "      <th>139</th>\n",
       "      <td>397540</td>\n",
       "      <td>0</td>\n",
       "      <td>0</td>\n",
       "      <td>2020-07-18</td>\n",
       "      <td>True</td>\n",
       "      <td>86.3</td>\n",
       "      <td>2243392</td>\n",
       "      <td>139</td>\n",
       "    </tr>\n",
       "    <tr>\n",
       "      <th>141</th>\n",
       "      <td>39210</td>\n",
       "      <td>0</td>\n",
       "      <td>0</td>\n",
       "      <td>2021-04-09</td>\n",
       "      <td>True</td>\n",
       "      <td>123.1</td>\n",
       "      <td>2260360</td>\n",
       "      <td>141</td>\n",
       "    </tr>\n",
       "    <tr>\n",
       "      <th>151</th>\n",
       "      <td>1196590</td>\n",
       "      <td>0</td>\n",
       "      <td>0</td>\n",
       "      <td>2022-07-03</td>\n",
       "      <td>True</td>\n",
       "      <td>19.0</td>\n",
       "      <td>2575791</td>\n",
       "      <td>151</td>\n",
       "    </tr>\n",
       "    <tr>\n",
       "      <th>...</th>\n",
       "      <td>...</td>\n",
       "      <td>...</td>\n",
       "      <td>...</td>\n",
       "      <td>...</td>\n",
       "      <td>...</td>\n",
       "      <td>...</td>\n",
       "      <td>...</td>\n",
       "      <td>...</td>\n",
       "    </tr>\n",
       "    <tr>\n",
       "      <th>11265720</th>\n",
       "      <td>750920</td>\n",
       "      <td>32</td>\n",
       "      <td>0</td>\n",
       "      <td>2021-10-29</td>\n",
       "      <td>True</td>\n",
       "      <td>526.3</td>\n",
       "      <td>5583454</td>\n",
       "      <td>11265720</td>\n",
       "    </tr>\n",
       "    <tr>\n",
       "      <th>11265723</th>\n",
       "      <td>666140</td>\n",
       "      <td>7</td>\n",
       "      <td>0</td>\n",
       "      <td>2018-07-31</td>\n",
       "      <td>True</td>\n",
       "      <td>289.4</td>\n",
       "      <td>1153783</td>\n",
       "      <td>11265723</td>\n",
       "    </tr>\n",
       "    <tr>\n",
       "      <th>11265756</th>\n",
       "      <td>476600</td>\n",
       "      <td>2788</td>\n",
       "      <td>79</td>\n",
       "      <td>2017-11-03</td>\n",
       "      <td>False</td>\n",
       "      <td>31.9</td>\n",
       "      <td>5110523</td>\n",
       "      <td>11265756</td>\n",
       "    </tr>\n",
       "    <tr>\n",
       "      <th>11265770</th>\n",
       "      <td>640820</td>\n",
       "      <td>2</td>\n",
       "      <td>0</td>\n",
       "      <td>2021-12-02</td>\n",
       "      <td>True</td>\n",
       "      <td>69.9</td>\n",
       "      <td>3634187</td>\n",
       "      <td>11265770</td>\n",
       "    </tr>\n",
       "    <tr>\n",
       "      <th>11265782</th>\n",
       "      <td>512900</td>\n",
       "      <td>37</td>\n",
       "      <td>17</td>\n",
       "      <td>2022-07-06</td>\n",
       "      <td>True</td>\n",
       "      <td>52.4</td>\n",
       "      <td>5128580</td>\n",
       "      <td>11265782</td>\n",
       "    </tr>\n",
       "  </tbody>\n",
       "</table>\n",
       "<p>645912 rows × 8 columns</p>\n",
       "</div>"
      ],
      "text/plain": [
       "           app_id  helpful  funny        date  is_recommended  hours  user_id  \\\n",
       "58         602960        0      0  2022-01-05            True   41.9   279151   \n",
       "138        570940      348     39  2021-12-11           False   73.3  2199166   \n",
       "139        397540        0      0  2020-07-18            True   86.3  2243392   \n",
       "141         39210        0      0  2021-04-09            True  123.1  2260360   \n",
       "151       1196590        0      0  2022-07-03            True   19.0  2575791   \n",
       "...           ...      ...    ...         ...             ...    ...      ...   \n",
       "11265720   750920       32      0  2021-10-29            True  526.3  5583454   \n",
       "11265723   666140        7      0  2018-07-31            True  289.4  1153783   \n",
       "11265756   476600     2788     79  2017-11-03           False   31.9  5110523   \n",
       "11265770   640820        2      0  2021-12-02            True   69.9  3634187   \n",
       "11265782   512900       37     17  2022-07-06            True   52.4  5128580   \n",
       "\n",
       "          review_id  \n",
       "58               58  \n",
       "138             138  \n",
       "139             139  \n",
       "141             141  \n",
       "151             151  \n",
       "...             ...  \n",
       "11265720   11265720  \n",
       "11265723   11265723  \n",
       "11265756   11265756  \n",
       "11265770   11265770  \n",
       "11265782   11265782  \n",
       "\n",
       "[645912 rows x 8 columns]"
      ]
     },
     "execution_count": 22,
     "metadata": {},
     "output_type": "execute_result"
    }
   ],
   "source": [
    "import math\n",
    "def scal_f(df):\n",
    "  e = 2.718\n",
    "  if(df['is_recommended']):\n",
    "    return df['hours']\n",
    "  else:\n",
    "    return math.log2((1+df['hours'])) - 10\n",
    "recommendations = recommendations[recommendations.groupby('user_id')['user_id'].transform('size') > 15]\n",
    "recommendations"
   ]
  },
  {
   "cell_type": "code",
   "execution_count": 23,
   "metadata": {},
   "outputs": [
    {
     "data": {
      "text/html": [
       "<div>\n",
       "<style scoped>\n",
       "    .dataframe tbody tr th:only-of-type {\n",
       "        vertical-align: middle;\n",
       "    }\n",
       "\n",
       "    .dataframe tbody tr th {\n",
       "        vertical-align: top;\n",
       "    }\n",
       "\n",
       "    .dataframe thead th {\n",
       "        text-align: right;\n",
       "    }\n",
       "</style>\n",
       "<table border=\"1\" class=\"dataframe\">\n",
       "  <thead>\n",
       "    <tr style=\"text-align: right;\">\n",
       "      <th></th>\n",
       "      <th>app_id</th>\n",
       "      <th>helpful</th>\n",
       "      <th>funny</th>\n",
       "      <th>date</th>\n",
       "      <th>is_recommended</th>\n",
       "      <th>hours</th>\n",
       "      <th>user_id</th>\n",
       "      <th>review_id</th>\n",
       "      <th>rating</th>\n",
       "    </tr>\n",
       "  </thead>\n",
       "  <tbody>\n",
       "    <tr>\n",
       "      <th>58</th>\n",
       "      <td>602960</td>\n",
       "      <td>0</td>\n",
       "      <td>0</td>\n",
       "      <td>2022-01-05</td>\n",
       "      <td>True</td>\n",
       "      <td>41.9</td>\n",
       "      <td>279151</td>\n",
       "      <td>58</td>\n",
       "      <td>5</td>\n",
       "    </tr>\n",
       "    <tr>\n",
       "      <th>138</th>\n",
       "      <td>570940</td>\n",
       "      <td>348</td>\n",
       "      <td>39</td>\n",
       "      <td>2021-12-11</td>\n",
       "      <td>False</td>\n",
       "      <td>73.3</td>\n",
       "      <td>2199166</td>\n",
       "      <td>138</td>\n",
       "      <td>1</td>\n",
       "    </tr>\n",
       "    <tr>\n",
       "      <th>139</th>\n",
       "      <td>397540</td>\n",
       "      <td>0</td>\n",
       "      <td>0</td>\n",
       "      <td>2020-07-18</td>\n",
       "      <td>True</td>\n",
       "      <td>86.3</td>\n",
       "      <td>2243392</td>\n",
       "      <td>139</td>\n",
       "      <td>4</td>\n",
       "    </tr>\n",
       "    <tr>\n",
       "      <th>141</th>\n",
       "      <td>39210</td>\n",
       "      <td>0</td>\n",
       "      <td>0</td>\n",
       "      <td>2021-04-09</td>\n",
       "      <td>True</td>\n",
       "      <td>123.1</td>\n",
       "      <td>2260360</td>\n",
       "      <td>141</td>\n",
       "      <td>5</td>\n",
       "    </tr>\n",
       "    <tr>\n",
       "      <th>151</th>\n",
       "      <td>1196590</td>\n",
       "      <td>0</td>\n",
       "      <td>0</td>\n",
       "      <td>2022-07-03</td>\n",
       "      <td>True</td>\n",
       "      <td>19.0</td>\n",
       "      <td>2575791</td>\n",
       "      <td>151</td>\n",
       "      <td>4</td>\n",
       "    </tr>\n",
       "    <tr>\n",
       "      <th>...</th>\n",
       "      <td>...</td>\n",
       "      <td>...</td>\n",
       "      <td>...</td>\n",
       "      <td>...</td>\n",
       "      <td>...</td>\n",
       "      <td>...</td>\n",
       "      <td>...</td>\n",
       "      <td>...</td>\n",
       "      <td>...</td>\n",
       "    </tr>\n",
       "    <tr>\n",
       "      <th>11265720</th>\n",
       "      <td>750920</td>\n",
       "      <td>32</td>\n",
       "      <td>0</td>\n",
       "      <td>2021-10-29</td>\n",
       "      <td>True</td>\n",
       "      <td>526.3</td>\n",
       "      <td>5583454</td>\n",
       "      <td>11265720</td>\n",
       "      <td>5</td>\n",
       "    </tr>\n",
       "    <tr>\n",
       "      <th>11265723</th>\n",
       "      <td>666140</td>\n",
       "      <td>7</td>\n",
       "      <td>0</td>\n",
       "      <td>2018-07-31</td>\n",
       "      <td>True</td>\n",
       "      <td>289.4</td>\n",
       "      <td>1153783</td>\n",
       "      <td>11265723</td>\n",
       "      <td>5</td>\n",
       "    </tr>\n",
       "    <tr>\n",
       "      <th>11265756</th>\n",
       "      <td>476600</td>\n",
       "      <td>2788</td>\n",
       "      <td>79</td>\n",
       "      <td>2017-11-03</td>\n",
       "      <td>False</td>\n",
       "      <td>31.9</td>\n",
       "      <td>5110523</td>\n",
       "      <td>11265756</td>\n",
       "      <td>1</td>\n",
       "    </tr>\n",
       "    <tr>\n",
       "      <th>11265770</th>\n",
       "      <td>640820</td>\n",
       "      <td>2</td>\n",
       "      <td>0</td>\n",
       "      <td>2021-12-02</td>\n",
       "      <td>True</td>\n",
       "      <td>69.9</td>\n",
       "      <td>3634187</td>\n",
       "      <td>11265770</td>\n",
       "      <td>4</td>\n",
       "    </tr>\n",
       "    <tr>\n",
       "      <th>11265782</th>\n",
       "      <td>512900</td>\n",
       "      <td>37</td>\n",
       "      <td>17</td>\n",
       "      <td>2022-07-06</td>\n",
       "      <td>True</td>\n",
       "      <td>52.4</td>\n",
       "      <td>5128580</td>\n",
       "      <td>11265782</td>\n",
       "      <td>4</td>\n",
       "    </tr>\n",
       "  </tbody>\n",
       "</table>\n",
       "<p>645912 rows × 9 columns</p>\n",
       "</div>"
      ],
      "text/plain": [
       "           app_id  helpful  funny        date  is_recommended  hours  user_id  \\\n",
       "58         602960        0      0  2022-01-05            True   41.9   279151   \n",
       "138        570940      348     39  2021-12-11           False   73.3  2199166   \n",
       "139        397540        0      0  2020-07-18            True   86.3  2243392   \n",
       "141         39210        0      0  2021-04-09            True  123.1  2260360   \n",
       "151       1196590        0      0  2022-07-03            True   19.0  2575791   \n",
       "...           ...      ...    ...         ...             ...    ...      ...   \n",
       "11265720   750920       32      0  2021-10-29            True  526.3  5583454   \n",
       "11265723   666140        7      0  2018-07-31            True  289.4  1153783   \n",
       "11265756   476600     2788     79  2017-11-03           False   31.9  5110523   \n",
       "11265770   640820        2      0  2021-12-02            True   69.9  3634187   \n",
       "11265782   512900       37     17  2022-07-06            True   52.4  5128580   \n",
       "\n",
       "          review_id rating  \n",
       "58               58      5  \n",
       "138             138      1  \n",
       "139             139      4  \n",
       "141             141      5  \n",
       "151             151      4  \n",
       "...             ...    ...  \n",
       "11265720   11265720      5  \n",
       "11265723   11265723      5  \n",
       "11265756   11265756      1  \n",
       "11265770   11265770      4  \n",
       "11265782   11265782      4  \n",
       "\n",
       "[645912 rows x 9 columns]"
      ]
     },
     "execution_count": 23,
     "metadata": {},
     "output_type": "execute_result"
    }
   ],
   "source": [
    "recommendations['rating'] = recommendations.apply(scal_f, axis=1)\n",
    "recommendations['rating'] = recommendations.groupby(['user_id'])['rating'].transform(lambda x: pd.qcut(x.rank(method='first'), 5,labels=range(1,6), duplicates='drop'))\n",
    "recommendations"
   ]
  },
  {
   "cell_type": "code",
   "execution_count": 24,
   "metadata": {},
   "outputs": [
    {
     "data": {
      "text/html": [
       "<div>\n",
       "<style scoped>\n",
       "    .dataframe tbody tr th:only-of-type {\n",
       "        vertical-align: middle;\n",
       "    }\n",
       "\n",
       "    .dataframe tbody tr th {\n",
       "        vertical-align: top;\n",
       "    }\n",
       "\n",
       "    .dataframe thead th {\n",
       "        text-align: right;\n",
       "    }\n",
       "</style>\n",
       "<table border=\"1\" class=\"dataframe\">\n",
       "  <thead>\n",
       "    <tr style=\"text-align: right;\">\n",
       "      <th></th>\n",
       "      <th>app_id</th>\n",
       "      <th>helpful</th>\n",
       "      <th>funny</th>\n",
       "      <th>date</th>\n",
       "      <th>is_recommended</th>\n",
       "      <th>hours</th>\n",
       "      <th>user_id</th>\n",
       "      <th>review_id</th>\n",
       "      <th>rating</th>\n",
       "    </tr>\n",
       "  </thead>\n",
       "  <tbody>\n",
       "    <tr>\n",
       "      <th>10673770</th>\n",
       "      <td>1510460</td>\n",
       "      <td>0</td>\n",
       "      <td>0</td>\n",
       "      <td>2021-04-19</td>\n",
       "      <td>True</td>\n",
       "      <td>3.1</td>\n",
       "      <td>5604637</td>\n",
       "      <td>10673770</td>\n",
       "      <td>2</td>\n",
       "    </tr>\n",
       "    <tr>\n",
       "      <th>8167413</th>\n",
       "      <td>433340</td>\n",
       "      <td>2</td>\n",
       "      <td>0</td>\n",
       "      <td>2017-01-31</td>\n",
       "      <td>False</td>\n",
       "      <td>13.8</td>\n",
       "      <td>4798514</td>\n",
       "      <td>8167413</td>\n",
       "      <td>1</td>\n",
       "    </tr>\n",
       "    <tr>\n",
       "      <th>8699883</th>\n",
       "      <td>42680</td>\n",
       "      <td>4</td>\n",
       "      <td>2</td>\n",
       "      <td>2021-12-08</td>\n",
       "      <td>True</td>\n",
       "      <td>3.8</td>\n",
       "      <td>730370</td>\n",
       "      <td>8699883</td>\n",
       "      <td>1</td>\n",
       "    </tr>\n",
       "    <tr>\n",
       "      <th>9634245</th>\n",
       "      <td>438740</td>\n",
       "      <td>2</td>\n",
       "      <td>0</td>\n",
       "      <td>2017-05-31</td>\n",
       "      <td>True</td>\n",
       "      <td>38.1</td>\n",
       "      <td>5146280</td>\n",
       "      <td>9634245</td>\n",
       "      <td>3</td>\n",
       "    </tr>\n",
       "    <tr>\n",
       "      <th>8501878</th>\n",
       "      <td>262060</td>\n",
       "      <td>0</td>\n",
       "      <td>0</td>\n",
       "      <td>2019-11-18</td>\n",
       "      <td>True</td>\n",
       "      <td>60.8</td>\n",
       "      <td>374419</td>\n",
       "      <td>8501878</td>\n",
       "      <td>5</td>\n",
       "    </tr>\n",
       "    <tr>\n",
       "      <th>...</th>\n",
       "      <td>...</td>\n",
       "      <td>...</td>\n",
       "      <td>...</td>\n",
       "      <td>...</td>\n",
       "      <td>...</td>\n",
       "      <td>...</td>\n",
       "      <td>...</td>\n",
       "      <td>...</td>\n",
       "      <td>...</td>\n",
       "    </tr>\n",
       "    <tr>\n",
       "      <th>6249736</th>\n",
       "      <td>979690</td>\n",
       "      <td>0</td>\n",
       "      <td>0</td>\n",
       "      <td>2022-01-09</td>\n",
       "      <td>True</td>\n",
       "      <td>11.9</td>\n",
       "      <td>3749844</td>\n",
       "      <td>6249736</td>\n",
       "      <td>5</td>\n",
       "    </tr>\n",
       "    <tr>\n",
       "      <th>10572801</th>\n",
       "      <td>271260</td>\n",
       "      <td>2</td>\n",
       "      <td>0</td>\n",
       "      <td>2018-10-01</td>\n",
       "      <td>False</td>\n",
       "      <td>29.2</td>\n",
       "      <td>4943037</td>\n",
       "      <td>10572801</td>\n",
       "      <td>2</td>\n",
       "    </tr>\n",
       "    <tr>\n",
       "      <th>10914456</th>\n",
       "      <td>342180</td>\n",
       "      <td>0</td>\n",
       "      <td>0</td>\n",
       "      <td>2020-02-22</td>\n",
       "      <td>True</td>\n",
       "      <td>2.8</td>\n",
       "      <td>1823869</td>\n",
       "      <td>10914456</td>\n",
       "      <td>2</td>\n",
       "    </tr>\n",
       "    <tr>\n",
       "      <th>6689373</th>\n",
       "      <td>4500</td>\n",
       "      <td>0</td>\n",
       "      <td>0</td>\n",
       "      <td>2022-02-15</td>\n",
       "      <td>True</td>\n",
       "      <td>13.8</td>\n",
       "      <td>3052745</td>\n",
       "      <td>6689373</td>\n",
       "      <td>3</td>\n",
       "    </tr>\n",
       "    <tr>\n",
       "      <th>5592761</th>\n",
       "      <td>629730</td>\n",
       "      <td>0</td>\n",
       "      <td>0</td>\n",
       "      <td>2022-03-14</td>\n",
       "      <td>True</td>\n",
       "      <td>9.6</td>\n",
       "      <td>1493058</td>\n",
       "      <td>5592761</td>\n",
       "      <td>2</td>\n",
       "    </tr>\n",
       "  </tbody>\n",
       "</table>\n",
       "<p>80000 rows × 9 columns</p>\n",
       "</div>"
      ],
      "text/plain": [
       "           app_id  helpful  funny        date  is_recommended  hours  user_id  \\\n",
       "10673770  1510460        0      0  2021-04-19            True    3.1  5604637   \n",
       "8167413    433340        2      0  2017-01-31           False   13.8  4798514   \n",
       "8699883     42680        4      2  2021-12-08            True    3.8   730370   \n",
       "9634245    438740        2      0  2017-05-31            True   38.1  5146280   \n",
       "8501878    262060        0      0  2019-11-18            True   60.8   374419   \n",
       "...           ...      ...    ...         ...             ...    ...      ...   \n",
       "6249736    979690        0      0  2022-01-09            True   11.9  3749844   \n",
       "10572801   271260        2      0  2018-10-01           False   29.2  4943037   \n",
       "10914456   342180        0      0  2020-02-22            True    2.8  1823869   \n",
       "6689373      4500        0      0  2022-02-15            True   13.8  3052745   \n",
       "5592761    629730        0      0  2022-03-14            True    9.6  1493058   \n",
       "\n",
       "          review_id rating  \n",
       "10673770   10673770      2  \n",
       "8167413     8167413      1  \n",
       "8699883     8699883      1  \n",
       "9634245     9634245      3  \n",
       "8501878     8501878      5  \n",
       "...             ...    ...  \n",
       "6249736     6249736      5  \n",
       "10572801   10572801      2  \n",
       "10914456   10914456      2  \n",
       "6689373     6689373      3  \n",
       "5592761     5592761      2  \n",
       "\n",
       "[80000 rows x 9 columns]"
      ]
     },
     "execution_count": 24,
     "metadata": {},
     "output_type": "execute_result"
    }
   ],
   "source": [
    "first_n_users = recommendations['user_id'].unique()[:n]\n",
    "recommendations = recommendations[recommendations.user_id.isin(first_n_users)].sample(n=80000,random_state=42)\n",
    "recommendations"
   ]
  },
  {
   "cell_type": "code",
   "execution_count": 25,
   "metadata": {},
   "outputs": [
    {
     "data": {
      "text/plain": [
       "<Axes: >"
      ]
     },
     "execution_count": 25,
     "metadata": {},
     "output_type": "execute_result"
    },
    {
     "data": {
      "image/png": "[encoded data removed]",
      "text/plain": [
       "<Figure size 640x480 with 1 Axes>"
      ]
     },
     "metadata": {},
     "output_type": "display_data"
    }
   ],
   "source": [
    "recommendations.rating.value_counts().sort_values().plot(kind = 'barh')"
   ]
  },
  {
   "cell_type": "code",
   "execution_count": 26,
   "metadata": {},
   "outputs": [],
   "source": [
    "from surprise import SVD, AlgoBase\n",
    "from surprise import Dataset, Reader, accuracy, get_dataset_dir\n",
    "from surprise.model_selection import cross_validate\n",
    "from surprise.model_selection import train_test_split\n",
    "import heapq\n",
    "from surprise import PredictionImpossible\n",
    "class SymmetricAlgo(AlgoBase):\n",
    "    \"\"\"This is an abstract class aimed to ease the use of symmetric algorithms.\n",
    "    A symmetric algorithm is an algorithm that can be based on users or on\n",
    "    items indifferently, e.g. all the algorithms in this module.\n",
    "    When the algo is user-based x denotes a user and y an item. Else, it's\n",
    "    reversed.\n",
    "    \"\"\"\n",
    "\n",
    "    def __init__(self, sim_options={}, verbose=True, **kwargs):\n",
    "\n",
    "        AlgoBase.__init__(self, sim_options=sim_options, **kwargs)\n",
    "        self.verbose = verbose\n",
    "\n",
    "    def fit(self, trainset):\n",
    "\n",
    "        AlgoBase.fit(self, trainset)\n",
    "\n",
    "        ub = self.sim_options[\"user_based\"]\n",
    "        self.n_x = self.trainset.n_users if ub else self.trainset.n_items\n",
    "        self.n_y = self.trainset.n_items if ub else self.trainset.n_users\n",
    "        self.xr = self.trainset.ur if ub else self.trainset.ir\n",
    "        self.yr = self.trainset.ir if ub else self.trainset.ur\n",
    "\n",
    "        return self\n",
    "\n",
    "    def switch(self, u_stuff, i_stuff):\n",
    "        \"\"\"Return x_stuff and y_stuff depending on the user_based field.\"\"\"\n",
    "\n",
    "        if self.sim_options[\"user_based\"]:\n",
    "            return u_stuff, i_stuff\n",
    "        else:\n",
    "            return i_stuff, u_stuff\n"
   ]
  },
  {
   "cell_type": "code",
   "execution_count": 27,
   "metadata": {},
   "outputs": [],
   "source": [
    "class KNNWithMeans(SymmetricAlgo):\n",
    "    \"\"\"A basic collaborative filtering algorithm, taking into account the mean\n",
    "    ratings of each user.\n",
    "\n",
    "    \"\"\"\n",
    "\n",
    "    def __init__(self, k=40, min_k=1, sim_options={}, verbose=True, **kwargs):\n",
    "\n",
    "        SymmetricAlgo.__init__(self, sim_options=sim_options, verbose=verbose, **kwargs)\n",
    "\n",
    "        self.k = k\n",
    "        self.min_k = min_k\n",
    "\n",
    "    def fit(self, trainset):\n",
    "\n",
    "        SymmetricAlgo.fit(self, trainset)\n",
    "        self.sim = self.compute_similarities()\n",
    "\n",
    "        self.means = np.zeros(self.n_x)\n",
    "        for x, ratings in self.xr.items():\n",
    "            self.means[x] = np.mean([r for (_, r) in ratings])\n",
    "\n",
    "        return self\n",
    "\n",
    "    def estimate(self, u, i):\n",
    "\n",
    "        if not (self.trainset.knows_user(u) and self.trainset.knows_item(i)):\n",
    "            raise PredictionImpossible(\"User and/or item is unknown.\")\n",
    "\n",
    "        x, y = self.switch(u, i)\n",
    "\n",
    "        neighbors = [(x2, self.sim[x, x2], r) for (x2, r) in self.yr[y]]\n",
    "        k_neighbors = heapq.nlargest(self.k, neighbors, key=lambda t: t[1])\n",
    "\n",
    "        est = self.means[x]\n",
    "\n",
    "        # compute weighted average\n",
    "        sum_sim = sum_ratings = actual_k = 0\n",
    "        for (nb, sim, r) in k_neighbors:\n",
    "            if sim > 0:\n",
    "                sum_sim += sim\n",
    "                sum_ratings += sim * (r - self.means[nb])\n",
    "                actual_k += 1\n",
    "\n",
    "        if actual_k < self.min_k:\n",
    "            sum_ratings = 0\n",
    "\n",
    "        try:\n",
    "            est += sum_ratings / sum_sim\n",
    "        except ZeroDivisionError:\n",
    "            pass  # return mean\n",
    "\n",
    "        details = {\"actual_k\": actual_k}\n",
    "        return est, details"
   ]
  },
  {
   "cell_type": "code",
   "execution_count": 28,
   "metadata": {
    "id": "Y91EbsGhkEHi"
   },
   "outputs": [],
   "source": [
    "\n",
    "def read_item_names(app_df):\n",
    "    \"\"\"Read the u.item file from dataset and return two\n",
    "    mappings to convert raw ids into movie names and movie names into raw ids.\n",
    "    \"\"\"\n",
    "    app = app_df\n",
    "    rid_to_name = dict(zip(app['app_id'], app['title']))\n",
    "    name_to_rid = dict(zip( app['title'],app['app_id']))\n",
    "\n",
    "    return rid_to_name, name_to_rid\n",
    "\n",
    "def print_k_nearest_apps(ratings_df, app_df, app_name):\n",
    "    \n",
    "  # First, train the algorithm to compute the similarities between items\n",
    "  reader = Reader(rating_scale=(1, 5))\n",
    "  # The columns must correspond to user id, item id and ratings (in that order).\n",
    "  data = Dataset.load_from_df(ratings_df[[\"user_id\", \"app_id\", \"rating\"]], reader)\n",
    "  trainset = data.build_full_trainset()\n",
    "  sim_options = {\"name\": \"pearson_baseline\", \"user_based\": False}\n",
    "  algo = KNNWithMeans(sim_options=sim_options)\n",
    "  algo.fit(trainset)\n",
    "\n",
    "  # Read the mappings raw id <-> movie name\n",
    "  rid_to_name, name_to_rid = read_item_names(app_df)\n",
    "\n",
    "  # Retrieve inner id of the movie Toy Story\n",
    "  app_raw_id = name_to_rid[app_name]\n",
    "  app_inner_id = algo.trainset.to_inner_iid(app_raw_id)\n",
    "\n",
    "  # Retrieve inner ids of the nearest neighbors of Toy Story.\n",
    "  app_neighbors = algo.get_neighbors(app_inner_id, k=10)\n",
    "\n",
    "  # Convert inner ids of the neighbors into names.\n",
    "  app_neighbors = (\n",
    "      algo.trainset.to_raw_iid(inner_id) for inner_id in app_neighbors\n",
    "  )\n",
    "  app_neighbors = (rid_to_name[rid] for rid in app_neighbors)\n",
    "\n",
    "  print()\n",
    "  print(f\"The 10 nearest neighbors of {app_name} are:\")\n",
    "  for i in app_neighbors:\n",
    "      print(i)  "
   ]
  },
  {
   "cell_type": "code",
   "execution_count": 29,
   "metadata": {
    "colab": {
     "base_uri": "https://localhost:8080/"
    },
    "id": "Ky0sC2YnkE_B",
    "outputId": "54bd813e-3fdb-4a65-cb4e-7659f92bc944"
   },
   "outputs": [
    {
     "name": "stdout",
     "output_type": "stream",
     "text": [
      "Estimating biases using als...\n",
      "Computing the pearson_baseline similarity matrix...\n",
      "Done computing similarity matrix.\n",
      "\n",
      "The 10 nearest neighbors of Rust are:\n",
      "Grand Theft Auto V\n",
      "Space Engineers\n",
      "VRChat\n",
      "BeamNG.drive\n",
      "RimWorld\n",
      "Metro Exodus\n",
      "Red Dead Redemption 2\n",
      "Call of Duty®: Black Ops III\n",
      "The Witcher® 3: Wild Hunt\n",
      "Call of Duty®: Modern Warfare® II\n"
     ]
    }
   ],
   "source": [
    "print_k_nearest_apps(recommendations, games, 'Rust')"
   ]
  },
  {
   "cell_type": "code",
   "execution_count": 30,
   "metadata": {
    "colab": {
     "base_uri": "https://localhost:8080/"
    },
    "id": "mpUnwOdykg0R",
    "outputId": "3d51352e-14a0-4d99-9e81-9d4f3ff2968b"
   },
   "outputs": [
    {
     "name": "stdout",
     "output_type": "stream",
     "text": [
      "Estimating biases using als...\n",
      "Computing the pearson_baseline similarity matrix...\n",
      "Done computing similarity matrix.\n",
      "\n",
      "The 10 nearest neighbors of Team Fortress 2 are:\n",
      "Borderlands 2\n",
      "Stellaris\n",
      "Killing Floor 2\n",
      "Grand Theft Auto IV: The Complete Edition\n",
      "Sonic Adventure 2\n",
      "Shadow of the Tomb Raider: Definitive Edition\n",
      "Chicken Invaders Universe\n",
      "Slime Rancher\n",
      "Call of Duty®: Modern Warfare® 3\n",
      "Friday the 13th: The Game\n"
     ]
    }
   ],
   "source": [
    "print_k_nearest_apps(recommendations, games, 'Team Fortress 2')"
   ]
  },
  {
   "cell_type": "code",
   "execution_count": 31,
   "metadata": {
    "colab": {
     "base_uri": "https://localhost:8080/"
    },
    "id": "3Bn1rNsukm9U",
    "outputId": "37393d1d-6e9d-4e09-e071-8282dc44761c"
   },
   "outputs": [
    {
     "name": "stdout",
     "output_type": "stream",
     "text": [
      "Computing the msd similarity matrix...\n",
      "Done computing similarity matrix.\n",
      "RMSE: 1.7876\n"
     ]
    },
    {
     "data": {
      "text/plain": [
       "1.7876075579153865"
      ]
     },
     "execution_count": 31,
     "metadata": {},
     "output_type": "execute_result"
    }
   ],
   "source": [
    "reader = Reader(rating_scale=(1, 5))\n",
    "data = Dataset.load_from_df(recommendations[[\"user_id\", \"app_id\", \"rating\"]], reader)\n",
    "trainset, testset = train_test_split(data, test_size=0.4)\n",
    "algo = KNNWithMeans()\n",
    "# Train the algorithm on the trainset, and predict ratings for the testset\n",
    "algo.fit(trainset)\n",
    "predictions_ngd = algo.test(testset)\n",
    "# Then compute RMSE\n",
    "accuracy.rmse(predictions_ngd)"
   ]
  },
  {
   "cell_type": "code",
   "execution_count": 32,
   "metadata": {
    "colab": {
     "base_uri": "https://localhost:8080/"
    },
    "id": "fB_9VqwtlLhE",
    "outputId": "3fa8b8e1-61a4-42b8-9043-547a8fe34606"
   },
   "outputs": [
    {
     "name": "stdout",
     "output_type": "stream",
     "text": [
      "user: 6645       item: 377160     r_ui = 1.00   est = 2.97   {'was_impossible': True, 'reason': 'User and/or item is unknown.'}\n"
     ]
    }
   ],
   "source": [
    "uid = int(6645)  # raw user id (as in the ratings file). They are **int**!\n",
    "iid = int(377160)  # raw item id (as in the ratings file). They are **int**!\n",
    "\n",
    "# get a prediction for specific users and items.\n",
    "pred = algo.predict(uid, iid, r_ui=1, verbose=True)"
   ]
  },
  {
   "cell_type": "code",
   "execution_count": 33,
   "metadata": {
    "id": "LvBZyPE_lNFv"
   },
   "outputs": [],
   "source": [
    "#cross_validate(algo, data, measures=['RMSE', 'MAE'], cv=5, verbose=True)"
   ]
  },
  {
   "cell_type": "code",
   "execution_count": 34,
   "metadata": {
    "colab": {
     "base_uri": "https://localhost:8080/"
    },
    "id": "xBj2485alqHm",
    "outputId": "f8bc07ae-0029-4c0e-c1ab-1b7cb3536bc6"
   },
   "outputs": [],
   "source": [
    "# from collections import defaultdict\n",
    "\n",
    "# from surprise import Dataset, SVDpp, KNNBaseline\n",
    "# from surprise.model_selection import KFold\n",
    "\n",
    "\n",
    "# def precision_recall_at_k(predictions, k=10, threshold=3):\n",
    "#     \"\"\"Return precision and recall at k metrics for each user\"\"\"\n",
    "\n",
    "#     # First map the predictions to each user.\n",
    "#     user_est_true = defaultdict(list)\n",
    "#     for uid, _, true_r, est, _ in predictions:\n",
    "#         user_est_true[uid].append((est, true_r))\n",
    "\n",
    "#     precisions = dict()\n",
    "#     recalls = dict()\n",
    "#     for uid, user_ratings in user_est_true.items():\n",
    "\n",
    "#         # Sort user ratings by estimated value\n",
    "#         user_ratings.sort(key=lambda x: x[0], reverse=True)\n",
    "\n",
    "#         # Number of relevant items\n",
    "#         n_rel = sum((true_r >= threshold) for (_, true_r) in user_ratings)\n",
    "\n",
    "#         # Number of recommended items in top k\n",
    "#         n_rec_k = sum((est >= threshold) for (est, _) in user_ratings[:k])\n",
    "\n",
    "#         # Number of relevant and recommended items in top k\n",
    "#         n_rel_and_rec_k = sum(\n",
    "#             ((true_r >= threshold) and (est >= threshold))\n",
    "#             for (est, true_r) in user_ratings[:k]\n",
    "#         )\n",
    "\n",
    "#         # Precision@K: Proportion of recommended items that are relevant\n",
    "#         # When n_rec_k is 0, Precision is undefined. We here set it to 0.\n",
    "\n",
    "#         precisions[uid] = n_rel_and_rec_k / n_rec_k if n_rec_k != 0 else 0\n",
    "\n",
    "#         # Recall@K: Proportion of relevant items that are recommended\n",
    "#         # When n_rel is 0, Recall is undefined. We here set it to 0.\n",
    "\n",
    "#         recalls[uid] = n_rel_and_rec_k / n_rel if n_rel != 0 else 0\n",
    "\n",
    "#     return precisions, recalls\n",
    "\n",
    "\n",
    "# reader = Reader(rating_scale=(1, 5))\n",
    "#   # The columns must correspond to user id, item id and ratings (in that order).\n",
    "# data = Dataset.load_from_df(recommendations[[\"user_id\", \"app_id\", \"rating\"]], reader)\n",
    "# kf = KFold(n_splits=5)\n",
    "# #algo = SVD()\n",
    "\n",
    "# for trainset, testset in kf.split(data):\n",
    "#     algo.fit(trainset)\n",
    "#     predictions = algo.test(testset)\n",
    "#     precisions, recalls = precision_recall_at_k(predictions, k=5)\n",
    "\n",
    "#     # Precision and recall can then be averaged over all users\n",
    "#     print(sum(prec for prec in precisions.values()) / len(precisions))\n",
    "#     print(sum(rec for rec in recalls.values()) / len(recalls))"
   ]
  },
  {
   "attachments": {},
   "cell_type": "markdown",
   "metadata": {
    "id": "W0GoLPXOn3mh",
    "tags": []
   },
   "source": [
    "# Content based filtering"
   ]
  },
  {
   "cell_type": "code",
   "execution_count": 35,
   "metadata": {
    "id": "g9C8PCoxn7mZ"
   },
   "outputs": [],
   "source": [
    "meta_df = games_metadata.drop(columns = 'description', axis = 1)"
   ]
  },
  {
   "cell_type": "code",
   "execution_count": 36,
   "metadata": {
    "colab": {
     "base_uri": "https://localhost:8080/",
     "height": 423
    },
    "id": "hQ0UCQ_qoA1B",
    "outputId": "badd4f2d-b13d-4588-d737-d1c296c57aac"
   },
   "outputs": [
    {
     "data": {
      "text/html": [
       "<div>\n",
       "<style scoped>\n",
       "    .dataframe tbody tr th:only-of-type {\n",
       "        vertical-align: middle;\n",
       "    }\n",
       "\n",
       "    .dataframe tbody tr th {\n",
       "        vertical-align: top;\n",
       "    }\n",
       "\n",
       "    .dataframe thead th {\n",
       "        text-align: right;\n",
       "    }\n",
       "</style>\n",
       "<table border=\"1\" class=\"dataframe\">\n",
       "  <thead>\n",
       "    <tr style=\"text-align: right;\">\n",
       "      <th></th>\n",
       "      <th>app_id</th>\n",
       "      <th>tags</th>\n",
       "    </tr>\n",
       "  </thead>\n",
       "  <tbody>\n",
       "    <tr>\n",
       "      <th>0</th>\n",
       "      <td>10090</td>\n",
       "      <td>[Zombies, World War II, FPS, Multiplayer, Acti...</td>\n",
       "    </tr>\n",
       "    <tr>\n",
       "      <th>1</th>\n",
       "      <td>13500</td>\n",
       "      <td>[Action, Adventure, Parkour, Third Person, Gre...</td>\n",
       "    </tr>\n",
       "    <tr>\n",
       "      <th>2</th>\n",
       "      <td>22364</td>\n",
       "      <td>[Action]</td>\n",
       "    </tr>\n",
       "    <tr>\n",
       "      <th>3</th>\n",
       "      <td>113020</td>\n",
       "      <td>[Co-op, Stealth, Indie, Heist, Local Co-Op, St...</td>\n",
       "    </tr>\n",
       "    <tr>\n",
       "      <th>4</th>\n",
       "      <td>226560</td>\n",
       "      <td>[Zombies, Adventure, Survival, Action, Third P...</td>\n",
       "    </tr>\n",
       "    <tr>\n",
       "      <th>...</th>\n",
       "      <td>...</td>\n",
       "      <td>...</td>\n",
       "    </tr>\n",
       "    <tr>\n",
       "      <th>48313</th>\n",
       "      <td>1803600</td>\n",
       "      <td>[Stealth, Action, Real Time Tactics, Isometric...</td>\n",
       "    </tr>\n",
       "    <tr>\n",
       "      <th>48314</th>\n",
       "      <td>1811990</td>\n",
       "      <td>[Card Battler, Difficult, Roguelike Deckbuilde...</td>\n",
       "    </tr>\n",
       "    <tr>\n",
       "      <th>48315</th>\n",
       "      <td>1868120</td>\n",
       "      <td>[FPS, Third-Person Shooter, Multiplayer, Shoot...</td>\n",
       "    </tr>\n",
       "    <tr>\n",
       "      <th>48316</th>\n",
       "      <td>2206390</td>\n",
       "      <td>[3D Platformer, Rhythm, Parkour, 3D, Atmospher...</td>\n",
       "    </tr>\n",
       "    <tr>\n",
       "      <th>48317</th>\n",
       "      <td>2330750</td>\n",
       "      <td>[Traditional Roguelike, Sandbox, RPG, Zombies,...</td>\n",
       "    </tr>\n",
       "  </tbody>\n",
       "</table>\n",
       "<p>48318 rows × 2 columns</p>\n",
       "</div>"
      ],
      "text/plain": [
       "        app_id                                               tags\n",
       "0        10090  [Zombies, World War II, FPS, Multiplayer, Acti...\n",
       "1        13500  [Action, Adventure, Parkour, Third Person, Gre...\n",
       "2        22364                                           [Action]\n",
       "3       113020  [Co-op, Stealth, Indie, Heist, Local Co-Op, St...\n",
       "4       226560  [Zombies, Adventure, Survival, Action, Third P...\n",
       "...        ...                                                ...\n",
       "48313  1803600  [Stealth, Action, Real Time Tactics, Isometric...\n",
       "48314  1811990  [Card Battler, Difficult, Roguelike Deckbuilde...\n",
       "48315  1868120  [FPS, Third-Person Shooter, Multiplayer, Shoot...\n",
       "48316  2206390  [3D Platformer, Rhythm, Parkour, 3D, Atmospher...\n",
       "48317  2330750  [Traditional Roguelike, Sandbox, RPG, Zombies,...\n",
       "\n",
       "[48318 rows x 2 columns]"
      ]
     },
     "execution_count": 36,
     "metadata": {},
     "output_type": "execute_result"
    }
   ],
   "source": [
    "meta_df "
   ]
  },
  {
   "cell_type": "code",
   "execution_count": 37,
   "metadata": {
    "colab": {
     "base_uri": "https://localhost:8080/"
    },
    "id": "tGsaEqSCoGwO",
    "outputId": "ea6f8243-839f-4dcf-b68d-944dc4ce6f5c"
   },
   "outputs": [
    {
     "name": "stdout",
     "output_type": "stream",
     "text": [
      "There are 441 genre labels.\n"
     ]
    },
    {
     "data": {
      "text/plain": [
       "Counter({'Zombies': 1374,\n",
       "         'World War II': 634,\n",
       "         'FPS': 3046,\n",
       "         'Multiplayer': 6727,\n",
       "         'Action': 21373,\n",
       "         'Shooter': 4318,\n",
       "         'Co-op': 3353,\n",
       "         'Singleplayer': 21832,\n",
       "         'Moddable': 758,\n",
       "         'First-Person': 5468,\n",
       "         'War': 1373,\n",
       "         'Online Co-Op': 1864,\n",
       "         'Gore': 3171,\n",
       "         'Historical': 1553,\n",
       "         'Classic': 1347,\n",
       "         'Survival': 3243,\n",
       "         'Great Soundtrack': 4053,\n",
       "         'Tanks': 281,\n",
       "         'Horror': 4703,\n",
       "         'Adventure': 19614,\n",
       "         'Parkour': 522,\n",
       "         'Third Person': 3138,\n",
       "         'Platformer': 3848,\n",
       "         'Time Travel': 248,\n",
       "         'Atmospheric': 8525,\n",
       "         'Hack and Slash': 1412,\n",
       "         'Time Manipulation': 263,\n",
       "         'Fantasy': 4971,\n",
       "         'Story Rich': 6986,\n",
       "         'Dark': 2449,\n",
       "         'Open World': 3714,\n",
       "         'Controller': 2618,\n",
       "         'Dark Fantasy': 1201,\n",
       "         'Puzzle': 7302,\n",
       "         'Stealth': 1162,\n",
       "         'Indie': 27148,\n",
       "         'Heist': 152,\n",
       "         'Local Co-Op': 1403,\n",
       "         'Strategy': 10833,\n",
       "         'Top-Down': 2458,\n",
       "         'Crime': 477,\n",
       "         'Casual': 17159,\n",
       "         'Pixel Graphics': 5757,\n",
       "         'Local Multiplayer': 1705,\n",
       "         '2D': 10883,\n",
       "         'Loot': 571,\n",
       "         'Cartoony': 2115,\n",
       "         'Survival Horror': 1617,\n",
       "         'Third-Person Shooter': 907,\n",
       "         'Anime': 4865,\n",
       "         'Roguelike': 1911,\n",
       "         'Tower Defense': 854,\n",
       "         'RPG': 9896,\n",
       "         'Sci-fi': 4053,\n",
       "         'Dungeon Crawler': 1276,\n",
       "         'Perma Death': 795,\n",
       "         'Procedural Generation': 1510,\n",
       "         'Resource Management': 1349,\n",
       "         'Difficult': 3936,\n",
       "         'Roguelite': 1727,\n",
       "         'Replay Value': 1680,\n",
       "         'Arcade': 4288,\n",
       "         'Side Scroller': 2003,\n",
       "         'Retro': 3998,\n",
       "         \"Shoot 'Em Up\": 1412,\n",
       "         'Old School': 1503,\n",
       "         'Nostalgia': 146,\n",
       "         'Comedy': 3033,\n",
       "         'Action RPG': 1794,\n",
       "         'Magic': 1546,\n",
       "         'Female Protagonist': 4108,\n",
       "         'Nudity': 2259,\n",
       "         'Action-Adventure': 3177,\n",
       "         'Medieval': 1360,\n",
       "         'Sandbox': 2772,\n",
       "         'Simulation': 12360,\n",
       "         'Character Customization': 1975,\n",
       "         'Horses': 116,\n",
       "         'Realistic': 2781,\n",
       "         'Early Access': 5161,\n",
       "         'RTS': 1231,\n",
       "         'JRPG': 1452,\n",
       "         'Cute': 5445,\n",
       "         'Funny': 4833,\n",
       "         'Turn-Based': 1600,\n",
       "         'Visual Novel': 3083,\n",
       "         'Turn-Based Combat': 1499,\n",
       "         'Memes': 1213,\n",
       "         'Tactical': 2028,\n",
       "         'LEGO': 111,\n",
       "         'Family Friendly': 4169,\n",
       "         'Split Screen': 364,\n",
       "         '3D Platformer': 1324,\n",
       "         'Grand Strategy': 543,\n",
       "         'Relaxing': 3757,\n",
       "         'Physics': 2451,\n",
       "         'Ambient': 53,\n",
       "         'Minimalist': 2204,\n",
       "         'Space': 1993,\n",
       "         'Science': 366,\n",
       "         'Education': 1196,\n",
       "         'Flight': 778,\n",
       "         'Isometric': 1227,\n",
       "         'CRPG': 486,\n",
       "         'Violent': 3617,\n",
       "         'Exploration': 5530,\n",
       "         'Mystery': 2605,\n",
       "         'Walking Simulator': 1425,\n",
       "         'Short': 1321,\n",
       "         'Psychological Horror': 2796,\n",
       "         'Post-apocalyptic': 1172,\n",
       "         'Addictive': 331,\n",
       "         'Dark Humor': 867,\n",
       "         'Building': 2132,\n",
       "         'Action Roguelike': 1095,\n",
       "         'Metroidvania': 694,\n",
       "         'Otome': 279,\n",
       "         'Dating Sim': 1056,\n",
       "         'Romance': 1229,\n",
       "         'Choices Matter': 2530,\n",
       "         \"1990's\": 1124,\n",
       "         'Free to Play': 5360,\n",
       "         'Mechs': 334,\n",
       "         'Robots': 787,\n",
       "         'Massively Multiplayer': 1784,\n",
       "         'PvP': 2501,\n",
       "         'Team-Based': 744,\n",
       "         'Utilities': 588,\n",
       "         'Software': 343,\n",
       "         'Voxel': 337,\n",
       "         'Point & Click': 2662,\n",
       "         'Alternate History': 513,\n",
       "         'Drama': 1427,\n",
       "         'Hidden Object': 1499,\n",
       "         'LGBTQ+': 837,\n",
       "         'MOBA': 177,\n",
       "         'Fighting': 777,\n",
       "         'Action RTS': 131,\n",
       "         'Soundtrack': 836,\n",
       "         'Turn-Based Strategy': 1765,\n",
       "         'City Builder': 916,\n",
       "         'Cartoon': 1275,\n",
       "         'Turn-Based Tactics': 1390,\n",
       "         'Rhythm': 519,\n",
       "         'Music': 821,\n",
       "         'Cyberpunk': 878,\n",
       "         'Episodic': 146,\n",
       "         'Futuristic': 1340,\n",
       "         'Kickstarter': 167,\n",
       "         'Choose Your Own Adventure': 1434,\n",
       "         'Twin Stick Shooter': 532,\n",
       "         '4 Player Local': 747,\n",
       "         'Top-Down Shooter': 887,\n",
       "         'Political': 302,\n",
       "         'Fast-Paced': 1166,\n",
       "         'Puzzle Platformer': 1660,\n",
       "         'Surreal': 1245,\n",
       "         'Abstract': 878,\n",
       "         'Philosophical': 400,\n",
       "         'Psychedelic': 675,\n",
       "         'Psychological': 771,\n",
       "         'Supernatural': 597,\n",
       "         '2.5D': 878,\n",
       "         'Multiple Endings': 2241,\n",
       "         '2D Platformer': 1946,\n",
       "         'Narrative': 191,\n",
       "         'Cats': 500,\n",
       "         'Score Attack': 946,\n",
       "         'Remake': 307,\n",
       "         'Linear': 1883,\n",
       "         'Sports': 2446,\n",
       "         'Party-Based RPG': 579,\n",
       "         'Cult Classic': 322,\n",
       "         'Steampunk': 342,\n",
       "         'Racing': 2031,\n",
       "         'Automobile Sim': 711,\n",
       "         'Destruction': 539,\n",
       "         'Driving': 966,\n",
       "         'Open World Survival Craft': 339,\n",
       "         'Crafting': 1573,\n",
       "         'Base Building': 1205,\n",
       "         'Aliens': 713,\n",
       "         '4X': 337,\n",
       "         'Management': 2215,\n",
       "         'Time Management': 807,\n",
       "         'Real Time Tactics': 754,\n",
       "         'Blood': 347,\n",
       "         'Hand-drawn': 1718,\n",
       "         'Text-Based': 1063,\n",
       "         'Interactive Fiction': 1416,\n",
       "         'Political Sim': 214,\n",
       "         'Runner': 510,\n",
       "         'Bikes': 83,\n",
       "         'Motorbike': 99,\n",
       "         'Emotional': 1202,\n",
       "         'VR': 3032,\n",
       "         'Detective': 957,\n",
       "         'Dark Comedy': 413,\n",
       "         'Mature': 988,\n",
       "         'Baseball': 34,\n",
       "         'Football (Soccer)': 132,\n",
       "         'Strategy RPG': 757,\n",
       "         'Tactical RPG': 665,\n",
       "         'Colorful': 5351,\n",
       "         'Grid-Based Movement': 452,\n",
       "         'Sexual Content': 2269,\n",
       "         'Minigames': 174,\n",
       "         'Beautiful': 565,\n",
       "         'Animation & Modeling': 332,\n",
       "         'Design & Illustration': 575,\n",
       "         'Game Development': 283,\n",
       "         '3D': 5721,\n",
       "         '3D Vision': 274,\n",
       "         '3D Fighter': 310,\n",
       "         'Boxing': 85,\n",
       "         'Co-op Campaign': 284,\n",
       "         'Real-Time': 312,\n",
       "         'Ninja': 245,\n",
       "         'Souls-like': 568,\n",
       "         'Gothic': 270,\n",
       "         'Satire': 252,\n",
       "         'Board Game': 943,\n",
       "         'Chess': 118,\n",
       "         '2D Fighter': 484,\n",
       "         'Competitive': 743,\n",
       "         'Pool': 37,\n",
       "         'Snooker': 11,\n",
       "         'Naval Combat': 149,\n",
       "         'Pirates': 257,\n",
       "         'Naval': 223,\n",
       "         'Trading': 278,\n",
       "         'Sailing': 138,\n",
       "         'Economy': 976,\n",
       "         'MMORPG': 431,\n",
       "         'Thriller': 707,\n",
       "         'Trivia': 129,\n",
       "         'Party': 154,\n",
       "         'Party Game': 190,\n",
       "         'Video Production': 180,\n",
       "         'Military': 1066,\n",
       "         'Wargame': 690,\n",
       "         'Combat': 2201,\n",
       "         'Foreign': 90,\n",
       "         'Lovecraftian': 436,\n",
       "         'FMV': 285,\n",
       "         'Noir': 397,\n",
       "         'Dystopian': 577,\n",
       "         'Cold War': 188,\n",
       "         'Mod': 141,\n",
       "         'Snow': 132,\n",
       "         'Narration': 931,\n",
       "         'Modern': 499,\n",
       "         'Underwater': 218,\n",
       "         'Spectacle fighter': 290,\n",
       "         'Fishing': 208,\n",
       "         'Mythology': 452,\n",
       "         'NSFW': 389,\n",
       "         'Illuminati': 199,\n",
       "         'Demons': 660,\n",
       "         'Assassin': 173,\n",
       "         'Audio Production': 132,\n",
       "         'Battle Royale': 304,\n",
       "         'God Game': 284,\n",
       "         'Epic': 112,\n",
       "         'Faith': 208,\n",
       "         'Colony Sim': 400,\n",
       "         'RPGMaker': 962,\n",
       "         'Level Editor': 619,\n",
       "         'Stylized': 2661,\n",
       "         'Trains': 301,\n",
       "         'Diplomacy': 155,\n",
       "         'Character Action Game': 372,\n",
       "         'Life Sim': 797,\n",
       "         'Nonlinear': 543,\n",
       "         'Collectathon': 497,\n",
       "         'Transportation': 173,\n",
       "         'Immersive Sim': 1168,\n",
       "         'Dungeons & Dragons': 72,\n",
       "         'Hacking': 233,\n",
       "         'Dragons': 318,\n",
       "         'PvE': 1462,\n",
       "         'Cinematic': 786,\n",
       "         'Arena Shooter': 644,\n",
       "         'Clicker': 886,\n",
       "         'Parody': 310,\n",
       "         'GameMaker': 140,\n",
       "         'Card Game': 984,\n",
       "         'Asynchronous Multiplayer': 184,\n",
       "         'Asymmetric VR': 50,\n",
       "         'Martial Arts': 249,\n",
       "         'Villain Protagonist': 168,\n",
       "         'Word Game': 357,\n",
       "         'Medical Sim': 86,\n",
       "         'Bullet Hell': 1256,\n",
       "         'Capitalism': 276,\n",
       "         'Lore-Rich': 588,\n",
       "         'Experience': 152,\n",
       "         'Immersive': 175,\n",
       "         'Swordplay': 369,\n",
       "         'Roguelike Deckbuilder': 159,\n",
       "         'Card Battler': 466,\n",
       "         'Deckbuilding': 487,\n",
       "         'Escape Room': 211,\n",
       "         'Investigation': 812,\n",
       "         'Tabletop': 796,\n",
       "         'Hentai': 628,\n",
       "         '6DOF': 289,\n",
       "         'Idler': 567,\n",
       "         'Job Simulator': 23,\n",
       "         'Logic': 1479,\n",
       "         'Offroad': 124,\n",
       "         'ATV': 20,\n",
       "         'TrackIR': 132,\n",
       "         'Dynamic Narration': 198,\n",
       "         'Pinball': 82,\n",
       "         'Real-Time with Pause': 264,\n",
       "         'Wrestling': 43,\n",
       "         'Mouse only': 406,\n",
       "         'Superhero': 170,\n",
       "         '1980s': 768,\n",
       "         'Match 3': 383,\n",
       "         \"Beat 'em up\": 700,\n",
       "         'Based On A Novel': 71,\n",
       "         'Dinosaurs': 240,\n",
       "         'Conversation': 648,\n",
       "         'Tutorial': 510,\n",
       "         'Comic Book': 539,\n",
       "         'Programming': 229,\n",
       "         'Nature': 957,\n",
       "         'Submarine': 67,\n",
       "         'Farming Sim': 357,\n",
       "         'Vampire': 214,\n",
       "         'Mining': 202,\n",
       "         'Automation': 332,\n",
       "         'Touch-Friendly': 214,\n",
       "         'Cooking': 234,\n",
       "         'On-Rails Shooter': 137,\n",
       "         'Bullet Time': 253,\n",
       "         'Gun Customization': 250,\n",
       "         'Sniper': 115,\n",
       "         'Outbreak Sim': 72,\n",
       "         'Silent Protagonist': 91,\n",
       "         'Auto Battler': 232,\n",
       "         'Dog': 226,\n",
       "         'Western': 215,\n",
       "         'Artificial Intelligence': 515,\n",
       "         'Rock Music': 22,\n",
       "         'Politics': 216,\n",
       "         'Crowdfunded': 94,\n",
       "         'Photo Editing': 93,\n",
       "         'Solitaire': 281,\n",
       "         'Gambling': 90,\n",
       "         'Combat Racing': 257,\n",
       "         'Vehicular Combat': 282,\n",
       "         'Hex Grid': 302,\n",
       "         'Vikings': 63,\n",
       "         'Precision Platformer': 729,\n",
       "         'Transhumanism': 78,\n",
       "         'Shop Keeper': 9,\n",
       "         'Wholesome': 130,\n",
       "         'Agriculture': 309,\n",
       "         'Experimental': 765,\n",
       "         'Social Deduction': 79,\n",
       "         'Spelling': 71,\n",
       "         'Basketball': 59,\n",
       "         'Golf': 82,\n",
       "         'Class-Based': 265,\n",
       "         'Sequel': 148,\n",
       "         'Movie': 99,\n",
       "         'Unforgiving': 93,\n",
       "         'Creature Collector': 278,\n",
       "         'Rome': 99,\n",
       "         '360 Video': 55,\n",
       "         'Time Attack': 155,\n",
       "         'Music-Based Procedural Generation': 117,\n",
       "         'America': 267,\n",
       "         'Looter Shooter': 181,\n",
       "         'Motocross': 44,\n",
       "         'Inventory Management': 420,\n",
       "         'eSports': 386,\n",
       "         'Werewolves': 91,\n",
       "         'Space Sim': 438,\n",
       "         'Conspiracy': 233,\n",
       "         'Typing': 147,\n",
       "         'Jet': 62,\n",
       "         'Games Workshop': 83,\n",
       "         'Warhammer 40K': 74,\n",
       "         'Trading Card Game': 245,\n",
       "         'Hunting': 244,\n",
       "         'Mystery Dungeon': 289,\n",
       "         'Underground': 200,\n",
       "         'Mini Golf': 49,\n",
       "         'Traditional Roguelike': 140,\n",
       "         'Sokoban': 236,\n",
       "         'Web Publishing': 154,\n",
       "         'Jump Scare': 31,\n",
       "         'Cozy': 129,\n",
       "         'Hero Shooter': 252,\n",
       "         'Gaming': 47,\n",
       "         'Spaceships': 64,\n",
       "         'Football (American)': 60,\n",
       "         'Skiing': 25,\n",
       "         'Mars': 111,\n",
       "         'Well-Written': 22,\n",
       "         'World War I': 116,\n",
       "         'Software Training': 133,\n",
       "         'Tennis': 37,\n",
       "         'Archery': 117,\n",
       "         'Cycling': 37,\n",
       "         'BMX': 17,\n",
       "         'Quick-Time Events': 187,\n",
       "         'Electronic Music': 52,\n",
       "         'Boss Rush': 22,\n",
       "         'Skateboarding': 39,\n",
       "         'Skating': 33,\n",
       "         'Voice Control': 19,\n",
       "         'Instrumental Music': 26,\n",
       "         'Electronic': 24,\n",
       "         'Snowboarding': 26,\n",
       "         'Documentary': 47,\n",
       "         'Roguevania': 63,\n",
       "         'Farming': 90,\n",
       "         'Intentionally Awkward Controls': 43,\n",
       "         'Bowling': 19,\n",
       "         'Lemmings': 34,\n",
       "         'Musou': 25,\n",
       "         'Hobby Sim': 4,\n",
       "         'Volleyball': 9,\n",
       "         'Hardware': 15,\n",
       "         'Cricket': 20,\n",
       "         'Mahjong': 26,\n",
       "         'Reboot': 12,\n",
       "         'Benchmark': 24,\n",
       "         'Feature Film': 12,\n",
       "         'Steam Machine': 11,\n",
       "         'Hockey': 24,\n",
       "         '8-bit Music': 21,\n",
       "         'Rugby': 16,\n",
       "         'Tile-Matching': 5,\n",
       "         'Coding': 4,\n",
       "         'Fox': 4})"
      ]
     },
     "execution_count": 37,
     "metadata": {},
     "output_type": "execute_result"
    }
   ],
   "source": [
    "from collections import Counter\n",
    "genres_counts = Counter(g for genres in meta_df['tags'] for g in genres)\n",
    "print(f\"There are {len(genres_counts)} genre labels.\")\n",
    "genres_counts"
   ]
  },
  {
   "cell_type": "code",
   "execution_count": 38,
   "metadata": {
    "colab": {
     "base_uri": "https://localhost:8080/",
     "height": 733
    },
    "id": "ZJwNreM2oIUX",
    "outputId": "abdf252d-1da0-445d-89b4-18a06dc7a4e1"
   },
   "outputs": [
    {
     "name": "stdout",
     "output_type": "stream",
     "text": [
      "The 5 most common genres: \n",
      " [('Indie', 27148), ('Singleplayer', 21832), ('Action', 21373), ('Adventure', 19614), ('Casual', 17159)]\n"
     ]
    },
    {
     "data": {
      "image/png": "[encoded data removed]",
      "text/plain": [
       "<Figure size 1000x500 with 1 Axes>"
      ]
     },
     "metadata": {},
     "output_type": "display_data"
    }
   ],
   "source": [
    "print(\"The 5 most common genres: \\n\", genres_counts.most_common(5))\n",
    "genres_counts_df = pd.DataFrame([genres_counts]).T.reset_index()\n",
    "genres_counts_df.columns = ['genres', 'count']\n",
    "genres_counts_df = genres_counts_df.sort_values(by='count', ascending=False)\n",
    "import matplotlib.pyplot as plt\n",
    "import seaborn as sns\n",
    "plt.figure(figsize=(10,5))\n",
    "sns.barplot(x='genres', y='count', data=genres_counts_df, palette='viridis')\n",
    "plt.xticks(rotation=90)\n",
    "plt.show()"
   ]
  },
  {
   "cell_type": "code",
   "execution_count": 39,
   "metadata": {
    "id": "rtFHcjk9oLnj"
   },
   "outputs": [],
   "source": [
    "games_df = pd.read_csv('SteamDataset/games.csv')\n",
    "# games_df = pd.concat([games_df.drop(columns=['app_id']), meta_df], axis=1)\n",
    "games_df = pd.merge(left=games_df, right=meta_df, how=\"left\", on=[\"app_id\", \"app_id\"])"
   ]
  },
  {
   "cell_type": "code",
   "execution_count": 40,
   "metadata": {
    "colab": {
     "base_uri": "https://localhost:8080/",
     "height": 423
    },
    "id": "ZFTYqp8QoPmJ",
    "outputId": "f10f530a-3566-4031-9b4d-c45efb5c300b"
   },
   "outputs": [
    {
     "data": {
      "text/html": [
       "<div>\n",
       "<style scoped>\n",
       "    .dataframe tbody tr th:only-of-type {\n",
       "        vertical-align: middle;\n",
       "    }\n",
       "\n",
       "    .dataframe tbody tr th {\n",
       "        vertical-align: top;\n",
       "    }\n",
       "\n",
       "    .dataframe thead th {\n",
       "        text-align: right;\n",
       "    }\n",
       "</style>\n",
       "<table border=\"1\" class=\"dataframe\">\n",
       "  <thead>\n",
       "    <tr style=\"text-align: right;\">\n",
       "      <th></th>\n",
       "      <th>app_id</th>\n",
       "      <th>title</th>\n",
       "      <th>win</th>\n",
       "      <th>mac</th>\n",
       "      <th>linux</th>\n",
       "      <th>user_reviews</th>\n",
       "      <th>price_final</th>\n",
       "      <th>steam_deck</th>\n",
       "      <th>tags</th>\n",
       "    </tr>\n",
       "  </thead>\n",
       "  <tbody>\n",
       "    <tr>\n",
       "      <th>0</th>\n",
       "      <td>10090</td>\n",
       "      <td>Call of Duty: World at War</td>\n",
       "      <td>True</td>\n",
       "      <td>False</td>\n",
       "      <td>False</td>\n",
       "      <td>37039</td>\n",
       "      <td>19.99</td>\n",
       "      <td>True</td>\n",
       "      <td>[Zombies, World War II, FPS, Multiplayer, Acti...</td>\n",
       "    </tr>\n",
       "    <tr>\n",
       "      <th>1</th>\n",
       "      <td>13500</td>\n",
       "      <td>Prince of Persia: Warrior Within™</td>\n",
       "      <td>True</td>\n",
       "      <td>False</td>\n",
       "      <td>False</td>\n",
       "      <td>2199</td>\n",
       "      <td>9.99</td>\n",
       "      <td>True</td>\n",
       "      <td>[Action, Adventure, Parkour, Third Person, Gre...</td>\n",
       "    </tr>\n",
       "    <tr>\n",
       "      <th>2</th>\n",
       "      <td>22364</td>\n",
       "      <td>BRINK: Agents of Change</td>\n",
       "      <td>True</td>\n",
       "      <td>False</td>\n",
       "      <td>False</td>\n",
       "      <td>21</td>\n",
       "      <td>2.99</td>\n",
       "      <td>True</td>\n",
       "      <td>[Action]</td>\n",
       "    </tr>\n",
       "    <tr>\n",
       "      <th>3</th>\n",
       "      <td>113020</td>\n",
       "      <td>Monaco: What's Yours Is Mine</td>\n",
       "      <td>True</td>\n",
       "      <td>True</td>\n",
       "      <td>True</td>\n",
       "      <td>3722</td>\n",
       "      <td>14.99</td>\n",
       "      <td>True</td>\n",
       "      <td>[Co-op, Stealth, Indie, Heist, Local Co-Op, St...</td>\n",
       "    </tr>\n",
       "    <tr>\n",
       "      <th>4</th>\n",
       "      <td>226560</td>\n",
       "      <td>Escape Dead Island</td>\n",
       "      <td>True</td>\n",
       "      <td>False</td>\n",
       "      <td>False</td>\n",
       "      <td>873</td>\n",
       "      <td>14.99</td>\n",
       "      <td>True</td>\n",
       "      <td>[Zombies, Adventure, Survival, Action, Third P...</td>\n",
       "    </tr>\n",
       "    <tr>\n",
       "      <th>...</th>\n",
       "      <td>...</td>\n",
       "      <td>...</td>\n",
       "      <td>...</td>\n",
       "      <td>...</td>\n",
       "      <td>...</td>\n",
       "      <td>...</td>\n",
       "      <td>...</td>\n",
       "      <td>...</td>\n",
       "      <td>...</td>\n",
       "    </tr>\n",
       "    <tr>\n",
       "      <th>48313</th>\n",
       "      <td>1803600</td>\n",
       "      <td>Gone Rogue</td>\n",
       "      <td>True</td>\n",
       "      <td>False</td>\n",
       "      <td>False</td>\n",
       "      <td>65</td>\n",
       "      <td>12.49</td>\n",
       "      <td>True</td>\n",
       "      <td>[Stealth, Action, Real Time Tactics, Isometric...</td>\n",
       "    </tr>\n",
       "    <tr>\n",
       "      <th>48314</th>\n",
       "      <td>1811990</td>\n",
       "      <td>Wildfrost</td>\n",
       "      <td>True</td>\n",
       "      <td>False</td>\n",
       "      <td>False</td>\n",
       "      <td>1819</td>\n",
       "      <td>19.99</td>\n",
       "      <td>True</td>\n",
       "      <td>[Card Battler, Difficult, Roguelike Deckbuilde...</td>\n",
       "    </tr>\n",
       "    <tr>\n",
       "      <th>48315</th>\n",
       "      <td>1868120</td>\n",
       "      <td>BLACK ACE</td>\n",
       "      <td>True</td>\n",
       "      <td>False</td>\n",
       "      <td>False</td>\n",
       "      <td>76</td>\n",
       "      <td>0.00</td>\n",
       "      <td>True</td>\n",
       "      <td>[FPS, Third-Person Shooter, Multiplayer, Shoot...</td>\n",
       "    </tr>\n",
       "    <tr>\n",
       "      <th>48316</th>\n",
       "      <td>2206390</td>\n",
       "      <td>BandRoll</td>\n",
       "      <td>True</td>\n",
       "      <td>False</td>\n",
       "      <td>False</td>\n",
       "      <td>26</td>\n",
       "      <td>1.59</td>\n",
       "      <td>True</td>\n",
       "      <td>[3D Platformer, Rhythm, Parkour, 3D, Atmospher...</td>\n",
       "    </tr>\n",
       "    <tr>\n",
       "      <th>48317</th>\n",
       "      <td>2330750</td>\n",
       "      <td>Cataclysm: Dark Days Ahead</td>\n",
       "      <td>True</td>\n",
       "      <td>False</td>\n",
       "      <td>True</td>\n",
       "      <td>130</td>\n",
       "      <td>19.99</td>\n",
       "      <td>True</td>\n",
       "      <td>[Traditional Roguelike, Sandbox, RPG, Zombies,...</td>\n",
       "    </tr>\n",
       "  </tbody>\n",
       "</table>\n",
       "<p>48318 rows × 9 columns</p>\n",
       "</div>"
      ],
      "text/plain": [
       "        app_id                              title   win    mac  linux  \\\n",
       "0        10090         Call of Duty: World at War  True  False  False   \n",
       "1        13500  Prince of Persia: Warrior Within™  True  False  False   \n",
       "2        22364            BRINK: Agents of Change  True  False  False   \n",
       "3       113020       Monaco: What's Yours Is Mine  True   True   True   \n",
       "4       226560                 Escape Dead Island  True  False  False   \n",
       "...        ...                                ...   ...    ...    ...   \n",
       "48313  1803600                         Gone Rogue  True  False  False   \n",
       "48314  1811990                          Wildfrost  True  False  False   \n",
       "48315  1868120                          BLACK ACE  True  False  False   \n",
       "48316  2206390                           BandRoll  True  False  False   \n",
       "48317  2330750         Cataclysm: Dark Days Ahead  True  False   True   \n",
       "\n",
       "       user_reviews  price_final  steam_deck  \\\n",
       "0             37039        19.99        True   \n",
       "1              2199         9.99        True   \n",
       "2                21         2.99        True   \n",
       "3              3722        14.99        True   \n",
       "4               873        14.99        True   \n",
       "...             ...          ...         ...   \n",
       "48313            65        12.49        True   \n",
       "48314          1819        19.99        True   \n",
       "48315            76         0.00        True   \n",
       "48316            26         1.59        True   \n",
       "48317           130        19.99        True   \n",
       "\n",
       "                                                    tags  \n",
       "0      [Zombies, World War II, FPS, Multiplayer, Acti...  \n",
       "1      [Action, Adventure, Parkour, Third Person, Gre...  \n",
       "2                                               [Action]  \n",
       "3      [Co-op, Stealth, Indie, Heist, Local Co-Op, St...  \n",
       "4      [Zombies, Adventure, Survival, Action, Third P...  \n",
       "...                                                  ...  \n",
       "48313  [Stealth, Action, Real Time Tactics, Isometric...  \n",
       "48314  [Card Battler, Difficult, Roguelike Deckbuilde...  \n",
       "48315  [FPS, Third-Person Shooter, Multiplayer, Shoot...  \n",
       "48316  [3D Platformer, Rhythm, Parkour, 3D, Atmospher...  \n",
       "48317  [Traditional Roguelike, Sandbox, RPG, Zombies,...  \n",
       "\n",
       "[48318 rows x 9 columns]"
      ]
     },
     "execution_count": 40,
     "metadata": {},
     "output_type": "execute_result"
    }
   ],
   "source": [
    "games_df.drop(columns=['rating', 'date_release', 'discount', 'positive_ratio', 'price_original'], axis=1, inplace=True)\n",
    "games_df"
   ]
  },
  {
   "cell_type": "code",
   "execution_count": 41,
   "metadata": {
    "colab": {
     "base_uri": "https://localhost:8080/",
     "height": 423
    },
    "id": "dj6KkgwqoUHa",
    "outputId": "dc7b9d02-27d1-46a3-8f4f-be149ccb05e0"
   },
   "outputs": [
    {
     "data": {
      "text/html": [
       "<div>\n",
       "<style scoped>\n",
       "    .dataframe tbody tr th:only-of-type {\n",
       "        vertical-align: middle;\n",
       "    }\n",
       "\n",
       "    .dataframe tbody tr th {\n",
       "        vertical-align: top;\n",
       "    }\n",
       "\n",
       "    .dataframe thead th {\n",
       "        text-align: right;\n",
       "    }\n",
       "</style>\n",
       "<table border=\"1\" class=\"dataframe\">\n",
       "  <thead>\n",
       "    <tr style=\"text-align: right;\">\n",
       "      <th></th>\n",
       "      <th>app_id</th>\n",
       "      <th>title</th>\n",
       "      <th>win</th>\n",
       "      <th>mac</th>\n",
       "      <th>linux</th>\n",
       "      <th>user_reviews</th>\n",
       "      <th>price_final</th>\n",
       "      <th>steam_deck</th>\n",
       "      <th>tags</th>\n",
       "    </tr>\n",
       "  </thead>\n",
       "  <tbody>\n",
       "    <tr>\n",
       "      <th>0</th>\n",
       "      <td>10090</td>\n",
       "      <td>Call of Duty: World at War</td>\n",
       "      <td>1</td>\n",
       "      <td>0</td>\n",
       "      <td>0</td>\n",
       "      <td>37039</td>\n",
       "      <td>19.99</td>\n",
       "      <td>1</td>\n",
       "      <td>[Zombies, World War II, FPS, Multiplayer, Acti...</td>\n",
       "    </tr>\n",
       "    <tr>\n",
       "      <th>1</th>\n",
       "      <td>13500</td>\n",
       "      <td>Prince of Persia: Warrior Within™</td>\n",
       "      <td>1</td>\n",
       "      <td>0</td>\n",
       "      <td>0</td>\n",
       "      <td>2199</td>\n",
       "      <td>9.99</td>\n",
       "      <td>1</td>\n",
       "      <td>[Action, Adventure, Parkour, Third Person, Gre...</td>\n",
       "    </tr>\n",
       "    <tr>\n",
       "      <th>2</th>\n",
       "      <td>22364</td>\n",
       "      <td>BRINK: Agents of Change</td>\n",
       "      <td>1</td>\n",
       "      <td>0</td>\n",
       "      <td>0</td>\n",
       "      <td>21</td>\n",
       "      <td>2.99</td>\n",
       "      <td>1</td>\n",
       "      <td>[Action]</td>\n",
       "    </tr>\n",
       "    <tr>\n",
       "      <th>3</th>\n",
       "      <td>113020</td>\n",
       "      <td>Monaco: What's Yours Is Mine</td>\n",
       "      <td>1</td>\n",
       "      <td>1</td>\n",
       "      <td>1</td>\n",
       "      <td>3722</td>\n",
       "      <td>14.99</td>\n",
       "      <td>1</td>\n",
       "      <td>[Co-op, Stealth, Indie, Heist, Local Co-Op, St...</td>\n",
       "    </tr>\n",
       "    <tr>\n",
       "      <th>4</th>\n",
       "      <td>226560</td>\n",
       "      <td>Escape Dead Island</td>\n",
       "      <td>1</td>\n",
       "      <td>0</td>\n",
       "      <td>0</td>\n",
       "      <td>873</td>\n",
       "      <td>14.99</td>\n",
       "      <td>1</td>\n",
       "      <td>[Zombies, Adventure, Survival, Action, Third P...</td>\n",
       "    </tr>\n",
       "    <tr>\n",
       "      <th>...</th>\n",
       "      <td>...</td>\n",
       "      <td>...</td>\n",
       "      <td>...</td>\n",
       "      <td>...</td>\n",
       "      <td>...</td>\n",
       "      <td>...</td>\n",
       "      <td>...</td>\n",
       "      <td>...</td>\n",
       "      <td>...</td>\n",
       "    </tr>\n",
       "    <tr>\n",
       "      <th>48313</th>\n",
       "      <td>1803600</td>\n",
       "      <td>Gone Rogue</td>\n",
       "      <td>1</td>\n",
       "      <td>0</td>\n",
       "      <td>0</td>\n",
       "      <td>65</td>\n",
       "      <td>12.49</td>\n",
       "      <td>1</td>\n",
       "      <td>[Stealth, Action, Real Time Tactics, Isometric...</td>\n",
       "    </tr>\n",
       "    <tr>\n",
       "      <th>48314</th>\n",
       "      <td>1811990</td>\n",
       "      <td>Wildfrost</td>\n",
       "      <td>1</td>\n",
       "      <td>0</td>\n",
       "      <td>0</td>\n",
       "      <td>1819</td>\n",
       "      <td>19.99</td>\n",
       "      <td>1</td>\n",
       "      <td>[Card Battler, Difficult, Roguelike Deckbuilde...</td>\n",
       "    </tr>\n",
       "    <tr>\n",
       "      <th>48315</th>\n",
       "      <td>1868120</td>\n",
       "      <td>BLACK ACE</td>\n",
       "      <td>1</td>\n",
       "      <td>0</td>\n",
       "      <td>0</td>\n",
       "      <td>76</td>\n",
       "      <td>0.00</td>\n",
       "      <td>1</td>\n",
       "      <td>[FPS, Third-Person Shooter, Multiplayer, Shoot...</td>\n",
       "    </tr>\n",
       "    <tr>\n",
       "      <th>48316</th>\n",
       "      <td>2206390</td>\n",
       "      <td>BandRoll</td>\n",
       "      <td>1</td>\n",
       "      <td>0</td>\n",
       "      <td>0</td>\n",
       "      <td>26</td>\n",
       "      <td>1.59</td>\n",
       "      <td>1</td>\n",
       "      <td>[3D Platformer, Rhythm, Parkour, 3D, Atmospher...</td>\n",
       "    </tr>\n",
       "    <tr>\n",
       "      <th>48317</th>\n",
       "      <td>2330750</td>\n",
       "      <td>Cataclysm: Dark Days Ahead</td>\n",
       "      <td>1</td>\n",
       "      <td>0</td>\n",
       "      <td>1</td>\n",
       "      <td>130</td>\n",
       "      <td>19.99</td>\n",
       "      <td>1</td>\n",
       "      <td>[Traditional Roguelike, Sandbox, RPG, Zombies,...</td>\n",
       "    </tr>\n",
       "  </tbody>\n",
       "</table>\n",
       "<p>48318 rows × 9 columns</p>\n",
       "</div>"
      ],
      "text/plain": [
       "        app_id                              title  win  mac  linux  \\\n",
       "0        10090         Call of Duty: World at War    1    0      0   \n",
       "1        13500  Prince of Persia: Warrior Within™    1    0      0   \n",
       "2        22364            BRINK: Agents of Change    1    0      0   \n",
       "3       113020       Monaco: What's Yours Is Mine    1    1      1   \n",
       "4       226560                 Escape Dead Island    1    0      0   \n",
       "...        ...                                ...  ...  ...    ...   \n",
       "48313  1803600                         Gone Rogue    1    0      0   \n",
       "48314  1811990                          Wildfrost    1    0      0   \n",
       "48315  1868120                          BLACK ACE    1    0      0   \n",
       "48316  2206390                           BandRoll    1    0      0   \n",
       "48317  2330750         Cataclysm: Dark Days Ahead    1    0      1   \n",
       "\n",
       "       user_reviews  price_final  steam_deck  \\\n",
       "0             37039        19.99           1   \n",
       "1              2199         9.99           1   \n",
       "2                21         2.99           1   \n",
       "3              3722        14.99           1   \n",
       "4               873        14.99           1   \n",
       "...             ...          ...         ...   \n",
       "48313            65        12.49           1   \n",
       "48314          1819        19.99           1   \n",
       "48315            76         0.00           1   \n",
       "48316            26         1.59           1   \n",
       "48317           130        19.99           1   \n",
       "\n",
       "                                                    tags  \n",
       "0      [Zombies, World War II, FPS, Multiplayer, Acti...  \n",
       "1      [Action, Adventure, Parkour, Third Person, Gre...  \n",
       "2                                               [Action]  \n",
       "3      [Co-op, Stealth, Indie, Heist, Local Co-Op, St...  \n",
       "4      [Zombies, Adventure, Survival, Action, Third P...  \n",
       "...                                                  ...  \n",
       "48313  [Stealth, Action, Real Time Tactics, Isometric...  \n",
       "48314  [Card Battler, Difficult, Roguelike Deckbuilde...  \n",
       "48315  [FPS, Third-Person Shooter, Multiplayer, Shoot...  \n",
       "48316  [3D Platformer, Rhythm, Parkour, 3D, Atmospher...  \n",
       "48317  [Traditional Roguelike, Sandbox, RPG, Zombies,...  \n",
       "\n",
       "[48318 rows x 9 columns]"
      ]
     },
     "execution_count": 41,
     "metadata": {},
     "output_type": "execute_result"
    }
   ],
   "source": [
    "games_df['win'] = games_df['win'].transform(lambda x: 1 if bool(x) else 0)\n",
    "games_df['linux'] = games_df['linux'].transform(lambda x: 1 if bool(x) else 0)\n",
    "games_df['mac'] = games_df['mac'].transform(lambda x: 1 if bool(x) else 0)\n",
    "games_df['steam_deck'] = games_df['steam_deck'].transform(lambda x: 1 if bool(x) else 0)\n",
    "games_df"
   ]
  },
  {
   "cell_type": "code",
   "execution_count": 42,
   "metadata": {
    "colab": {
     "base_uri": "https://localhost:8080/",
     "height": 423
    },
    "id": "2fvzL6IKoXdW",
    "outputId": "86e59363-f312-48db-944f-167a9cce1dd6",
    "tags": []
   },
   "outputs": [
    {
     "data": {
      "text/html": [
       "<div>\n",
       "<style scoped>\n",
       "    .dataframe tbody tr th:only-of-type {\n",
       "        vertical-align: middle;\n",
       "    }\n",
       "\n",
       "    .dataframe tbody tr th {\n",
       "        vertical-align: top;\n",
       "    }\n",
       "\n",
       "    .dataframe thead th {\n",
       "        text-align: right;\n",
       "    }\n",
       "</style>\n",
       "<table border=\"1\" class=\"dataframe\">\n",
       "  <thead>\n",
       "    <tr style=\"text-align: right;\">\n",
       "      <th></th>\n",
       "      <th>app_id</th>\n",
       "      <th>title</th>\n",
       "      <th>win</th>\n",
       "      <th>mac</th>\n",
       "      <th>linux</th>\n",
       "      <th>user_reviews</th>\n",
       "      <th>price_final</th>\n",
       "      <th>steam_deck</th>\n",
       "      <th>tags</th>\n",
       "    </tr>\n",
       "  </thead>\n",
       "  <tbody>\n",
       "    <tr>\n",
       "      <th>0</th>\n",
       "      <td>10090</td>\n",
       "      <td>Call of Duty: World at War</td>\n",
       "      <td>1</td>\n",
       "      <td>0</td>\n",
       "      <td>0</td>\n",
       "      <td>37039</td>\n",
       "      <td>19.99</td>\n",
       "      <td>1</td>\n",
       "      <td>[Zombies, World War II, FPS, Multiplayer, Acti...</td>\n",
       "    </tr>\n",
       "    <tr>\n",
       "      <th>1</th>\n",
       "      <td>13500</td>\n",
       "      <td>Prince of Persia: Warrior Within™</td>\n",
       "      <td>1</td>\n",
       "      <td>0</td>\n",
       "      <td>0</td>\n",
       "      <td>2199</td>\n",
       "      <td>9.99</td>\n",
       "      <td>1</td>\n",
       "      <td>[Action, Adventure, Parkour, Third Person, Gre...</td>\n",
       "    </tr>\n",
       "    <tr>\n",
       "      <th>2</th>\n",
       "      <td>22364</td>\n",
       "      <td>BRINK: Agents of Change</td>\n",
       "      <td>1</td>\n",
       "      <td>0</td>\n",
       "      <td>0</td>\n",
       "      <td>21</td>\n",
       "      <td>2.99</td>\n",
       "      <td>1</td>\n",
       "      <td>[Action]</td>\n",
       "    </tr>\n",
       "    <tr>\n",
       "      <th>3</th>\n",
       "      <td>113020</td>\n",
       "      <td>Monaco: What's Yours Is Mine</td>\n",
       "      <td>1</td>\n",
       "      <td>1</td>\n",
       "      <td>1</td>\n",
       "      <td>3722</td>\n",
       "      <td>14.99</td>\n",
       "      <td>1</td>\n",
       "      <td>[Co-op, Stealth, Indie, Heist, Local Co-Op, St...</td>\n",
       "    </tr>\n",
       "    <tr>\n",
       "      <th>4</th>\n",
       "      <td>226560</td>\n",
       "      <td>Escape Dead Island</td>\n",
       "      <td>1</td>\n",
       "      <td>0</td>\n",
       "      <td>0</td>\n",
       "      <td>873</td>\n",
       "      <td>14.99</td>\n",
       "      <td>1</td>\n",
       "      <td>[Zombies, Adventure, Survival, Action, Third P...</td>\n",
       "    </tr>\n",
       "    <tr>\n",
       "      <th>...</th>\n",
       "      <td>...</td>\n",
       "      <td>...</td>\n",
       "      <td>...</td>\n",
       "      <td>...</td>\n",
       "      <td>...</td>\n",
       "      <td>...</td>\n",
       "      <td>...</td>\n",
       "      <td>...</td>\n",
       "      <td>...</td>\n",
       "    </tr>\n",
       "    <tr>\n",
       "      <th>48313</th>\n",
       "      <td>1803600</td>\n",
       "      <td>Gone Rogue</td>\n",
       "      <td>1</td>\n",
       "      <td>0</td>\n",
       "      <td>0</td>\n",
       "      <td>65</td>\n",
       "      <td>12.49</td>\n",
       "      <td>1</td>\n",
       "      <td>[Stealth, Action, Real Time Tactics, Isometric...</td>\n",
       "    </tr>\n",
       "    <tr>\n",
       "      <th>48314</th>\n",
       "      <td>1811990</td>\n",
       "      <td>Wildfrost</td>\n",
       "      <td>1</td>\n",
       "      <td>0</td>\n",
       "      <td>0</td>\n",
       "      <td>1819</td>\n",
       "      <td>19.99</td>\n",
       "      <td>1</td>\n",
       "      <td>[Card Battler, Difficult, Roguelike Deckbuilde...</td>\n",
       "    </tr>\n",
       "    <tr>\n",
       "      <th>48315</th>\n",
       "      <td>1868120</td>\n",
       "      <td>BLACK ACE</td>\n",
       "      <td>1</td>\n",
       "      <td>0</td>\n",
       "      <td>0</td>\n",
       "      <td>76</td>\n",
       "      <td>0.00</td>\n",
       "      <td>1</td>\n",
       "      <td>[FPS, Third-Person Shooter, Multiplayer, Shoot...</td>\n",
       "    </tr>\n",
       "    <tr>\n",
       "      <th>48316</th>\n",
       "      <td>2206390</td>\n",
       "      <td>BandRoll</td>\n",
       "      <td>1</td>\n",
       "      <td>0</td>\n",
       "      <td>0</td>\n",
       "      <td>26</td>\n",
       "      <td>1.59</td>\n",
       "      <td>1</td>\n",
       "      <td>[3D Platformer, Rhythm, Parkour, 3D, Atmospher...</td>\n",
       "    </tr>\n",
       "    <tr>\n",
       "      <th>48317</th>\n",
       "      <td>2330750</td>\n",
       "      <td>Cataclysm: Dark Days Ahead</td>\n",
       "      <td>1</td>\n",
       "      <td>0</td>\n",
       "      <td>1</td>\n",
       "      <td>130</td>\n",
       "      <td>19.99</td>\n",
       "      <td>1</td>\n",
       "      <td>[Traditional Roguelike, Sandbox, RPG, Zombies,...</td>\n",
       "    </tr>\n",
       "  </tbody>\n",
       "</table>\n",
       "<p>48318 rows × 9 columns</p>\n",
       "</div>"
      ],
      "text/plain": [
       "        app_id                              title  win  mac  linux  \\\n",
       "0        10090         Call of Duty: World at War    1    0      0   \n",
       "1        13500  Prince of Persia: Warrior Within™    1    0      0   \n",
       "2        22364            BRINK: Agents of Change    1    0      0   \n",
       "3       113020       Monaco: What's Yours Is Mine    1    1      1   \n",
       "4       226560                 Escape Dead Island    1    0      0   \n",
       "...        ...                                ...  ...  ...    ...   \n",
       "48313  1803600                         Gone Rogue    1    0      0   \n",
       "48314  1811990                          Wildfrost    1    0      0   \n",
       "48315  1868120                          BLACK ACE    1    0      0   \n",
       "48316  2206390                           BandRoll    1    0      0   \n",
       "48317  2330750         Cataclysm: Dark Days Ahead    1    0      1   \n",
       "\n",
       "       user_reviews  price_final  steam_deck  \\\n",
       "0             37039        19.99           1   \n",
       "1              2199         9.99           1   \n",
       "2                21         2.99           1   \n",
       "3              3722        14.99           1   \n",
       "4               873        14.99           1   \n",
       "...             ...          ...         ...   \n",
       "48313            65        12.49           1   \n",
       "48314          1819        19.99           1   \n",
       "48315            76         0.00           1   \n",
       "48316            26         1.59           1   \n",
       "48317           130        19.99           1   \n",
       "\n",
       "                                                    tags  \n",
       "0      [Zombies, World War II, FPS, Multiplayer, Acti...  \n",
       "1      [Action, Adventure, Parkour, Third Person, Gre...  \n",
       "2                                               [Action]  \n",
       "3      [Co-op, Stealth, Indie, Heist, Local Co-Op, St...  \n",
       "4      [Zombies, Adventure, Survival, Action, Third P...  \n",
       "...                                                  ...  \n",
       "48313  [Stealth, Action, Real Time Tactics, Isometric...  \n",
       "48314  [Card Battler, Difficult, Roguelike Deckbuilde...  \n",
       "48315  [FPS, Third-Person Shooter, Multiplayer, Shoot...  \n",
       "48316  [3D Platformer, Rhythm, Parkour, 3D, Atmospher...  \n",
       "48317  [Traditional Roguelike, Sandbox, RPG, Zombies,...  \n",
       "\n",
       "[48318 rows x 9 columns]"
      ]
     },
     "execution_count": 42,
     "metadata": {},
     "output_type": "execute_result"
    }
   ],
   "source": [
    "games_df"
   ]
  },
  {
   "cell_type": "code",
   "execution_count": 44,
   "metadata": {
    "tags": []
   },
   "outputs": [
    {
     "data": {
      "text/html": [
       "<div>\n",
       "<style scoped>\n",
       "    .dataframe tbody tr th:only-of-type {\n",
       "        vertical-align: middle;\n",
       "    }\n",
       "\n",
       "    .dataframe tbody tr th {\n",
       "        vertical-align: top;\n",
       "    }\n",
       "\n",
       "    .dataframe thead th {\n",
       "        text-align: right;\n",
       "    }\n",
       "</style>\n",
       "<table border=\"1\" class=\"dataframe\">\n",
       "  <thead>\n",
       "    <tr style=\"text-align: right;\">\n",
       "      <th></th>\n",
       "      <th>app_id</th>\n",
       "      <th>title</th>\n",
       "      <th>win</th>\n",
       "      <th>mac</th>\n",
       "      <th>linux</th>\n",
       "      <th>steam_deck</th>\n",
       "    </tr>\n",
       "  </thead>\n",
       "  <tbody>\n",
       "    <tr>\n",
       "      <th>0</th>\n",
       "      <td>10090</td>\n",
       "      <td>Call of Duty: World at War</td>\n",
       "      <td>1</td>\n",
       "      <td>0</td>\n",
       "      <td>0</td>\n",
       "      <td>1</td>\n",
       "    </tr>\n",
       "    <tr>\n",
       "      <th>1</th>\n",
       "      <td>13500</td>\n",
       "      <td>Prince of Persia: Warrior Within™</td>\n",
       "      <td>1</td>\n",
       "      <td>0</td>\n",
       "      <td>0</td>\n",
       "      <td>1</td>\n",
       "    </tr>\n",
       "    <tr>\n",
       "      <th>2</th>\n",
       "      <td>22364</td>\n",
       "      <td>BRINK: Agents of Change</td>\n",
       "      <td>1</td>\n",
       "      <td>0</td>\n",
       "      <td>0</td>\n",
       "      <td>1</td>\n",
       "    </tr>\n",
       "    <tr>\n",
       "      <th>3</th>\n",
       "      <td>113020</td>\n",
       "      <td>Monaco: What's Yours Is Mine</td>\n",
       "      <td>1</td>\n",
       "      <td>1</td>\n",
       "      <td>1</td>\n",
       "      <td>1</td>\n",
       "    </tr>\n",
       "    <tr>\n",
       "      <th>4</th>\n",
       "      <td>226560</td>\n",
       "      <td>Escape Dead Island</td>\n",
       "      <td>1</td>\n",
       "      <td>0</td>\n",
       "      <td>0</td>\n",
       "      <td>1</td>\n",
       "    </tr>\n",
       "    <tr>\n",
       "      <th>...</th>\n",
       "      <td>...</td>\n",
       "      <td>...</td>\n",
       "      <td>...</td>\n",
       "      <td>...</td>\n",
       "      <td>...</td>\n",
       "      <td>...</td>\n",
       "    </tr>\n",
       "    <tr>\n",
       "      <th>48313</th>\n",
       "      <td>1803600</td>\n",
       "      <td>Gone Rogue</td>\n",
       "      <td>1</td>\n",
       "      <td>0</td>\n",
       "      <td>0</td>\n",
       "      <td>1</td>\n",
       "    </tr>\n",
       "    <tr>\n",
       "      <th>48314</th>\n",
       "      <td>1811990</td>\n",
       "      <td>Wildfrost</td>\n",
       "      <td>1</td>\n",
       "      <td>0</td>\n",
       "      <td>0</td>\n",
       "      <td>1</td>\n",
       "    </tr>\n",
       "    <tr>\n",
       "      <th>48315</th>\n",
       "      <td>1868120</td>\n",
       "      <td>BLACK ACE</td>\n",
       "      <td>1</td>\n",
       "      <td>0</td>\n",
       "      <td>0</td>\n",
       "      <td>1</td>\n",
       "    </tr>\n",
       "    <tr>\n",
       "      <th>48316</th>\n",
       "      <td>2206390</td>\n",
       "      <td>BandRoll</td>\n",
       "      <td>1</td>\n",
       "      <td>0</td>\n",
       "      <td>0</td>\n",
       "      <td>1</td>\n",
       "    </tr>\n",
       "    <tr>\n",
       "      <th>48317</th>\n",
       "      <td>2330750</td>\n",
       "      <td>Cataclysm: Dark Days Ahead</td>\n",
       "      <td>1</td>\n",
       "      <td>0</td>\n",
       "      <td>1</td>\n",
       "      <td>1</td>\n",
       "    </tr>\n",
       "  </tbody>\n",
       "</table>\n",
       "<p>48318 rows × 6 columns</p>\n",
       "</div>"
      ],
      "text/plain": [
       "        app_id                              title  win  mac  linux  steam_deck\n",
       "0        10090         Call of Duty: World at War    1    0      0           1\n",
       "1        13500  Prince of Persia: Warrior Within™    1    0      0           1\n",
       "2        22364            BRINK: Agents of Change    1    0      0           1\n",
       "3       113020       Monaco: What's Yours Is Mine    1    1      1           1\n",
       "4       226560                 Escape Dead Island    1    0      0           1\n",
       "...        ...                                ...  ...  ...    ...         ...\n",
       "48313  1803600                         Gone Rogue    1    0      0           1\n",
       "48314  1811990                          Wildfrost    1    0      0           1\n",
       "48315  1868120                          BLACK ACE    1    0      0           1\n",
       "48316  2206390                           BandRoll    1    0      0           1\n",
       "48317  2330750         Cataclysm: Dark Days Ahead    1    0      1           1\n",
       "\n",
       "[48318 rows x 6 columns]"
      ]
     },
     "execution_count": 44,
     "metadata": {},
     "output_type": "execute_result"
    }
   ],
   "source": [
    "# games_df = games_df.loc[games_df['user_reviews']>500]\n",
    "del games_df['tags']\n",
    "del games_df['user_reviews']\n",
    "del games_df['price_final']\n",
    "games_df"
   ]
  },
  {
   "cell_type": "code",
   "execution_count": 45,
   "metadata": {
    "colab": {
     "base_uri": "https://localhost:8080/"
    },
    "id": "WcP-qzSAoY2x",
    "outputId": "cb9285c8-6236-48b2-b42a-89d9f971a703"
   },
   "outputs": [
    {
     "name": "stdout",
     "output_type": "stream",
     "text": [
      "Dimensions of our game features cosine similarity matrix: (48318, 48318)\n"
     ]
    }
   ],
   "source": [
    "from sklearn.metrics.pairwise import cosine_similarity\n",
    "tmp = games_df.drop(columns=['app_id', 'title'], axis=1)\n",
    "cosine_sim = cosine_similarity(tmp, tmp)\n",
    "print(f\"Dimensions of our game features cosine similarity matrix: {cosine_sim.shape}\")"
   ]
  },
  {
   "cell_type": "code",
   "execution_count": 46,
   "metadata": {
    "id": "WNao5ALMobLb"
   },
   "outputs": [],
   "source": [
    "def get_recs(n_recommendations, idx):\n",
    "  sim_scores = list(enumerate(cosine_sim[idx]))\n",
    "  sim_scores = sorted(sim_scores, key=lambda x: x[1], reverse=True)\n",
    "  sim_scores = sim_scores[1:(n_recommendations+1)]\n",
    "  similar_movies = [i[0] for i in sim_scores]\n",
    "  a = pd.read_csv('SteamDataset/games.csv')\n",
    "  a_id = games_df['app_id'].iloc[idx]\n",
    "  print(f\"Because you liked {a['title'].loc[a['app_id']==a_id]}:\")\n",
    "  print(games_df['title'].iloc[(similar_movies)])\n"
   ]
  },
  {
   "cell_type": "code",
   "execution_count": 47,
   "metadata": {
    "colab": {
     "base_uri": "https://localhost:8080/"
    },
    "id": "1U0ZaH1Xo4nh",
    "outputId": "cbb8f400-f607-4b45-d304-ff64d452c1fe"
   },
   "outputs": [
    {
     "name": "stdout",
     "output_type": "stream",
     "text": [
      "Because you liked 1    Prince of Persia: Warrior Within™\n",
      "Name: title, dtype: object:\n",
      "1                     Prince of Persia: Warrior Within™\n",
      "2                               BRINK: Agents of Change\n",
      "4                                    Escape Dead Island\n",
      "6                                          METAL SLUG 3\n",
      "8                          Mount & Blade II: Bannerlord\n",
      "9     Men of War: Assault Squad 2 - Deluxe Edition u...\n",
      "10                    Hyperdimension Neptunia Re;Birth1\n",
      "11                                 The Sum of All Fears\n",
      "12                                           Cold Fear™\n",
      "13                        LEGO® Harry Potter: Years 1-4\n",
      "Name: title, dtype: object\n",
      "Because you liked 300    The Witch & The 66 Mushrooms\n",
      "Name: title, dtype: object:\n",
      "1    Prince of Persia: Warrior Within™\n",
      "2              BRINK: Agents of Change\n",
      "4                   Escape Dead Island\n",
      "6                         METAL SLUG 3\n",
      "Name: title, dtype: object\n"
     ]
    }
   ],
   "source": [
    "get_recs(10, 1)\n",
    "get_recs(4, 300)"
   ]
  },
  {
   "attachments": {},
   "cell_type": "markdown",
   "metadata": {
    "id": "MlD75Gf7vOg_",
    "tags": []
   },
   "source": [
    "# Evaluation metrics"
   ]
  },
  {
   "cell_type": "code",
   "execution_count": 48,
   "metadata": {
    "id": "e3c7bMrlrHuv"
   },
   "outputs": [],
   "source": [
    "#predictions_model = pd.DataFrame(algo.test(testset))\n",
    "predictions_ngd = pd.DataFrame(algo.test(testset))"
   ]
  },
  {
   "cell_type": "code",
   "execution_count": 49,
   "metadata": {
    "id": "56c49tAVw0VO"
   },
   "outputs": [
    {
     "data": {
      "text/html": [
       "<div>\n",
       "<style scoped>\n",
       "    .dataframe tbody tr th:only-of-type {\n",
       "        vertical-align: middle;\n",
       "    }\n",
       "\n",
       "    .dataframe tbody tr th {\n",
       "        vertical-align: top;\n",
       "    }\n",
       "\n",
       "    .dataframe thead th {\n",
       "        text-align: right;\n",
       "    }\n",
       "</style>\n",
       "<table border=\"1\" class=\"dataframe\">\n",
       "  <thead>\n",
       "    <tr style=\"text-align: right;\">\n",
       "      <th></th>\n",
       "      <th>user_id</th>\n",
       "      <th>app_id</th>\n",
       "      <th>actual</th>\n",
       "      <th>cf_ngd_predictions</th>\n",
       "    </tr>\n",
       "  </thead>\n",
       "  <tbody>\n",
       "    <tr>\n",
       "      <th>0</th>\n",
       "      <td>1745205</td>\n",
       "      <td>377160</td>\n",
       "      <td>4.0</td>\n",
       "      <td>3.218170</td>\n",
       "    </tr>\n",
       "    <tr>\n",
       "      <th>1</th>\n",
       "      <td>299416</td>\n",
       "      <td>250900</td>\n",
       "      <td>4.0</td>\n",
       "      <td>3.833812</td>\n",
       "    </tr>\n",
       "    <tr>\n",
       "      <th>2</th>\n",
       "      <td>5373134</td>\n",
       "      <td>1222670</td>\n",
       "      <td>4.0</td>\n",
       "      <td>2.000000</td>\n",
       "    </tr>\n",
       "    <tr>\n",
       "      <th>3</th>\n",
       "      <td>215162</td>\n",
       "      <td>666140</td>\n",
       "      <td>4.0</td>\n",
       "      <td>2.750000</td>\n",
       "    </tr>\n",
       "    <tr>\n",
       "      <th>4</th>\n",
       "      <td>2353566</td>\n",
       "      <td>221910</td>\n",
       "      <td>5.0</td>\n",
       "      <td>1.666667</td>\n",
       "    </tr>\n",
       "  </tbody>\n",
       "</table>\n",
       "</div>"
      ],
      "text/plain": [
       "   user_id   app_id  actual  cf_ngd_predictions\n",
       "0  1745205   377160     4.0            3.218170\n",
       "1   299416   250900     4.0            3.833812\n",
       "2  5373134  1222670     4.0            2.000000\n",
       "3   215162   666140     4.0            2.750000\n",
       "4  2353566   221910     5.0            1.666667"
      ]
     },
     "execution_count": 49,
     "metadata": {},
     "output_type": "execute_result"
    }
   ],
   "source": [
    "test = pd.DataFrame(predictions_ngd)\n",
    "test.drop(\"details\", inplace=True, axis=1)\n",
    "test.columns = ['user_id', 'app_id', 'actual', 'cf_ngd_predictions']\n",
    "test.head()"
   ]
  },
  {
   "cell_type": "code",
   "execution_count": 50,
   "metadata": {
    "id": "eNJi49rLvdr0"
   },
   "outputs": [],
   "source": [
    "cf_model_n = test.pivot_table(index='user_id', columns='app_id', values='cf_ngd_predictions').fillna(0)"
   ]
  },
  {
   "cell_type": "code",
   "execution_count": 51,
   "metadata": {
    "id": "nAeejH8-x9cf"
   },
   "outputs": [],
   "source": [
    "def get_users_predictions(user_id, n, model):\n",
    "    recommended_items = pd.DataFrame(model.loc[user_id])\n",
    "    recommended_items.columns = [\"predicted_rating\"]\n",
    "    recommended_items = recommended_items.sort_values('predicted_rating', ascending=False)    \n",
    "    recommended_items = recommended_items.head(n)\n",
    "    return recommended_items.index.tolist()"
   ]
  },
  {
   "cell_type": "code",
   "execution_count": 52,
   "metadata": {
    "id": "U5gzHGU9cOu0"
   },
   "outputs": [],
   "source": [
    "test = test.copy().groupby('user_id', as_index=False)['app_id'].agg({'actual': (lambda x: list(set(x)))})"
   ]
  },
  {
   "cell_type": "code",
   "execution_count": 53,
   "metadata": {
    "id": "pZMuqsULxX_Z"
   },
   "outputs": [],
   "source": [
    "test = test.set_index(\"user_id\")"
   ]
  },
  {
   "cell_type": "code",
   "execution_count": 54,
   "metadata": {},
   "outputs": [
    {
     "data": {
      "text/html": [
       "<div>\n",
       "<style scoped>\n",
       "    .dataframe tbody tr th:only-of-type {\n",
       "        vertical-align: middle;\n",
       "    }\n",
       "\n",
       "    .dataframe tbody tr th {\n",
       "        vertical-align: top;\n",
       "    }\n",
       "\n",
       "    .dataframe thead th {\n",
       "        text-align: right;\n",
       "    }\n",
       "</style>\n",
       "<table border=\"1\" class=\"dataframe\">\n",
       "  <thead>\n",
       "    <tr style=\"text-align: right;\">\n",
       "      <th></th>\n",
       "      <th>actual</th>\n",
       "      <th>cf_ngd_predictions</th>\n",
       "    </tr>\n",
       "    <tr>\n",
       "      <th>user_id</th>\n",
       "      <th></th>\n",
       "      <th></th>\n",
       "    </tr>\n",
       "  </thead>\n",
       "  <tbody>\n",
       "    <tr>\n",
       "      <th>464</th>\n",
       "      <td>[323320, 200510]</td>\n",
       "      <td>[200510, 323320, 1084520, 1080750, 1079620, 10...</td>\n",
       "    </tr>\n",
       "    <tr>\n",
       "      <th>569</th>\n",
       "      <td>[732690, 42700, 335300]</td>\n",
       "      <td>[732690, 42700, 335300, 1066890, 1080750, 1079...</td>\n",
       "    </tr>\n",
       "    <tr>\n",
       "      <th>1040</th>\n",
       "      <td>[70]</td>\n",
       "      <td>[70, 30, 1066780, 1080750, 1079620, 1079210, 1...</td>\n",
       "    </tr>\n",
       "    <tr>\n",
       "      <th>1161</th>\n",
       "      <td>[431240, 338170, 632360, 17390]</td>\n",
       "      <td>[632360, 17390, 338170, 431240, 30, 1066890, 1...</td>\n",
       "    </tr>\n",
       "    <tr>\n",
       "      <th>1366</th>\n",
       "      <td>[632360]</td>\n",
       "      <td>[632360, 30, 1066780, 1080750, 1079620, 107921...</td>\n",
       "    </tr>\n",
       "  </tbody>\n",
       "</table>\n",
       "</div>"
      ],
      "text/plain": [
       "                                  actual  \\\n",
       "user_id                                    \n",
       "464                     [323320, 200510]   \n",
       "569              [732690, 42700, 335300]   \n",
       "1040                                [70]   \n",
       "1161     [431240, 338170, 632360, 17390]   \n",
       "1366                            [632360]   \n",
       "\n",
       "                                        cf_ngd_predictions  \n",
       "user_id                                                     \n",
       "464      [200510, 323320, 1084520, 1080750, 1079620, 10...  \n",
       "569      [732690, 42700, 335300, 1066890, 1080750, 1079...  \n",
       "1040     [70, 30, 1066780, 1080750, 1079620, 1079210, 1...  \n",
       "1161     [632360, 17390, 338170, 431240, 30, 1066890, 1...  \n",
       "1366     [632360, 30, 1066780, 1080750, 1079620, 107921...  "
      ]
     },
     "execution_count": 54,
     "metadata": {},
     "output_type": "execute_result"
    }
   ],
   "source": [
    "# make recommendations for all members in the test data\n",
    "cf_recs_n = [] = []\n",
    "for user in test.index:\n",
    "    cf_predictions = get_users_predictions(user, 10, cf_model_n)\n",
    "    cf_recs_n.append(cf_predictions)\n",
    "        \n",
    "test['cf_ngd_predictions'] = cf_recs_n\n",
    "test.head()"
   ]
  },
  {
   "cell_type": "code",
   "execution_count": 55,
   "metadata": {
    "id": "_X_Gj-m5vJRc"
   },
   "outputs": [
    {
     "data": {
      "text/html": [
       "<div>\n",
       "<style scoped>\n",
       "    .dataframe tbody tr th:only-of-type {\n",
       "        vertical-align: middle;\n",
       "    }\n",
       "\n",
       "    .dataframe tbody tr th {\n",
       "        vertical-align: top;\n",
       "    }\n",
       "\n",
       "    .dataframe thead th {\n",
       "        text-align: right;\n",
       "    }\n",
       "</style>\n",
       "<table border=\"1\" class=\"dataframe\">\n",
       "  <thead>\n",
       "    <tr style=\"text-align: right;\">\n",
       "      <th></th>\n",
       "      <th>actual</th>\n",
       "      <th>cf_ngd_predictions</th>\n",
       "      <th>pop_predictions</th>\n",
       "    </tr>\n",
       "    <tr>\n",
       "      <th>user_id</th>\n",
       "      <th></th>\n",
       "      <th></th>\n",
       "      <th></th>\n",
       "    </tr>\n",
       "  </thead>\n",
       "  <tbody>\n",
       "    <tr>\n",
       "      <th>464</th>\n",
       "      <td>[323320, 200510]</td>\n",
       "      <td>[200510, 323320, 1084520, 1080750, 1079620, 10...</td>\n",
       "      <td>[377160, 275850, 1091500, 271590, 1174180, 431...</td>\n",
       "    </tr>\n",
       "    <tr>\n",
       "      <th>569</th>\n",
       "      <td>[732690, 42700, 335300]</td>\n",
       "      <td>[732690, 42700, 335300, 1066890, 1080750, 1079...</td>\n",
       "      <td>[377160, 275850, 1091500, 271590, 1174180, 431...</td>\n",
       "    </tr>\n",
       "    <tr>\n",
       "      <th>1040</th>\n",
       "      <td>[70]</td>\n",
       "      <td>[70, 30, 1066780, 1080750, 1079620, 1079210, 1...</td>\n",
       "      <td>[377160, 275850, 1091500, 271590, 1174180, 431...</td>\n",
       "    </tr>\n",
       "    <tr>\n",
       "      <th>1161</th>\n",
       "      <td>[431240, 338170, 632360, 17390]</td>\n",
       "      <td>[632360, 17390, 338170, 431240, 30, 1066890, 1...</td>\n",
       "      <td>[377160, 275850, 1091500, 271590, 1174180, 431...</td>\n",
       "    </tr>\n",
       "    <tr>\n",
       "      <th>1366</th>\n",
       "      <td>[632360]</td>\n",
       "      <td>[632360, 30, 1066780, 1080750, 1079620, 107921...</td>\n",
       "      <td>[377160, 275850, 1091500, 271590, 1174180, 431...</td>\n",
       "    </tr>\n",
       "  </tbody>\n",
       "</table>\n",
       "</div>"
      ],
      "text/plain": [
       "                                  actual  \\\n",
       "user_id                                    \n",
       "464                     [323320, 200510]   \n",
       "569              [732690, 42700, 335300]   \n",
       "1040                                [70]   \n",
       "1161     [431240, 338170, 632360, 17390]   \n",
       "1366                            [632360]   \n",
       "\n",
       "                                        cf_ngd_predictions  \\\n",
       "user_id                                                      \n",
       "464      [200510, 323320, 1084520, 1080750, 1079620, 10...   \n",
       "569      [732690, 42700, 335300, 1066890, 1080750, 1079...   \n",
       "1040     [70, 30, 1066780, 1080750, 1079620, 1079210, 1...   \n",
       "1161     [632360, 17390, 338170, 431240, 30, 1066890, 1...   \n",
       "1366     [632360, 30, 1066780, 1080750, 1079620, 107921...   \n",
       "\n",
       "                                           pop_predictions  \n",
       "user_id                                                     \n",
       "464      [377160, 275850, 1091500, 271590, 1174180, 431...  \n",
       "569      [377160, 275850, 1091500, 271590, 1174180, 431...  \n",
       "1040     [377160, 275850, 1091500, 271590, 1174180, 431...  \n",
       "1161     [377160, 275850, 1091500, 271590, 1174180, 431...  \n",
       "1366     [377160, 275850, 1091500, 271590, 1174180, 431...  "
      ]
     },
     "execution_count": 55,
     "metadata": {},
     "output_type": "execute_result"
    }
   ],
   "source": [
    "popularity_recs = recommendations.app_id.value_counts().head(10).index.tolist()\n",
    "pop_recs = []\n",
    "for user in test.index:\n",
    "    pop_predictions = popularity_recs\n",
    "    pop_recs.append(pop_predictions)\n",
    "        \n",
    "test['pop_predictions'] = pop_recs\n",
    "test.head()"
   ]
  },
  {
   "cell_type": "code",
   "execution_count": 56,
   "metadata": {
    "id": "Yg1C5nga3Yeq"
   },
   "outputs": [
    {
     "data": {
      "text/html": [
       "<div>\n",
       "<style scoped>\n",
       "    .dataframe tbody tr th:only-of-type {\n",
       "        vertical-align: middle;\n",
       "    }\n",
       "\n",
       "    .dataframe tbody tr th {\n",
       "        vertical-align: top;\n",
       "    }\n",
       "\n",
       "    .dataframe thead th {\n",
       "        text-align: right;\n",
       "    }\n",
       "</style>\n",
       "<table border=\"1\" class=\"dataframe\">\n",
       "  <thead>\n",
       "    <tr style=\"text-align: right;\">\n",
       "      <th></th>\n",
       "      <th>actual</th>\n",
       "      <th>cf_ngd_predictions</th>\n",
       "      <th>pop_predictions</th>\n",
       "      <th>random_predictions</th>\n",
       "    </tr>\n",
       "    <tr>\n",
       "      <th>user_id</th>\n",
       "      <th></th>\n",
       "      <th></th>\n",
       "      <th></th>\n",
       "      <th></th>\n",
       "    </tr>\n",
       "  </thead>\n",
       "  <tbody>\n",
       "    <tr>\n",
       "      <th>464</th>\n",
       "      <td>[323320, 200510]</td>\n",
       "      <td>[200510, 323320, 1084520, 1080750, 1079620, 10...</td>\n",
       "      <td>[377160, 275850, 1091500, 271590, 1174180, 431...</td>\n",
       "      <td>[588430, 105600, 383120, 829590, 1824220]</td>\n",
       "    </tr>\n",
       "    <tr>\n",
       "      <th>569</th>\n",
       "      <td>[732690, 42700, 335300]</td>\n",
       "      <td>[732690, 42700, 335300, 1066890, 1080750, 1079...</td>\n",
       "      <td>[377160, 275850, 1091500, 271590, 1174180, 431...</td>\n",
       "      <td>[1039880, 4000, 1325200, 641320, 238960]</td>\n",
       "    </tr>\n",
       "    <tr>\n",
       "      <th>1040</th>\n",
       "      <td>[70]</td>\n",
       "      <td>[70, 30, 1066780, 1080750, 1079620, 1079210, 1...</td>\n",
       "      <td>[377160, 275850, 1091500, 271590, 1174180, 431...</td>\n",
       "      <td>[1235140, 250900, 975370, 599140, 582010]</td>\n",
       "    </tr>\n",
       "    <tr>\n",
       "      <th>1161</th>\n",
       "      <td>[431240, 338170, 632360, 17390]</td>\n",
       "      <td>[632360, 17390, 338170, 431240, 30, 1066890, 1...</td>\n",
       "      <td>[377160, 275850, 1091500, 271590, 1174180, 431...</td>\n",
       "      <td>[629760, 12210, 548430, 1816670, 227300]</td>\n",
       "    </tr>\n",
       "    <tr>\n",
       "      <th>1366</th>\n",
       "      <td>[632360]</td>\n",
       "      <td>[632360, 30, 1066780, 1080750, 1079620, 107921...</td>\n",
       "      <td>[377160, 275850, 1091500, 271590, 1174180, 431...</td>\n",
       "      <td>[715400, 313120, 436150, 22380, 1172470]</td>\n",
       "    </tr>\n",
       "  </tbody>\n",
       "</table>\n",
       "</div>"
      ],
      "text/plain": [
       "                                  actual  \\\n",
       "user_id                                    \n",
       "464                     [323320, 200510]   \n",
       "569              [732690, 42700, 335300]   \n",
       "1040                                [70]   \n",
       "1161     [431240, 338170, 632360, 17390]   \n",
       "1366                            [632360]   \n",
       "\n",
       "                                        cf_ngd_predictions  \\\n",
       "user_id                                                      \n",
       "464      [200510, 323320, 1084520, 1080750, 1079620, 10...   \n",
       "569      [732690, 42700, 335300, 1066890, 1080750, 1079...   \n",
       "1040     [70, 30, 1066780, 1080750, 1079620, 1079210, 1...   \n",
       "1161     [632360, 17390, 338170, 431240, 30, 1066890, 1...   \n",
       "1366     [632360, 30, 1066780, 1080750, 1079620, 107921...   \n",
       "\n",
       "                                           pop_predictions  \\\n",
       "user_id                                                      \n",
       "464      [377160, 275850, 1091500, 271590, 1174180, 431...   \n",
       "569      [377160, 275850, 1091500, 271590, 1174180, 431...   \n",
       "1040     [377160, 275850, 1091500, 271590, 1174180, 431...   \n",
       "1161     [377160, 275850, 1091500, 271590, 1174180, 431...   \n",
       "1366     [377160, 275850, 1091500, 271590, 1174180, 431...   \n",
       "\n",
       "                                random_predictions  \n",
       "user_id                                             \n",
       "464      [588430, 105600, 383120, 829590, 1824220]  \n",
       "569       [1039880, 4000, 1325200, 641320, 238960]  \n",
       "1040     [1235140, 250900, 975370, 599140, 582010]  \n",
       "1161      [629760, 12210, 548430, 1816670, 227300]  \n",
       "1366      [715400, 313120, 436150, 22380, 1172470]  "
      ]
     },
     "execution_count": 56,
     "metadata": {},
     "output_type": "execute_result"
    }
   ],
   "source": [
    "#make recommendations for all members in the test data\n",
    "\n",
    "ran_recs = []\n",
    "for user in test.index:\n",
    "    random_predictions = recommendations.app_id.sample(5).values.tolist()\n",
    "    ran_recs.append(random_predictions)\n",
    "        \n",
    "test['random_predictions'] = ran_recs\n",
    "test.head()\n"
   ]
  },
  {
   "attachments": {},
   "cell_type": "markdown",
   "metadata": {
    "id": "sa4h1VN1Vd8W"
   },
   "source": [
    "Recall\n"
   ]
  },
  {
   "cell_type": "code",
   "execution_count": 57,
   "metadata": {
    "id": "WHGii5_-VPWt"
   },
   "outputs": [],
   "source": [
    "actual = test.actual.values.tolist()\n",
    "cf_ngd_predictions = test.cf_ngd_predictions.values.tolist()\n",
    "pop_predictions = test.pop_predictions.values.tolist()\n",
    "random_predictions = test.random_predictions.values.tolist()\n"
   ]
  },
  {
   "cell_type": "code",
   "execution_count": 58,
   "metadata": {
    "id": "bA-H_ZfhzPrJ"
   },
   "outputs": [],
   "source": [
    "import recmetrics\n",
    "import numpy as np"
   ]
  },
  {
   "cell_type": "code",
   "execution_count": 59,
   "metadata": {
    "id": "dzYa8vAsVbvQ"
   },
   "outputs": [
    {
     "data": {
      "text/plain": [
       "[0.01229008667388949,\n",
       " 0.017364862250425633,\n",
       " 0.020578116132693596,\n",
       " 0.022883341716968472,\n",
       " 0.02459215012295998,\n",
       " 0.025764289798620783,\n",
       " 0.026738606394164744,\n",
       " 0.02755512409008385,\n",
       " 0.028328395833922583,\n",
       " 0.028960173680489164]"
      ]
     },
     "execution_count": 59,
     "metadata": {},
     "output_type": "execute_result"
    }
   ],
   "source": [
    "pop_mark = []\n",
    "for K in np.arange(1, 11):\n",
    "    pop_mark.extend([recmetrics.mark(actual, pop_predictions, k=K)])\n",
    "pop_mark"
   ]
  },
  {
   "cell_type": "code",
   "execution_count": 60,
   "metadata": {
    "id": "iht1P8TZZ4mg"
   },
   "outputs": [
    {
     "data": {
      "text/plain": [
       "[0.0027302275189599132,\n",
       " 0.0038822679667750086,\n",
       " 0.004673468159383653,\n",
       " 0.005255394546767787,\n",
       " 0.005763520223907547,\n",
       " 0.005763520223907547,\n",
       " 0.005763520223907547,\n",
       " 0.005763520223907547,\n",
       " 0.005763520223907547,\n",
       " 0.005763520223907547]"
      ]
     },
     "execution_count": 60,
     "metadata": {},
     "output_type": "execute_result"
    }
   ],
   "source": [
    "random_mark = []\n",
    "for K in np.arange(1, 11):\n",
    "    random_mark.extend([recmetrics.mark(actual, random_predictions, k=K)])\n",
    "random_mark"
   ]
  },
  {
   "cell_type": "code",
   "execution_count": 61,
   "metadata": {},
   "outputs": [
    {
     "data": {
      "text/plain": [
       "[0.7322422777054413,\n",
       " 0.9293816301671123,\n",
       " 0.9811526185984475,\n",
       " 0.994462068568244,\n",
       " 0.9978581924275315,\n",
       " 0.999109137521922,\n",
       " 0.9995655719626467,\n",
       " 0.9997743667191121,\n",
       " 0.9998883619089469,\n",
       " 0.9999361478776428]"
      ]
     },
     "execution_count": 61,
     "metadata": {},
     "output_type": "execute_result"
    }
   ],
   "source": [
    "cf_mark_n = []\n",
    "for K in np.arange(1, 11):\n",
    "    cf_mark_n.extend([recmetrics.mark(actual, cf_ngd_predictions, k=K)])\n",
    "cf_mark_n"
   ]
  },
  {
   "cell_type": "code",
   "execution_count": 62,
   "metadata": {
    "id": "j_0dId_QzYmX"
   },
   "outputs": [
    {
     "data": {
      "image/png": "[encoded data removed]",
      "text/plain": [
       "<Figure size 1000x1000 with 1 Axes>"
      ]
     },
     "metadata": {},
     "output_type": "display_data"
    }
   ],
   "source": [
    "mark_scores = [random_mark, pop_mark, cf_mark_n]\n",
    "index = range(1,10+1)\n",
    "names = ['Random Recommender', 'Popularity Recommender', 'Neighborhood based']\n",
    "\n",
    "fig = plt.figure(figsize=(10, 10))\n",
    "recmetrics.mark_plot(mark_scores, model_names=names, k_range=index)"
   ]
  },
  {
   "cell_type": "code",
   "execution_count": 63,
   "metadata": {
    "tags": []
   },
   "outputs": [],
   "source": [
    "\n",
    "def apk(actual, predicted, k=10):\n",
    "    \"\"\"\n",
    "    Computes the average precision at k.\n",
    "    This function computes the average prescision at k between two lists of\n",
    "    items.\n",
    "    Parameters\n",
    "    ----------\n",
    "    actual : list\n",
    "             A list of elements that are to be predicted (order doesn't matter)\n",
    "    predicted : list\n",
    "                A list of predicted elements (order does matter)\n",
    "    k : int, optional\n",
    "        The maximum number of predicted elements\n",
    "    Returns\n",
    "    -------\n",
    "    score : double\n",
    "            The average precision at k over the input lists\n",
    "    \"\"\"\n",
    "    if len(predicted)>k:\n",
    "        predicted = predicted[:k]\n",
    "\n",
    "    score = 0.0\n",
    "    num_hits = 0.0\n",
    "\n",
    "    for i,p in enumerate(predicted):\n",
    "        if p in actual and p not in predicted[:i]:\n",
    "            num_hits += 1.0\n",
    "            score += num_hits / (i+1.0)\n",
    "\n",
    "    if not actual:\n",
    "        return 0.0\n",
    "\n",
    "    return score / min(len(actual), k)\n",
    "\n",
    "def mapk(actual, predicted, k=10):\n",
    "    \"\"\"\n",
    "    Computes the mean average precision at k.\n",
    "    This function computes the mean average prescision at k between two lists\n",
    "    of lists of items.\n",
    "    Parameters\n",
    "    ----------\n",
    "    actual : list\n",
    "             A list of lists of elements that are to be predicted \n",
    "             (order doesn't matter in the lists)\n",
    "    predicted : list\n",
    "                A list of lists of predicted elements\n",
    "                (order matters in the lists)\n",
    "    k : int, optional\n",
    "        The maximum number of predicted elements\n",
    "    Returns\n",
    "    -------\n",
    "    score : double\n",
    "            The mean average precision at k over the input lists\n",
    "    \"\"\"\n",
    "    return np.mean([apk(a,p,k) for a,p in zip(actual, predicted)])"
   ]
  },
  {
   "cell_type": "code",
   "execution_count": 64,
   "metadata": {
    "tags": []
   },
   "outputs": [
    {
     "data": {
      "text/plain": [
       "[0.020260021668472374,\n",
       " 0.019298483206933913,\n",
       " 0.021045503791982664,\n",
       " 0.02298550920910076,\n",
       " 0.024625631997110868,\n",
       " 0.025773248465149872,\n",
       " 0.026741942190382832,\n",
       " 0.02755595170534808,\n",
       " 0.028328902563392842,\n",
       " 0.02896031258095309]"
      ]
     },
     "execution_count": 64,
     "metadata": {},
     "output_type": "execute_result"
    }
   ],
   "source": [
    "pop_mapk = []\n",
    "for K in np.arange(1, 11):\n",
    "    pop_mapk.extend([mapk(actual, pop_predictions,k= K)])\n",
    "pop_mapk"
   ]
  },
  {
   "cell_type": "code",
   "execution_count": 65,
   "metadata": {
    "tags": []
   },
   "outputs": [
    {
     "data": {
      "text/plain": [
       "[0.004279523293607801,\n",
       " 0.004265980498374865,\n",
       " 0.004764054411941736,\n",
       " 0.005271156855663898,\n",
       " 0.005766642590586252,\n",
       " 0.0057648368845551945,\n",
       " 0.005764191989544102,\n",
       " 0.005763708318285783,\n",
       " 0.005763520223907547,\n",
       " 0.005763520223907547]"
      ]
     },
     "execution_count": 65,
     "metadata": {},
     "output_type": "execute_result"
    }
   ],
   "source": [
    "random_mapk = []\n",
    "for K in np.arange(1, 11):\n",
    "    random_mapk.extend([mapk(actual, random_predictions, k=K)])\n",
    "random_mapk"
   ]
  },
  {
   "cell_type": "code",
   "execution_count": 66,
   "metadata": {
    "tags": []
   },
   "outputs": [
    {
     "data": {
      "text/plain": [
       "[1.0, 1.0, 1.0, 1.0, 1.0, 1.0, 1.0, 1.0, 1.0, 1.0]"
      ]
     },
     "execution_count": 66,
     "metadata": {},
     "output_type": "execute_result"
    }
   ],
   "source": [
    "cf_mapk_n = []\n",
    "for K in np.arange(1, 11):\n",
    "    cf_mapk_n.extend([mapk(actual, cf_ngd_predictions, k=K)])\n",
    "cf_mapk_n"
   ]
  },
  {
   "cell_type": "code",
   "execution_count": 67,
   "metadata": {
    "tags": []
   },
   "outputs": [
    {
     "data": {
      "image/png": "[encoded data removed]",
      "text/plain": [
       "<Figure size 1000x1000 with 1 Axes>"
      ]
     },
     "metadata": {},
     "output_type": "display_data"
    }
   ],
   "source": [
    "mark_scores = [random_mapk, pop_mapk, cf_mapk_n]\n",
    "index = range(1,10+1)\n",
    "names = ['Random Recommender', 'Popularity Recommender','Neighborhood based']\n",
    "\n",
    "fig = plt.figure(figsize=(10, 10))\n",
    "recmetrics.mapk_plot(mark_scores, model_names=names, k_range=index)"
   ]
  },
  {
   "cell_type": "code",
   "execution_count": 68,
   "metadata": {
    "id": "XhGsAP5NzgPO"
   },
   "outputs": [],
   "source": [
    "catalog = recommendations.app_id.unique().tolist()\n",
    "random_coverage = recmetrics.prediction_coverage(ran_recs, catalog)\n",
    "pop_coverage = recmetrics.prediction_coverage(pop_recs, catalog)\n",
    "cf_coverage_n = recmetrics.prediction_coverage(cf_recs_n, catalog)"
   ]
  },
  {
   "cell_type": "code",
   "execution_count": 69,
   "metadata": {
    "id": "gRZGHvxbzpK2"
   },
   "outputs": [],
   "source": [
    "# N=100 observed recommendation lists\n",
    "random_cat_coverage = recmetrics.catalog_coverage(ran_recs, catalog, 100)\n",
    "pop_cat_coverage = recmetrics.catalog_coverage(pop_recs, catalog, 100)\n",
    "cf_cat_coverage_n = recmetrics.catalog_coverage(cf_recs_n, catalog, 100)"
   ]
  },
  {
   "cell_type": "code",
   "execution_count": 70,
   "metadata": {
    "id": "6W20gb4NzrSa"
   },
   "outputs": [
    {
     "data": {
      "image/png": "[encoded data removed]",
      "text/plain": [
       "<Figure size 700x500 with 1 Axes>"
      ]
     },
     "metadata": {},
     "output_type": "display_data"
    }
   ],
   "source": [
    "# plot of prediction coverage\n",
    "coverage_scores = [random_coverage, pop_coverage, cf_coverage_n]\n",
    "model_names = ['Random Recommender', 'Popularity Recommender', 'Neighborhood']\n",
    "\n",
    "fig = plt.figure(figsize=(7, 5))\n",
    "recmetrics.coverage_plot(coverage_scores, model_names)"
   ]
  },
  {
   "cell_type": "code",
   "execution_count": 71,
   "metadata": {
    "id": "u3znVZiOzxk6"
   },
   "outputs": [],
   "source": [
    "nov = recommendations.app_id.value_counts()\n",
    "pop = dict(nov)"
   ]
  },
  {
   "cell_type": "code",
   "execution_count": 72,
   "metadata": {
    "id": "AETiZKZHz3Pg"
   },
   "outputs": [],
   "source": [
    "random_novelty,random_mselfinfo_list = recmetrics.novelty(ran_recs, pop, len(users), 10)\n",
    "pop_novelty,pop_mselfinfo_list = recmetrics.novelty(pop_recs, pop, len(users), 10)\n",
    "cf_novelty_n,cf_mselfinfo_list = recmetrics.novelty(cf_recs_n, pop, len(users), 10)"
   ]
  },
  {
   "cell_type": "code",
   "execution_count": 73,
   "metadata": {
    "id": "82sLSp8sz7n7",
    "tags": []
   },
   "outputs": [
    {
     "name": "stdout",
     "output_type": "stream",
     "text": [
      "7.807899792586648 13.27177957652021 18.940192493145776\n"
     ]
    }
   ],
   "source": [
    "print(random_novelty, pop_novelty, cf_novelty_n)"
   ]
  },
  {
   "attachments": {},
   "cell_type": "markdown",
   "metadata": {
    "id": "MlD75Gf7vOg_",
    "tags": []
   },
   "source": [
    "# Hybrid model"
   ]
  },
  {
   "cell_type": "code",
   "execution_count": 102,
   "metadata": {
    "tags": []
   },
   "outputs": [],
   "source": [
    "def read_item_names(app_df):\n",
    "    \"\"\"Read the u.item file from dataset and return two\n",
    "    mappings to convert raw ids into movie names and movie names into raw ids.\n",
    "    \"\"\"\n",
    "    app = app_df\n",
    "    rid_to_name = dict(zip(app['app_id'], app['title']))\n",
    "    name_to_rid = dict(zip( app['title'],app['app_id']))\n",
    "\n",
    "    return rid_to_name, name_to_rid\n",
    "\n",
    "def get_k_nearest_apps(algo, app_df, app_name):\n",
    "\n",
    "  # Read the mappings raw id <-> movie name\n",
    "  rid_to_name, name_to_rid = read_item_names(app_df)\n",
    "\n",
    "  app_raw_id = name_to_rid[app_name]\n",
    "  app_inner_id = algo.trainset.to_inner_iid(app_raw_id)\n",
    "\n",
    "  app_neighbors = algo.get_neighbors(app_inner_id, k=3)\n",
    "\n",
    "  # Convert inner ids of the neighbors into names.\n",
    "  app_neighbors = (\n",
    "      algo.trainset.to_raw_iid(inner_id) for inner_id in app_neighbors\n",
    "  )\n",
    "  app_neighbors_names = (rid_to_name[rid] for rid in app_neighbors)\n",
    "\n",
    "  return app_neighbors, app_neighbors_names"
   ]
  },
  {
   "cell_type": "code",
   "execution_count": 75,
   "metadata": {
    "tags": []
   },
   "outputs": [],
   "source": [
    "import math\n",
    "def sim_p(n_x, yr, min_support):\n",
    "\n",
    "    prods = np.zeros((n_x, n_x), np.double)\n",
    "    # number of common ys\n",
    "    freq = np.zeros((n_x, n_x), np.int_)\n",
    "    # sum (r_xy ^ 2) for common ys\n",
    "    sqi = np.zeros((n_x, n_x), np.double)\n",
    "    # sum (r_x'y ^ 2) for common ys\n",
    "    sqj = np.zeros((n_x, n_x), np.double)\n",
    "    # the similarity matrix\n",
    "    sim = np.zeros((n_x, n_x), np.double)\n",
    "\n",
    "    min_sprt = min_support\n",
    "\n",
    "    for y, y_ratings in yr.items():\n",
    "        for xi, ri in y_ratings:\n",
    "            for xj, rj in y_ratings:\n",
    "                freq[xi, xj] += 1\n",
    "                prods[xi, xj] += ri * rj\n",
    "                sqi[xi, xj] += ri**2\n",
    "                sqj[xi, xj] += rj**2\n",
    "\n",
    "    for xi in range(n_x):\n",
    "        sim[xi, xi] = 1\n",
    "        for xj in range(xi + 1, n_x):\n",
    "            if freq[xi, xj] < min_sprt:\n",
    "                sim[xi, xj] = 0\n",
    "            else:\n",
    "                denum = math.sqrt(sqi[xi, xj] * sqj[xi, xj])\n",
    "                sim[xi, xj] = prods[xi, xj] / denum\n",
    "\n",
    "            sim[xj, xi] = sim[xi, xj]\n",
    "\n",
    "    return np.asarray(sim)"
   ]
  },
  {
   "cell_type": "code",
   "execution_count": 76,
   "metadata": {
    "tags": []
   },
   "outputs": [],
   "source": [
    "class HybridModel(SymmetricAlgo):\n",
    "\n",
    "    def __init__(self, k=40, min_k=1, sim_options={}, verbose=True, **kwargs):\n",
    "\n",
    "        SymmetricAlgo.__init__(self, sim_options=sim_options, verbose=verbose, **kwargs)\n",
    "        self.k = k\n",
    "        self.min_k = min_k\n",
    "        self.liked = []\n",
    "    def fit(self, trainset):\n",
    "\n",
    "        SymmetricAlgo.fit(self, trainset)\n",
    "        self.sim = self.compute_similarities()\n",
    "\n",
    "        return self\n",
    "    def compute_similarities(self):\n",
    "        \"\"\"Build the similarity matrix.\n",
    "\n",
    "        Returns:\n",
    "            The similarity matrix.\"\"\"\n",
    "\n",
    "        construction_func = {\n",
    "            \"msd\": sim_p,\n",
    "        }\n",
    "\n",
    "        if self.sim_options[\"user_based\"]:\n",
    "            n_x, yr = self.trainset.n_users, self.trainset.ir\n",
    "        else:\n",
    "            n_x, yr = self.trainset.n_items, self.trainset.ur\n",
    "\n",
    "        min_support = self.sim_options.get(\"min_support\", 1)\n",
    "\n",
    "        args = [n_x, yr, min_support]\n",
    "\n",
    "        name = self.sim_options.get(\"name\", \"msd\").lower()\n",
    "        if name == \"pearson_baseline\":\n",
    "            shrinkage = self.sim_options.get(\"shrinkage\", 100)\n",
    "            bu, bi = self.compute_baselines()\n",
    "            if self.sim_options[\"user_based\"]:\n",
    "                bx, by = bu, bi\n",
    "            else:\n",
    "                bx, by = bi, bu\n",
    "\n",
    "            args += [self.trainset.global_mean, bx, by, shrinkage]\n",
    "\n",
    "        try:\n",
    "            if getattr(self, \"verbose\", False):\n",
    "                print(f\"Computing the {name} similarity matrix...\")\n",
    "            sim = construction_func[name](*args)\n",
    "            if getattr(self, \"verbose\", False):\n",
    "                print(\"Done computing similarity matrix.\")\n",
    "            return sim\n",
    "        except KeyError:\n",
    "            raise NameError(\n",
    "                \"Wrong sim name \"\n",
    "                + name\n",
    "                + \". Allowed values \"\n",
    "                + \"are \"\n",
    "                + \", \".join(construction_func.keys())\n",
    "                + \".\"\n",
    "            )\n",
    "    def estimate(self, u, i):\n",
    "\n",
    "        if not (self.trainset.knows_user(u) and self.trainset.knows_item(i)):\n",
    "            raise PredictionImpossible(\"User and/or item is unknown.\")\n",
    "\n",
    "        x, y = self.switch(u, i)\n",
    "\n",
    "        neighbors = [(self.sim[x, x2], r) for (x2, r) in self.yr[y]]\n",
    "        k_neighbors = heapq.nlargest(self.k, neighbors, key=lambda t: t[0])\n",
    "\n",
    "        # compute weighted average\n",
    "        sum_sim = sum_ratings = actual_k = 0\n",
    "        for (sim, r) in k_neighbors:\n",
    "            if sim > 0:\n",
    "                sum_sim += sim\n",
    "                sum_ratings += sim * r\n",
    "                actual_k += 1\n",
    "\n",
    "        if actual_k < self.min_k:\n",
    "            raise PredictionImpossible(\"Not enough neighbors.\")\n",
    "\n",
    "        est = sum_ratings / sum_sim\n",
    "\n",
    "        details = {\"actual_k\": actual_k}\n",
    "        return est, details\n",
    "    def get_df_cond():\n",
    "        print(\"Enter your maximum price in dollars.\")\n",
    "        max_p = float(input())\n",
    "        print(\"Enter some tags you like. Seperate tags by commas.\")\n",
    "        tags = input().split(',')\n",
    "        print(\"Do you want to be able to play it on Windows? Enter 1 for yes and 0 for doesn't matter\")\n",
    "        w = int(input())\n",
    "        print(\"Do you want to be able to play it on Linux? Enter 1 for yes and 0 for doesn't matter\")\n",
    "        l = int(input())\n",
    "        print(\"Do you want to be able to play it on MacOS? Enter 1 for yes and 0 for doesn't matter\")\n",
    "        m = int(input())\n",
    "        print(\"Do you want to be able to play it on SteamDeck? Enter 1 for yes and 0 for doesn't matter\")\n",
    "        sd = int(input())\n",
    "        return [max_p, tags, w, l, m, sd]\n",
    "    def add_liked(self, item):\n",
    "        self.liked.append(item)"
   ]
  },
  {
   "cell_type": "code",
   "execution_count": 77,
   "metadata": {
    "tags": []
   },
   "outputs": [],
   "source": [
    "def narrow():\n",
    "    meta_df = games_metadata.drop(columns = 'description', axis = 1)\n",
    "    games = pd.read_csv('SteamDataset/games.csv')\n",
    "    l = HybridModel.get_df_cond()\n",
    "    cond = (games['price_final'] <= l[0])\n",
    "    result = games[cond].app_id\n",
    "    games = games_df\n",
    "    cond = (games.app_id.isin(result)) & (games['win']==l[2] if l[3]==1 else True) & (games['linux']==l[3] if l[3]==1 else True) & (games['mac']==l[4] if l[4]==1 else True) & (games['steam_deck']==l[5] if l[5]==1 else True)\n",
    "    result = games[cond].app_id\n",
    "    cond = (meta_df.app_id.isin(result)) & (meta_df.tags.map(set(l[1]).issubset)) & (meta_df.app_id.isin(recommendations.app_id))\n",
    "    result = meta_df[cond].app_id\n",
    "    return result"
   ]
  },
  {
   "cell_type": "code",
   "execution_count": 78,
   "metadata": {
    "tags": []
   },
   "outputs": [],
   "source": [
    "def train_hybrid(algo, q):    \n",
    "    reader = Reader(rating_scale=(1, 5))\n",
    "    df = recommendations.loc[recommendations.app_id.isin(q)]\n",
    "    print(df)\n",
    "    data = Dataset.load_from_df(df[[\"user_id\", \"app_id\", \"rating\"]], reader)\n",
    "    trainset = data.build_full_trainset()\n",
    "    algo.fit(trainset)"
   ]
  },
  {
   "cell_type": "code",
   "execution_count": 79,
   "metadata": {
    "tags": []
   },
   "outputs": [
    {
     "name": "stdout",
     "output_type": "stream",
     "text": [
      "Enter your maximum price in dollars.\n"
     ]
    },
    {
     "name": "stdout",
     "output_type": "stream",
     "text": [
      " 25\n"
     ]
    },
    {
     "name": "stdout",
     "output_type": "stream",
     "text": [
      "Enter some tags you like. Seperate tags by commas.\n"
     ]
    },
    {
     "name": "stdout",
     "output_type": "stream",
     "text": [
      " Action,Zombies\n"
     ]
    },
    {
     "name": "stdout",
     "output_type": "stream",
     "text": [
      "Do you want to be able to play it on Windows? Enter 1 for yes and 0 for doesn't matter\n"
     ]
    },
    {
     "name": "stdout",
     "output_type": "stream",
     "text": [
      " 1\n"
     ]
    },
    {
     "name": "stdout",
     "output_type": "stream",
     "text": [
      "Do you want to be able to play it on Linux? Enter 1 for yes and 0 for doesn't matter\n"
     ]
    },
    {
     "name": "stdout",
     "output_type": "stream",
     "text": [
      " 0\n"
     ]
    },
    {
     "name": "stdout",
     "output_type": "stream",
     "text": [
      "Do you want to be able to play it on MacOS? Enter 1 for yes and 0 for doesn't matter\n"
     ]
    },
    {
     "name": "stdout",
     "output_type": "stream",
     "text": [
      " 0\n"
     ]
    },
    {
     "name": "stdout",
     "output_type": "stream",
     "text": [
      "Do you want to be able to play it on SteamDeck? Enter 1 for yes and 0 for doesn't matter\n"
     ]
    },
    {
     "name": "stdout",
     "output_type": "stream",
     "text": [
      " 0\n"
     ]
    },
    {
     "name": "stdout",
     "output_type": "stream",
     "text": [
      "           app_id  helpful  funny        date  is_recommended  hours  user_id  \\\n",
      "8891663     21690        0      0  2016-01-19            True   72.4  1866494   \n",
      "9916394    254700        0      0  2017-10-18           False    1.1   113880   \n",
      "11210190   418370       61     28  2017-07-29            True   41.8  4867281   \n",
      "11147316      500        0      0  2021-04-19            True    0.4   131015   \n",
      "8805000   1180380        0      0  2021-12-20            True    9.3  2776701   \n",
      "...           ...      ...    ...         ...             ...    ...      ...   \n",
      "9992490     17470        0      0  2022-08-16            True   10.0  4580536   \n",
      "11220641   418370       32      3  2018-02-05            True   35.4  6153452   \n",
      "5639684    242760        0      3  2020-04-25            True   27.4  3199846   \n",
      "9415306   1621070        0      0  2022-08-07            True    7.6    21903   \n",
      "11197407   555160       35     19  2018-12-11            True   19.7  6102118   \n",
      "\n",
      "          review_id rating  \n",
      "8891663     8891663      4  \n",
      "9916394     9916394      2  \n",
      "11210190   11210190      5  \n",
      "11147316   11147316      2  \n",
      "8805000     8805000      2  \n",
      "...             ...    ...  \n",
      "9992490     9992490      1  \n",
      "11220641   11220641      3  \n",
      "5639684     5639684      3  \n",
      "9415306     9415306      3  \n",
      "11197407   11197407      3  \n",
      "\n",
      "[2427 rows x 9 columns]\n",
      "Computing the msd similarity matrix...\n",
      "Done computing similarity matrix.\n"
     ]
    }
   ],
   "source": [
    "algo = HybridModel(sim_options = {\n",
    "    \"name\": \"msd\"\n",
    "})\n",
    "n_id = narrow()\n",
    "train_hybrid(algo, n_id)"
   ]
  },
  {
   "cell_type": "code",
   "execution_count": 80,
   "metadata": {
    "tags": []
   },
   "outputs": [
    {
     "data": {
      "text/plain": [
       "0          10090\n",
       "99        362890\n",
       "1825        7800\n",
       "1869      921060\n",
       "2348      379720\n",
       "2650     1473480\n",
       "3002      254700\n",
       "3886      513710\n",
       "3900      691320\n",
       "3964      304930\n",
       "4672     1180380\n",
       "5853     1552620\n",
       "6120      360170\n",
       "6224      266310\n",
       "6822      219990\n",
       "6956      363930\n",
       "7280      965200\n",
       "7764     1264920\n",
       "7880     1627850\n",
       "9525      789760\n",
       "9693         500\n",
       "9712      383150\n",
       "9749      924970\n",
       "10367     525510\n",
       "10653    1524630\n",
       "10688     418370\n",
       "11223     239140\n",
       "11870     233740\n",
       "12312     500260\n",
       "12417     250400\n",
       "12961     395200\n",
       "13042    1969870\n",
       "13070     366090\n",
       "13688        220\n",
       "13800     242760\n",
       "13918     555160\n",
       "14196     251570\n",
       "14536     322210\n",
       "15194    1137970\n",
       "15483    1369630\n",
       "15637      21690\n",
       "15907    1621070\n",
       "16184     339230\n",
       "16246    1621760\n",
       "16413     671510\n",
       "17797    1262460\n",
       "18280        550\n",
       "18599     224580\n",
       "18733     666570\n",
       "19541    1243200\n",
       "21242      17470\n",
       "Name: app_id, dtype: int64"
      ]
     },
     "execution_count": 80,
     "metadata": {},
     "output_type": "execute_result"
    }
   ],
   "source": [
    "n_id"
   ]
  },
  {
   "cell_type": "code",
   "execution_count": 86,
   "metadata": {
    "tags": []
   },
   "outputs": [
    {
     "name": "stdout",
     "output_type": "stream",
     "text": [
      "Left 4 Dead 2\n",
      "Dead Island Definitive Edition\n",
      "Dead Space (2008)\n",
      "DESOLATE\n",
      "Guns Gore and Cannoli 2\n",
      "Enter a list of numbers which you liked!\n"
     ]
    },
    {
     "name": "stdout",
     "output_type": "stream",
     "text": [
      " 1,2\n"
     ]
    },
    {
     "data": {
      "text/plain": [
       "[383150, 17470]"
      ]
     },
     "execution_count": 86,
     "metadata": {},
     "output_type": "execute_result"
    }
   ],
   "source": [
    "con1, con2 = read_item_names(games.loc[games.app_id.isin(n_id)])\n",
    "import random\n",
    "seed = random.choice(list(n_id))\n",
    "y = get_k_nearest_apps(algo, games.loc[games.app_id.isin(n_id)], con1[seed])\n",
    "for i in y[0]:\n",
    "    print(con1[i])\n",
    "print(\"Enter a list of numbers which you liked!\")\n",
    "z = list(map(int, input().split(',')))\n",
    "o = []\n",
    "c = 0\n",
    "y = get_k_nearest_apps(algo, games.loc[games.app_id.isin(n_id)], con1[seed])\n",
    "for i in y[0]:\n",
    "    #print(c, i)\n",
    "    if c in z:\n",
    "        o.append(i)\n",
    "    c += 1\n",
    "o"
   ]
  },
  {
   "cell_type": "code",
   "execution_count": 87,
   "metadata": {
    "tags": []
   },
   "outputs": [
    {
     "data": {
      "text/plain": [
       "[383150, 17470]"
      ]
     },
     "execution_count": 87,
     "metadata": {},
     "output_type": "execute_result"
    }
   ],
   "source": [
    "for i in o:\n",
    "    algo.add_liked(i)\n",
    "algo.liked"
   ]
  },
  {
   "cell_type": "code",
   "execution_count": 90,
   "metadata": {
    "tags": []
   },
   "outputs": [
    {
     "name": "stdout",
     "output_type": "stream",
     "text": [
      "You final recommendations are: \n",
      "resident evil 4 (2005)\n",
      "Left 4 Dead 2\n",
      "DESOLATE\n",
      "Guns Gore and Cannoli 2\n"
     ]
    }
   ],
   "source": [
    "def get_final_rec(algo, n_id):\n",
    "    liked = algo.liked\n",
    "    d = {}\n",
    "    for i in liked:\n",
    "        for j in get_k_nearest_apps(algo, games.loc[games.app_id.isin(n_id)], con1[i]):\n",
    "            if(j not in d.keys()):\n",
    "                d[j] = 1\n",
    "            else:\n",
    "                d[j] += 1\n",
    "    return (max(d, key = d.get))\n",
    "con1, con2 = read_item_names(games.loc[games.app_id.isin(n_id)])\n",
    "print(\"You final recommendations are: \")\n",
    "for i in get_final_rec(algo, n_id):\n",
    "    if i not in o:\n",
    "        print(con1[i])"
   ]
  },
  {
   "cell_type": "code",
   "execution_count": 113,
   "metadata": {
    "tags": []
   },
   "outputs": [
    {
     "name": "stdout",
     "output_type": "stream",
     "text": [
      "Enter your maximum price in dollars.\n"
     ]
    },
    {
     "name": "stdout",
     "output_type": "stream",
     "text": [
      " 100\n"
     ]
    },
    {
     "name": "stdout",
     "output_type": "stream",
     "text": [
      "Enter some tags you like. Seperate tags by commas.\n"
     ]
    },
    {
     "name": "stdout",
     "output_type": "stream",
     "text": [
      " Stealth\n"
     ]
    },
    {
     "name": "stdout",
     "output_type": "stream",
     "text": [
      "Do you want to be able to play it on Windows? Enter 1 for yes and 0 for doesn't matter\n"
     ]
    },
    {
     "name": "stdout",
     "output_type": "stream",
     "text": [
      " 1\n"
     ]
    },
    {
     "name": "stdout",
     "output_type": "stream",
     "text": [
      "Do you want to be able to play it on Linux? Enter 1 for yes and 0 for doesn't matter\n"
     ]
    },
    {
     "name": "stdout",
     "output_type": "stream",
     "text": [
      " 1\n"
     ]
    },
    {
     "name": "stdout",
     "output_type": "stream",
     "text": [
      "Do you want to be able to play it on MacOS? Enter 1 for yes and 0 for doesn't matter\n"
     ]
    },
    {
     "name": "stdout",
     "output_type": "stream",
     "text": [
      " 0\n"
     ]
    },
    {
     "name": "stdout",
     "output_type": "stream",
     "text": [
      "Do you want to be able to play it on SteamDeck? Enter 1 for yes and 0 for doesn't matter\n"
     ]
    },
    {
     "name": "stdout",
     "output_type": "stream",
     "text": [
      " 0\n"
     ]
    },
    {
     "name": "stdout",
     "output_type": "stream",
     "text": [
      "           app_id  helpful  funny        date  is_recommended  hours  user_id  \\\n",
      "11257581   512900       30      0  2022-06-11            True  117.0  4045888   \n",
      "1095926    218620        0      0  2016-04-14            True  220.1  1913978   \n",
      "10708984  1545990        0      0  2022-11-14            True    7.3   461206   \n",
      "4750630    218620       13      0  2016-11-24            True  764.7  6098857   \n",
      "3987452    218620        2      0  2019-09-06            True   48.4  3725012   \n",
      "...           ...      ...    ...         ...             ...    ...      ...   \n",
      "2025139    218620        0      0  2015-08-11            True  252.9  4915124   \n",
      "7393959    412020        2      0  2020-07-27            True    3.1  3725434   \n",
      "8929572    238320        0      0  2020-11-14            True    1.5  3840238   \n",
      "2812591    218620       76      0  2015-10-15           False  250.7  4017204   \n",
      "3744710    218620        3      0  2014-02-27            True  385.2   566826   \n",
      "\n",
      "          review_id rating  \n",
      "11257581   11257581      5  \n",
      "1095926     1095926      5  \n",
      "10708984   10708984      1  \n",
      "4750630     4750630      5  \n",
      "3987452     3987452      5  \n",
      "...             ...    ...  \n",
      "2025139     2025139      5  \n",
      "7393959     7393959      2  \n",
      "8929572     8929572      1  \n",
      "2812591     2812591      2  \n",
      "3744710     3744710      5  \n",
      "\n",
      "[1575 rows x 9 columns]\n",
      "Computing the msd similarity matrix...\n",
      "Done computing similarity matrix.\n"
     ]
    }
   ],
   "source": [
    "#Second example\n",
    "algo = HybridModel(sim_options = {\n",
    "    \"name\": \"msd\"\n",
    "})\n",
    "n_id = narrow()\n",
    "train_hybrid(algo, n_id)"
   ]
  },
  {
   "cell_type": "code",
   "execution_count": 116,
   "metadata": {
    "tags": []
   },
   "outputs": [
    {
     "name": "stdout",
     "output_type": "stream",
     "text": [
      "PAYDAY 2\n",
      "Alien: Isolation\n",
      "Outlast\n",
      "Enter a list of numbers which you liked!\n"
     ]
    },
    {
     "name": "stdout",
     "output_type": "stream",
     "text": [
      " 1\n"
     ]
    },
    {
     "name": "stdout",
     "output_type": "stream",
     "text": [
      "You final recommendations are: \n",
      "Metro Exodus\n",
      "Penumbra Overture\n",
      "Oddworld: New 'n' Tasty\n"
     ]
    }
   ],
   "source": [
    "con1, con2 = read_item_names(games.loc[games.app_id.isin(n_id)])\n",
    "seed = random.choice(list(n_id))\n",
    "y = get_k_nearest_apps(algo, games.loc[games.app_id.isin(n_id)], con1[seed])\n",
    "for i in y[0]:\n",
    "    print(con1[i])\n",
    "print(\"Enter a list of numbers which you liked!\")\n",
    "z = list(map(int, input().split(',')))\n",
    "o = []\n",
    "c = 0\n",
    "y = get_k_nearest_apps(algo, games.loc[games.app_id.isin(n_id)], con1[seed])\n",
    "for i in y[0]:\n",
    "    #print(c, i)\n",
    "    if c in z:\n",
    "        o.append(i)\n",
    "    c += 1\n",
    "for i in o:\n",
    "    algo.add_liked(i)\n",
    "con1, con2 = read_item_names(games.loc[games.app_id.isin(n_id)])\n",
    "print(\"You final recommendations are: \")\n",
    "for i in get_final_rec(algo, n_id):\n",
    "    if i not in o:\n",
    "        print(con1[i])"
   ]
  }
 ],
 "metadata": {
  "colab": {
   "provenance": []
  },
  "gpuClass": "standard",
  "kernelspec": {
   "display_name": "env",
   "language": "python",
   "name": "env"
  },
  "language_info": {
   "codemirror_mode": {
    "name": "ipython",
    "version": 3
   },
   "file_extension": ".py",
   "mimetype": "text/x-python",
   "name": "python",
   "nbconvert_exporter": "python",
   "pygments_lexer": "ipython3",
   "version": "3.10.8"
  },
  "toc-autonumbering": true,
  "toc-showcode": false,
  "toc-showmarkdowntxt": false,
  "toc-showtags": false
 },
 "nbformat": 4,
 "nbformat_minor": 4
}
